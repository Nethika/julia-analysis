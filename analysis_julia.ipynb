{
 "cells": [
  {
   "cell_type": "code",
   "execution_count": 1,
   "metadata": {},
   "outputs": [
    {
     "name": "stdout",
     "output_type": "stream",
     "text": [
      "1  2  6  24  120  Loop Done120"
     ]
    }
   ],
   "source": [
    "fact=1 \n",
    "for i in range(1,5) \n",
    "    fact = fact*i \n",
    "    print(fact)\n",
    "    print(\"  \")\n",
    "end \n",
    "print(\"Loop Done\")\n",
    "print(fact)"
   ]
  },
  {
   "cell_type": "code",
   "execution_count": 2,
   "metadata": {
    "collapsed": true
   },
   "outputs": [],
   "source": [
    "using Pkg"
   ]
  },
  {
   "cell_type": "code",
   "execution_count": 3,
   "metadata": {
    "collapsed": true
   },
   "outputs": [],
   "source": [
    "using DataFrames"
   ]
  },
  {
   "cell_type": "code",
   "execution_count": 4,
   "metadata": {
    "collapsed": true
   },
   "outputs": [],
   "source": [
    "using CSV"
   ]
  },
  {
   "cell_type": "code",
   "execution_count": 6,
   "metadata": {},
   "outputs": [
    {
     "data": {
      "text/html": [
       "<table class=\"data-frame\"><thead><tr><th></th><th>Loan_ID</th><th>Gender</th><th>Married</th><th>Dependents</th><th>Education</th><th>Self_Employed</th><th>ApplicantIncome</th><th>CoapplicantIncome</th><th>LoanAmount</th><th>Loan_Amount_Term</th><th>Credit_History</th><th>Property_Area</th><th>Loan_Status</th></tr><tr><th></th><th>String⍰</th><th>String⍰</th><th>String⍰</th><th>String⍰</th><th>String⍰</th><th>String⍰</th><th>Int64⍰</th><th>Float64⍰</th><th>Int64⍰</th><th>Int64⍰</th><th>Int64⍰</th><th>String⍰</th><th>String⍰</th></tr></thead><tbody><tr><th>1</th><td>LP001002</td><td>Male</td><td>No</td><td>0</td><td>Graduate</td><td>No</td><td>5849</td><td>0.0</td><td>missing</td><td>360</td><td>1</td><td>Urban</td><td>Y</td></tr><tr><th>2</th><td>LP001003</td><td>Male</td><td>Yes</td><td>1</td><td>Graduate</td><td>No</td><td>4583</td><td>1508.0</td><td>128</td><td>360</td><td>1</td><td>Rural</td><td>N</td></tr><tr><th>3</th><td>LP001005</td><td>Male</td><td>Yes</td><td>0</td><td>Graduate</td><td>Yes</td><td>3000</td><td>0.0</td><td>66</td><td>360</td><td>1</td><td>Urban</td><td>Y</td></tr><tr><th>4</th><td>LP001006</td><td>Male</td><td>Yes</td><td>0</td><td>Not Graduate</td><td>No</td><td>2583</td><td>2358.0</td><td>120</td><td>360</td><td>1</td><td>Urban</td><td>Y</td></tr><tr><th>5</th><td>LP001008</td><td>Male</td><td>No</td><td>0</td><td>Graduate</td><td>No</td><td>6000</td><td>0.0</td><td>141</td><td>360</td><td>1</td><td>Urban</td><td>Y</td></tr><tr><th>6</th><td>LP001011</td><td>Male</td><td>Yes</td><td>2</td><td>Graduate</td><td>Yes</td><td>5417</td><td>4196.0</td><td>267</td><td>360</td><td>1</td><td>Urban</td><td>Y</td></tr><tr><th>7</th><td>LP001013</td><td>Male</td><td>Yes</td><td>0</td><td>Not Graduate</td><td>No</td><td>2333</td><td>1516.0</td><td>95</td><td>360</td><td>1</td><td>Urban</td><td>Y</td></tr><tr><th>8</th><td>LP001014</td><td>Male</td><td>Yes</td><td>3+</td><td>Graduate</td><td>No</td><td>3036</td><td>2504.0</td><td>158</td><td>360</td><td>0</td><td>Semiurban</td><td>N</td></tr><tr><th>9</th><td>LP001018</td><td>Male</td><td>Yes</td><td>2</td><td>Graduate</td><td>No</td><td>4006</td><td>1526.0</td><td>168</td><td>360</td><td>1</td><td>Urban</td><td>Y</td></tr><tr><th>10</th><td>LP001020</td><td>Male</td><td>Yes</td><td>1</td><td>Graduate</td><td>No</td><td>12841</td><td>10968.0</td><td>349</td><td>360</td><td>1</td><td>Semiurban</td><td>N</td></tr><tr><th>11</th><td>LP001024</td><td>Male</td><td>Yes</td><td>2</td><td>Graduate</td><td>No</td><td>3200</td><td>700.0</td><td>70</td><td>360</td><td>1</td><td>Urban</td><td>Y</td></tr><tr><th>12</th><td>LP001027</td><td>Male</td><td>Yes</td><td>2</td><td>Graduate</td><td>missing</td><td>2500</td><td>1840.0</td><td>109</td><td>360</td><td>1</td><td>Urban</td><td>Y</td></tr><tr><th>13</th><td>LP001028</td><td>Male</td><td>Yes</td><td>2</td><td>Graduate</td><td>No</td><td>3073</td><td>8106.0</td><td>200</td><td>360</td><td>1</td><td>Urban</td><td>Y</td></tr><tr><th>14</th><td>LP001029</td><td>Male</td><td>No</td><td>0</td><td>Graduate</td><td>No</td><td>1853</td><td>2840.0</td><td>114</td><td>360</td><td>1</td><td>Rural</td><td>N</td></tr><tr><th>15</th><td>LP001030</td><td>Male</td><td>Yes</td><td>2</td><td>Graduate</td><td>No</td><td>1299</td><td>1086.0</td><td>17</td><td>120</td><td>1</td><td>Urban</td><td>Y</td></tr><tr><th>16</th><td>LP001032</td><td>Male</td><td>No</td><td>0</td><td>Graduate</td><td>No</td><td>4950</td><td>0.0</td><td>125</td><td>360</td><td>1</td><td>Urban</td><td>Y</td></tr><tr><th>17</th><td>LP001034</td><td>Male</td><td>No</td><td>1</td><td>Not Graduate</td><td>No</td><td>3596</td><td>0.0</td><td>100</td><td>240</td><td>missing</td><td>Urban</td><td>Y</td></tr><tr><th>18</th><td>LP001036</td><td>Female</td><td>No</td><td>0</td><td>Graduate</td><td>No</td><td>3510</td><td>0.0</td><td>76</td><td>360</td><td>0</td><td>Urban</td><td>N</td></tr><tr><th>19</th><td>LP001038</td><td>Male</td><td>Yes</td><td>0</td><td>Not Graduate</td><td>No</td><td>4887</td><td>0.0</td><td>133</td><td>360</td><td>1</td><td>Rural</td><td>N</td></tr><tr><th>20</th><td>LP001041</td><td>Male</td><td>Yes</td><td>0</td><td>Graduate</td><td>missing</td><td>2600</td><td>3500.0</td><td>115</td><td>missing</td><td>1</td><td>Urban</td><td>Y</td></tr><tr><th>21</th><td>LP001043</td><td>Male</td><td>Yes</td><td>0</td><td>Not Graduate</td><td>No</td><td>7660</td><td>0.0</td><td>104</td><td>360</td><td>0</td><td>Urban</td><td>N</td></tr><tr><th>22</th><td>LP001046</td><td>Male</td><td>Yes</td><td>1</td><td>Graduate</td><td>No</td><td>5955</td><td>5625.0</td><td>315</td><td>360</td><td>1</td><td>Urban</td><td>Y</td></tr><tr><th>23</th><td>LP001047</td><td>Male</td><td>Yes</td><td>0</td><td>Not Graduate</td><td>No</td><td>2600</td><td>1911.0</td><td>116</td><td>360</td><td>0</td><td>Semiurban</td><td>N</td></tr><tr><th>24</th><td>LP001050</td><td>missing</td><td>Yes</td><td>2</td><td>Not Graduate</td><td>No</td><td>3365</td><td>1917.0</td><td>112</td><td>360</td><td>0</td><td>Rural</td><td>N</td></tr><tr><th>25</th><td>LP001052</td><td>Male</td><td>Yes</td><td>1</td><td>Graduate</td><td>missing</td><td>3717</td><td>2925.0</td><td>151</td><td>360</td><td>missing</td><td>Semiurban</td><td>N</td></tr><tr><th>26</th><td>LP001066</td><td>Male</td><td>Yes</td><td>0</td><td>Graduate</td><td>Yes</td><td>9560</td><td>0.0</td><td>191</td><td>360</td><td>1</td><td>Semiurban</td><td>Y</td></tr><tr><th>27</th><td>LP001068</td><td>Male</td><td>Yes</td><td>0</td><td>Graduate</td><td>No</td><td>2799</td><td>2253.0</td><td>122</td><td>360</td><td>1</td><td>Semiurban</td><td>Y</td></tr><tr><th>28</th><td>LP001073</td><td>Male</td><td>Yes</td><td>2</td><td>Not Graduate</td><td>No</td><td>4226</td><td>1040.0</td><td>110</td><td>360</td><td>1</td><td>Urban</td><td>Y</td></tr><tr><th>29</th><td>LP001086</td><td>Male</td><td>No</td><td>0</td><td>Not Graduate</td><td>No</td><td>1442</td><td>0.0</td><td>35</td><td>360</td><td>1</td><td>Urban</td><td>N</td></tr><tr><th>30</th><td>LP001087</td><td>Female</td><td>No</td><td>2</td><td>Graduate</td><td>missing</td><td>3750</td><td>2083.0</td><td>120</td><td>360</td><td>1</td><td>Semiurban</td><td>Y</td></tr><tr><th>&vellip;</th><td>&vellip;</td><td>&vellip;</td><td>&vellip;</td><td>&vellip;</td><td>&vellip;</td><td>&vellip;</td><td>&vellip;</td><td>&vellip;</td><td>&vellip;</td><td>&vellip;</td><td>&vellip;</td><td>&vellip;</td><td>&vellip;</td></tr></tbody></table>"
      ],
      "text/latex": [
       "\\begin{tabular}{r|ccccccccccccc}\n",
       "\t& Loan\\_ID & Gender & Married & Dependents & Education & Self\\_Employed & ApplicantIncome & CoapplicantIncome & LoanAmount & Loan\\_Amount\\_Term & Credit\\_History & Property\\_Area & Loan\\_Status\\\\\n",
       "\t\\hline\n",
       "\t1 & LP001002 & Male & No & 0 & Graduate & No & 5849 & 0.0 &  & 360 & 1 & Urban & Y \\\\\n",
       "\t2 & LP001003 & Male & Yes & 1 & Graduate & No & 4583 & 1508.0 & 128 & 360 & 1 & Rural & N \\\\\n",
       "\t3 & LP001005 & Male & Yes & 0 & Graduate & Yes & 3000 & 0.0 & 66 & 360 & 1 & Urban & Y \\\\\n",
       "\t4 & LP001006 & Male & Yes & 0 & Not Graduate & No & 2583 & 2358.0 & 120 & 360 & 1 & Urban & Y \\\\\n",
       "\t5 & LP001008 & Male & No & 0 & Graduate & No & 6000 & 0.0 & 141 & 360 & 1 & Urban & Y \\\\\n",
       "\t6 & LP001011 & Male & Yes & 2 & Graduate & Yes & 5417 & 4196.0 & 267 & 360 & 1 & Urban & Y \\\\\n",
       "\t7 & LP001013 & Male & Yes & 0 & Not Graduate & No & 2333 & 1516.0 & 95 & 360 & 1 & Urban & Y \\\\\n",
       "\t8 & LP001014 & Male & Yes & 3+ & Graduate & No & 3036 & 2504.0 & 158 & 360 & 0 & Semiurban & N \\\\\n",
       "\t9 & LP001018 & Male & Yes & 2 & Graduate & No & 4006 & 1526.0 & 168 & 360 & 1 & Urban & Y \\\\\n",
       "\t10 & LP001020 & Male & Yes & 1 & Graduate & No & 12841 & 10968.0 & 349 & 360 & 1 & Semiurban & N \\\\\n",
       "\t11 & LP001024 & Male & Yes & 2 & Graduate & No & 3200 & 700.0 & 70 & 360 & 1 & Urban & Y \\\\\n",
       "\t12 & LP001027 & Male & Yes & 2 & Graduate &  & 2500 & 1840.0 & 109 & 360 & 1 & Urban & Y \\\\\n",
       "\t13 & LP001028 & Male & Yes & 2 & Graduate & No & 3073 & 8106.0 & 200 & 360 & 1 & Urban & Y \\\\\n",
       "\t14 & LP001029 & Male & No & 0 & Graduate & No & 1853 & 2840.0 & 114 & 360 & 1 & Rural & N \\\\\n",
       "\t15 & LP001030 & Male & Yes & 2 & Graduate & No & 1299 & 1086.0 & 17 & 120 & 1 & Urban & Y \\\\\n",
       "\t16 & LP001032 & Male & No & 0 & Graduate & No & 4950 & 0.0 & 125 & 360 & 1 & Urban & Y \\\\\n",
       "\t17 & LP001034 & Male & No & 1 & Not Graduate & No & 3596 & 0.0 & 100 & 240 &  & Urban & Y \\\\\n",
       "\t18 & LP001036 & Female & No & 0 & Graduate & No & 3510 & 0.0 & 76 & 360 & 0 & Urban & N \\\\\n",
       "\t19 & LP001038 & Male & Yes & 0 & Not Graduate & No & 4887 & 0.0 & 133 & 360 & 1 & Rural & N \\\\\n",
       "\t20 & LP001041 & Male & Yes & 0 & Graduate &  & 2600 & 3500.0 & 115 &  & 1 & Urban & Y \\\\\n",
       "\t21 & LP001043 & Male & Yes & 0 & Not Graduate & No & 7660 & 0.0 & 104 & 360 & 0 & Urban & N \\\\\n",
       "\t22 & LP001046 & Male & Yes & 1 & Graduate & No & 5955 & 5625.0 & 315 & 360 & 1 & Urban & Y \\\\\n",
       "\t23 & LP001047 & Male & Yes & 0 & Not Graduate & No & 2600 & 1911.0 & 116 & 360 & 0 & Semiurban & N \\\\\n",
       "\t24 & LP001050 &  & Yes & 2 & Not Graduate & No & 3365 & 1917.0 & 112 & 360 & 0 & Rural & N \\\\\n",
       "\t25 & LP001052 & Male & Yes & 1 & Graduate &  & 3717 & 2925.0 & 151 & 360 &  & Semiurban & N \\\\\n",
       "\t26 & LP001066 & Male & Yes & 0 & Graduate & Yes & 9560 & 0.0 & 191 & 360 & 1 & Semiurban & Y \\\\\n",
       "\t27 & LP001068 & Male & Yes & 0 & Graduate & No & 2799 & 2253.0 & 122 & 360 & 1 & Semiurban & Y \\\\\n",
       "\t28 & LP001073 & Male & Yes & 2 & Not Graduate & No & 4226 & 1040.0 & 110 & 360 & 1 & Urban & Y \\\\\n",
       "\t29 & LP001086 & Male & No & 0 & Not Graduate & No & 1442 & 0.0 & 35 & 360 & 1 & Urban & N \\\\\n",
       "\t30 & LP001087 & Female & No & 2 & Graduate &  & 3750 & 2083.0 & 120 & 360 & 1 & Semiurban & Y \\\\\n",
       "\t31 & LP001091 & Male & Yes & 1 & Graduate &  & 4166 & 3369.0 & 201 & 360 &  & Urban & N \\\\\n",
       "\t32 & LP001095 & Male & No & 0 & Graduate & No & 3167 & 0.0 & 74 & 360 & 1 & Urban & N \\\\\n",
       "\t33 & LP001097 & Male & No & 1 & Graduate & Yes & 4692 & 0.0 & 106 & 360 & 1 & Rural & N \\\\\n",
       "\t34 & LP001098 & Male & Yes & 0 & Graduate & No & 3500 & 1667.0 & 114 & 360 & 1 & Semiurban & Y \\\\\n",
       "\t35 & LP001100 & Male & No & 3+ & Graduate & No & 12500 & 3000.0 & 320 & 360 & 1 & Rural & N \\\\\n",
       "\t36 & LP001106 & Male & Yes & 0 & Graduate & No & 2275 & 2067.0 &  & 360 & 1 & Urban & Y \\\\\n",
       "\t37 & LP001109 & Male & Yes & 0 & Graduate & No & 1828 & 1330.0 & 100 &  & 0 & Urban & N \\\\\n",
       "\t38 & LP001112 & Female & Yes & 0 & Graduate & No & 3667 & 1459.0 & 144 & 360 & 1 & Semiurban & Y \\\\\n",
       "\t39 & LP001114 & Male & No & 0 & Graduate & No & 4166 & 7210.0 & 184 & 360 & 1 & Urban & Y \\\\\n",
       "\t40 & LP001116 & Male & No & 0 & Not Graduate & No & 3748 & 1668.0 & 110 & 360 & 1 & Semiurban & Y \\\\\n",
       "\t41 & LP001119 & Male & No & 0 & Graduate & No & 3600 & 0.0 & 80 & 360 & 1 & Urban & N \\\\\n",
       "\t42 & LP001120 & Male & No & 0 & Graduate & No & 1800 & 1213.0 & 47 & 360 & 1 & Urban & Y \\\\\n",
       "\t43 & LP001123 & Male & Yes & 0 & Graduate & No & 2400 & 0.0 & 75 & 360 &  & Urban & Y \\\\\n",
       "\t44 & LP001131 & Male & Yes & 0 & Graduate & No & 3941 & 2336.0 & 134 & 360 & 1 & Semiurban & Y \\\\\n",
       "\t45 & LP001136 & Male & Yes & 0 & Not Graduate & Yes & 4695 & 0.0 & 96 &  & 1 & Urban & Y \\\\\n",
       "\t46 & LP001137 & Female & No & 0 & Graduate & No & 3410 & 0.0 & 88 &  & 1 & Urban & Y \\\\\n",
       "\t47 & LP001138 & Male & Yes & 1 & Graduate & No & 5649 & 0.0 & 44 & 360 & 1 & Urban & Y \\\\\n",
       "\t48 & LP001144 & Male & Yes & 0 & Graduate & No & 5821 & 0.0 & 144 & 360 & 1 & Urban & Y \\\\\n",
       "\t49 & LP001146 & Female & Yes & 0 & Graduate & No & 2645 & 3440.0 & 120 & 360 & 0 & Urban & N \\\\\n",
       "\t50 & LP001151 & Female & No & 0 & Graduate & No & 4000 & 2275.0 & 144 & 360 & 1 & Semiurban & Y \\\\\n",
       "\t51 & LP001155 & Female & Yes & 0 & Not Graduate & No & 1928 & 1644.0 & 100 & 360 & 1 & Semiurban & Y \\\\\n",
       "\t52 & LP001157 & Female & No & 0 & Graduate & No & 3086 & 0.0 & 120 & 360 & 1 & Semiurban & Y \\\\\n",
       "\t53 & LP001164 & Female & No & 0 & Graduate & No & 4230 & 0.0 & 112 & 360 & 1 & Semiurban & N \\\\\n",
       "\t54 & LP001179 & Male & Yes & 2 & Graduate & No & 4616 & 0.0 & 134 & 360 & 1 & Urban & N \\\\\n",
       "\t55 & LP001186 & Female & Yes & 1 & Graduate & Yes & 11500 & 0.0 & 286 & 360 & 0 & Urban & N \\\\\n",
       "\t56 & LP001194 & Male & Yes & 2 & Graduate & No & 2708 & 1167.0 & 97 & 360 & 1 & Semiurban & Y \\\\\n",
       "\t57 & LP001195 & Male & Yes & 0 & Graduate & No & 2132 & 1591.0 & 96 & 360 & 1 & Semiurban & Y \\\\\n",
       "\t58 & LP001197 & Male & Yes & 0 & Graduate & No & 3366 & 2200.0 & 135 & 360 & 1 & Rural & N \\\\\n",
       "\t59 & LP001198 & Male & Yes & 1 & Graduate & No & 8080 & 2250.0 & 180 & 360 & 1 & Urban & Y \\\\\n",
       "\t60 & LP001199 & Male & Yes & 2 & Not Graduate & No & 3357 & 2859.0 & 144 & 360 & 1 & Urban & Y \\\\\n",
       "\t61 & LP001205 & Male & Yes & 0 & Graduate & No & 2500 & 3796.0 & 120 & 360 & 1 & Urban & Y \\\\\n",
       "\t62 & LP001206 & Male & Yes & 3+ & Graduate & No & 3029 & 0.0 & 99 & 360 & 1 & Urban & Y \\\\\n",
       "\t63 & LP001207 & Male & Yes & 0 & Not Graduate & Yes & 2609 & 3449.0 & 165 & 180 & 0 & Rural & N \\\\\n",
       "\t64 & LP001213 & Male & Yes & 1 & Graduate & No & 4945 & 0.0 &  & 360 & 0 & Rural & N \\\\\n",
       "\t65 & LP001222 & Female & No & 0 & Graduate & No & 4166 & 0.0 & 116 & 360 & 0 & Semiurban & N \\\\\n",
       "\t66 & LP001225 & Male & Yes & 0 & Graduate & No & 5726 & 4595.0 & 258 & 360 & 1 & Semiurban & N \\\\\n",
       "\t67 & LP001228 & Male & No & 0 & Not Graduate & No & 3200 & 2254.0 & 126 & 180 & 0 & Urban & N \\\\\n",
       "\t68 & LP001233 & Male & Yes & 1 & Graduate & No & 10750 & 0.0 & 312 & 360 & 1 & Urban & Y \\\\\n",
       "\t69 & LP001238 & Male & Yes & 3+ & Not Graduate & Yes & 7100 & 0.0 & 125 & 60 & 1 & Urban & Y \\\\\n",
       "\t70 & LP001241 & Female & No & 0 & Graduate & No & 4300 & 0.0 & 136 & 360 & 0 & Semiurban & N \\\\\n",
       "\t71 & LP001243 & Male & Yes & 0 & Graduate & No & 3208 & 3066.0 & 172 & 360 & 1 & Urban & Y \\\\\n",
       "\t72 & LP001245 & Male & Yes & 2 & Not Graduate & Yes & 1875 & 1875.0 & 97 & 360 & 1 & Semiurban & Y \\\\\n",
       "\t73 & LP001248 & Male & No & 0 & Graduate & No & 3500 & 0.0 & 81 & 300 & 1 & Semiurban & Y \\\\\n",
       "\t74 & LP001250 & Male & Yes & 3+ & Not Graduate & No & 4755 & 0.0 & 95 &  & 0 & Semiurban & N \\\\\n",
       "\t75 & LP001253 & Male & Yes & 3+ & Graduate & Yes & 5266 & 1774.0 & 187 & 360 & 1 & Semiurban & Y \\\\\n",
       "\t76 & LP001255 & Male & No & 0 & Graduate & No & 3750 & 0.0 & 113 & 480 & 1 & Urban & N \\\\\n",
       "\t77 & LP001256 & Male & No & 0 & Graduate & No & 3750 & 4750.0 & 176 & 360 & 1 & Urban & N \\\\\n",
       "\t78 & LP001259 & Male & Yes & 1 & Graduate & Yes & 1000 & 3022.0 & 110 & 360 & 1 & Urban & N \\\\\n",
       "\t79 & LP001263 & Male & Yes & 3+ & Graduate & No & 3167 & 4000.0 & 180 & 300 & 0 & Semiurban & N \\\\\n",
       "\t80 & LP001264 & Male & Yes & 3+ & Not Graduate & Yes & 3333 & 2166.0 & 130 & 360 &  & Semiurban & Y \\\\\n",
       "\t81 & LP001265 & Female & No & 0 & Graduate & No & 3846 & 0.0 & 111 & 360 & 1 & Semiurban & Y \\\\\n",
       "\t82 & LP001266 & Male & Yes & 1 & Graduate & Yes & 2395 & 0.0 &  & 360 & 1 & Semiurban & Y \\\\\n",
       "\t83 & LP001267 & Female & Yes & 2 & Graduate & No & 1378 & 1881.0 & 167 & 360 & 1 & Urban & N \\\\\n",
       "\t84 & LP001273 & Male & Yes & 0 & Graduate & No & 6000 & 2250.0 & 265 & 360 &  & Semiurban & N \\\\\n",
       "\t85 & LP001275 & Male & Yes & 1 & Graduate & No & 3988 & 0.0 & 50 & 240 & 1 & Urban & Y \\\\\n",
       "\t86 & LP001279 & Male & No & 0 & Graduate & No & 2366 & 2531.0 & 136 & 360 & 1 & Semiurban & Y \\\\\n",
       "\t87 & LP001280 & Male & Yes & 2 & Not Graduate & No & 3333 & 2000.0 & 99 & 360 &  & Semiurban & Y \\\\\n",
       "\t88 & LP001282 & Male & Yes & 0 & Graduate & No & 2500 & 2118.0 & 104 & 360 & 1 & Semiurban & Y \\\\\n",
       "\t89 & LP001289 & Male & No & 0 & Graduate & No & 8566 & 0.0 & 210 & 360 & 1 & Urban & Y \\\\\n",
       "\t90 & LP001310 & Male & Yes & 0 & Graduate & No & 5695 & 4167.0 & 175 & 360 & 1 & Semiurban & Y \\\\\n",
       "\t91 & LP001316 & Male & Yes & 0 & Graduate & No & 2958 & 2900.0 & 131 & 360 & 1 & Semiurban & Y \\\\\n",
       "\t92 & LP001318 & Male & Yes & 2 & Graduate & No & 6250 & 5654.0 & 188 & 180 & 1 & Semiurban & Y \\\\\n",
       "\t93 & LP001319 & Male & Yes & 2 & Not Graduate & No & 3273 & 1820.0 & 81 & 360 & 1 & Urban & Y \\\\\n",
       "\t94 & LP001322 & Male & No & 0 & Graduate & No & 4133 & 0.0 & 122 & 360 & 1 & Semiurban & Y \\\\\n",
       "\t95 & LP001325 & Male & No & 0 & Not Graduate & No & 3620 & 0.0 & 25 & 120 & 1 & Semiurban & Y \\\\\n",
       "\t96 & LP001326 & Male & No & 0 & Graduate &  & 6782 & 0.0 &  & 360 &  & Urban & N \\\\\n",
       "\t97 & LP001327 & Female & Yes & 0 & Graduate & No & 2484 & 2302.0 & 137 & 360 & 1 & Semiurban & Y \\\\\n",
       "\t98 & LP001333 & Male & Yes & 0 & Graduate & No & 1977 & 997.0 & 50 & 360 & 1 & Semiurban & Y \\\\\n",
       "\t99 & LP001334 & Male & Yes & 0 & Not Graduate & No & 4188 & 0.0 & 115 & 180 & 1 & Semiurban & Y \\\\\n",
       "\t100 & LP001343 & Male & Yes & 0 & Graduate & No & 1759 & 3541.0 & 131 & 360 & 1 & Semiurban & Y \\\\\n",
       "\t101 & LP001345 & Male & Yes & 2 & Not Graduate & No & 4288 & 3263.0 & 133 & 180 & 1 & Urban & Y \\\\\n",
       "\t102 & LP001349 & Male & No & 0 & Graduate & No & 4843 & 3806.0 & 151 & 360 & 1 & Semiurban & Y \\\\\n",
       "\t103 & LP001350 & Male & Yes &  & Graduate & No & 13650 & 0.0 &  & 360 & 1 & Urban & Y \\\\\n",
       "\t104 & LP001356 & Male & Yes & 0 & Graduate & No & 4652 & 3583.0 &  & 360 & 1 & Semiurban & Y \\\\\n",
       "\t105 & LP001357 & Male &  &  & Graduate & No & 3816 & 754.0 & 160 & 360 & 1 & Urban & Y \\\\\n",
       "\t106 & LP001367 & Male & Yes & 1 & Graduate & No & 3052 & 1030.0 & 100 & 360 & 1 & Urban & Y \\\\\n",
       "\t107 & LP001369 & Male & Yes & 2 & Graduate & No & 11417 & 1126.0 & 225 & 360 & 1 & Urban & Y \\\\\n",
       "\t108 & LP001370 & Male & No & 0 & Not Graduate &  & 7333 & 0.0 & 120 & 360 & 1 & Rural & N \\\\\n",
       "\t109 & LP001379 & Male & Yes & 2 & Graduate & No & 3800 & 3600.0 & 216 & 360 & 0 & Urban & N \\\\\n",
       "\t110 & LP001384 & Male & Yes & 3+ & Not Graduate & No & 2071 & 754.0 & 94 & 480 & 1 & Semiurban & Y \\\\\n",
       "\t111 & LP001385 & Male & No & 0 & Graduate & No & 5316 & 0.0 & 136 & 360 & 1 & Urban & Y \\\\\n",
       "\t112 & LP001387 & Female & Yes & 0 & Graduate &  & 2929 & 2333.0 & 139 & 360 & 1 & Semiurban & Y \\\\\n",
       "\t113 & LP001391 & Male & Yes & 0 & Not Graduate & No & 3572 & 4114.0 & 152 &  & 0 & Rural & N \\\\\n",
       "\t114 & LP001392 & Female & No & 1 & Graduate & Yes & 7451 & 0.0 &  & 360 & 1 & Semiurban & Y \\\\\n",
       "\t115 & LP001398 & Male & No & 0 & Graduate &  & 5050 & 0.0 & 118 & 360 & 1 & Semiurban & Y \\\\\n",
       "\t116 & LP001401 & Male & Yes & 1 & Graduate & No & 14583 & 0.0 & 185 & 180 & 1 & Rural & Y \\\\\n",
       "\t117 & LP001404 & Female & Yes & 0 & Graduate & No & 3167 & 2283.0 & 154 & 360 & 1 & Semiurban & Y \\\\\n",
       "\t118 & LP001405 & Male & Yes & 1 & Graduate & No & 2214 & 1398.0 & 85 & 360 &  & Urban & Y \\\\\n",
       "\t119 & LP001421 & Male & Yes & 0 & Graduate & No & 5568 & 2142.0 & 175 & 360 & 1 & Rural & N \\\\\n",
       "\t120 & LP001422 & Female & No & 0 & Graduate & No & 10408 & 0.0 & 259 & 360 & 1 & Urban & Y \\\\\n",
       "\t121 & LP001426 & Male & Yes &  & Graduate & No & 5667 & 2667.0 & 180 & 360 & 1 & Rural & Y \\\\\n",
       "\t122 & LP001430 & Female & No & 0 & Graduate & No & 4166 & 0.0 & 44 & 360 & 1 & Semiurban & Y \\\\\n",
       "\t123 & LP001431 & Female & No & 0 & Graduate & No & 2137 & 8980.0 & 137 & 360 & 0 & Semiurban & Y \\\\\n",
       "\t124 & LP001432 & Male & Yes & 2 & Graduate & No & 2957 & 0.0 & 81 & 360 & 1 & Semiurban & Y \\\\\n",
       "\t125 & LP001439 & Male & Yes & 0 & Not Graduate & No & 4300 & 2014.0 & 194 & 360 & 1 & Rural & Y \\\\\n",
       "\t126 & LP001443 & Female & No & 0 & Graduate & No & 3692 & 0.0 & 93 & 360 &  & Rural & Y \\\\\n",
       "\t127 & LP001448 &  & Yes & 3+ & Graduate & No & 23803 & 0.0 & 370 & 360 & 1 & Rural & Y \\\\\n",
       "\t128 & LP001449 & Male & No & 0 & Graduate & No & 3865 & 1640.0 &  & 360 & 1 & Rural & Y \\\\\n",
       "\t129 & LP001451 & Male & Yes & 1 & Graduate & Yes & 10513 & 3850.0 & 160 & 180 & 0 & Urban & N \\\\\n",
       "\t130 & LP001465 & Male & Yes & 0 & Graduate & No & 6080 & 2569.0 & 182 & 360 &  & Rural & N \\\\\n",
       "\t131 & LP001469 & Male & No & 0 & Graduate & Yes & 20166 & 0.0 & 650 & 480 &  & Urban & Y \\\\\n",
       "\t132 & LP001473 & Male & No & 0 & Graduate & No & 2014 & 1929.0 & 74 & 360 & 1 & Urban & Y \\\\\n",
       "\t133 & LP001478 & Male & No & 0 & Graduate & No & 2718 & 0.0 & 70 & 360 & 1 & Semiurban & Y \\\\\n",
       "\t134 & LP001482 & Male & Yes & 0 & Graduate & Yes & 3459 & 0.0 & 25 & 120 & 1 & Semiurban & Y \\\\\n",
       "\t135 & LP001487 & Male & No & 0 & Graduate & No & 4895 & 0.0 & 102 & 360 & 1 & Semiurban & Y \\\\\n",
       "\t136 & LP001488 & Male & Yes & 3+ & Graduate & No & 4000 & 7750.0 & 290 & 360 & 1 & Semiurban & N \\\\\n",
       "\t137 & LP001489 & Female & Yes & 0 & Graduate & No & 4583 & 0.0 & 84 & 360 & 1 & Rural & N \\\\\n",
       "\t138 & LP001491 & Male & Yes & 2 & Graduate & Yes & 3316 & 3500.0 & 88 & 360 & 1 & Urban & Y \\\\\n",
       "\t139 & LP001492 & Male & No & 0 & Graduate & No & 14999 & 0.0 & 242 & 360 & 0 & Semiurban & N \\\\\n",
       "\t140 & LP001493 & Male & Yes & 2 & Not Graduate & No & 4200 & 1430.0 & 129 & 360 & 1 & Rural & N \\\\\n",
       "\t141 & LP001497 & Male & Yes & 2 & Graduate & No & 5042 & 2083.0 & 185 & 360 & 1 & Rural & N \\\\\n",
       "\t142 & LP001498 & Male & No & 0 & Graduate & No & 5417 & 0.0 & 168 & 360 & 1 & Urban & Y \\\\\n",
       "\t143 & LP001504 & Male & No & 0 & Graduate & Yes & 6950 & 0.0 & 175 & 180 & 1 & Semiurban & Y \\\\\n",
       "\t144 & LP001507 & Male & Yes & 0 & Graduate & No & 2698 & 2034.0 & 122 & 360 & 1 & Semiurban & Y \\\\\n",
       "\t145 & LP001508 & Male & Yes & 2 & Graduate & No & 11757 & 0.0 & 187 & 180 & 1 & Urban & Y \\\\\n",
       "\t146 & LP001514 & Female & Yes & 0 & Graduate & No & 2330 & 4486.0 & 100 & 360 & 1 & Semiurban & Y \\\\\n",
       "\t147 & LP001516 & Female & Yes & 2 & Graduate & No & 14866 & 0.0 & 70 & 360 & 1 & Urban & Y \\\\\n",
       "\t148 & LP001518 & Male & Yes & 1 & Graduate & No & 1538 & 1425.0 & 30 & 360 & 1 & Urban & Y \\\\\n",
       "\t149 & LP001519 & Female & No & 0 & Graduate & No & 10000 & 1666.0 & 225 & 360 & 1 & Rural & N \\\\\n",
       "\t150 & LP001520 & Male & Yes & 0 & Graduate & No & 4860 & 830.0 & 125 & 360 & 1 & Semiurban & Y \\\\\n",
       "\t151 & LP001528 & Male & No & 0 & Graduate & No & 6277 & 0.0 & 118 & 360 & 0 & Rural & N \\\\\n",
       "\t152 & LP001529 & Male & Yes & 0 & Graduate & Yes & 2577 & 3750.0 & 152 & 360 & 1 & Rural & Y \\\\\n",
       "\t153 & LP001531 & Male & No & 0 & Graduate & No & 9166 & 0.0 & 244 & 360 & 1 & Urban & N \\\\\n",
       "\t154 & LP001532 & Male & Yes & 2 & Not Graduate & No & 2281 & 0.0 & 113 & 360 & 1 & Rural & N \\\\\n",
       "\t155 & LP001535 & Male & No & 0 & Graduate & No & 3254 & 0.0 & 50 & 360 & 1 & Urban & Y \\\\\n",
       "\t156 & LP001536 & Male & Yes & 3+ & Graduate & No & 39999 & 0.0 & 600 & 180 & 0 & Semiurban & Y \\\\\n",
       "\t157 & LP001541 & Male & Yes & 1 & Graduate & No & 6000 & 0.0 & 160 & 360 &  & Rural & Y \\\\\n",
       "\t158 & LP001543 & Male & Yes & 1 & Graduate & No & 9538 & 0.0 & 187 & 360 & 1 & Urban & Y \\\\\n",
       "\t159 & LP001546 & Male & No & 0 & Graduate &  & 2980 & 2083.0 & 120 & 360 & 1 & Rural & Y \\\\\n",
       "\t160 & LP001552 & Male & Yes & 0 & Graduate & No & 4583 & 5625.0 & 255 & 360 & 1 & Semiurban & Y \\\\\n",
       "\t161 & LP001560 & Male & Yes & 0 & Not Graduate & No & 1863 & 1041.0 & 98 & 360 & 1 & Semiurban & Y \\\\\n",
       "\t162 & LP001562 & Male & Yes & 0 & Graduate & No & 7933 & 0.0 & 275 & 360 & 1 & Urban & N \\\\\n",
       "\t163 & LP001565 & Male & Yes & 1 & Graduate & No & 3089 & 1280.0 & 121 & 360 & 0 & Semiurban & N \\\\\n",
       "\t164 & LP001570 & Male & Yes & 2 & Graduate & No & 4167 & 1447.0 & 158 & 360 & 1 & Rural & Y \\\\\n",
       "\t165 & LP001572 & Male & Yes & 0 & Graduate & No & 9323 & 0.0 & 75 & 180 & 1 & Urban & Y \\\\\n",
       "\t166 & LP001574 & Male & Yes & 0 & Graduate & No & 3707 & 3166.0 & 182 &  & 1 & Rural & Y \\\\\n",
       "\t167 & LP001577 & Female & Yes & 0 & Graduate & No & 4583 & 0.0 & 112 & 360 & 1 & Rural & N \\\\\n",
       "\t168 & LP001578 & Male & Yes & 0 & Graduate & No & 2439 & 3333.0 & 129 & 360 & 1 & Rural & Y \\\\\n",
       "\t169 & LP001579 & Male & No & 0 & Graduate & No & 2237 & 0.0 & 63 & 480 & 0 & Semiurban & N \\\\\n",
       "\t170 & LP001580 & Male & Yes & 2 & Graduate & No & 8000 & 0.0 & 200 & 360 & 1 & Semiurban & Y \\\\\n",
       "\t171 & LP001581 & Male & Yes & 0 & Not Graduate &  & 1820 & 1769.0 & 95 & 360 & 1 & Rural & Y \\\\\n",
       "\t172 & LP001585 &  & Yes & 3+ & Graduate & No & 51763 & 0.0 & 700 & 300 & 1 & Urban & Y \\\\\n",
       "\t173 & LP001586 & Male & Yes & 3+ & Not Graduate & No & 3522 & 0.0 & 81 & 180 & 1 & Rural & N \\\\\n",
       "\t174 & LP001594 & Male & Yes & 0 & Graduate & No & 5708 & 5625.0 & 187 & 360 & 1 & Semiurban & Y \\\\\n",
       "\t175 & LP001603 & Male & Yes & 0 & Not Graduate & Yes & 4344 & 736.0 & 87 & 360 & 1 & Semiurban & N \\\\\n",
       "\t176 & LP001606 & Male & Yes & 0 & Graduate & No & 3497 & 1964.0 & 116 & 360 & 1 & Rural & Y \\\\\n",
       "\t177 & LP001608 & Male & Yes & 2 & Graduate & No & 2045 & 1619.0 & 101 & 360 & 1 & Rural & Y \\\\\n",
       "\t178 & LP001610 & Male & Yes & 3+ & Graduate & No & 5516 & 11300.0 & 495 & 360 & 0 & Semiurban & N \\\\\n",
       "\t179 & LP001616 & Male & Yes & 1 & Graduate & No & 3750 & 0.0 & 116 & 360 & 1 & Semiurban & Y \\\\\n",
       "\t180 & LP001630 & Male & No & 0 & Not Graduate & No & 2333 & 1451.0 & 102 & 480 & 0 & Urban & N \\\\\n",
       "\t181 & LP001633 & Male & Yes & 1 & Graduate & No & 6400 & 7250.0 & 180 & 360 & 0 & Urban & N \\\\\n",
       "\t182 & LP001634 & Male & No & 0 & Graduate & No & 1916 & 5063.0 & 67 & 360 &  & Rural & N \\\\\n",
       "\t183 & LP001636 & Male & Yes & 0 & Graduate & No & 4600 & 0.0 & 73 & 180 & 1 & Semiurban & Y \\\\\n",
       "\t184 & LP001637 & Male & Yes & 1 & Graduate & No & 33846 & 0.0 & 260 & 360 & 1 & Semiurban & N \\\\\n",
       "\t185 & LP001639 & Female & Yes & 0 & Graduate & No & 3625 & 0.0 & 108 & 360 & 1 & Semiurban & Y \\\\\n",
       "\t186 & LP001640 & Male & Yes & 0 & Graduate & Yes & 39147 & 4750.0 & 120 & 360 & 1 & Semiurban & Y \\\\\n",
       "\t187 & LP001641 & Male & Yes & 1 & Graduate & Yes & 2178 & 0.0 & 66 & 300 & 0 & Rural & N \\\\\n",
       "\t188 & LP001643 & Male & Yes & 0 & Graduate & No & 2383 & 2138.0 & 58 & 360 &  & Rural & Y \\\\\n",
       "\t189 & LP001644 &  & Yes & 0 & Graduate & Yes & 674 & 5296.0 & 168 & 360 & 1 & Rural & Y \\\\\n",
       "\t190 & LP001647 & Male & Yes & 0 & Graduate & No & 9328 & 0.0 & 188 & 180 & 1 & Rural & Y \\\\\n",
       "\t191 & LP001653 & Male & No & 0 & Not Graduate & No & 4885 & 0.0 & 48 & 360 & 1 & Rural & Y \\\\\n",
       "\t192 & LP001656 & Male & No & 0 & Graduate & No & 12000 & 0.0 & 164 & 360 & 1 & Semiurban & N \\\\\n",
       "\t193 & LP001657 & Male & Yes & 0 & Not Graduate & No & 6033 & 0.0 & 160 & 360 & 1 & Urban & N \\\\\n",
       "\t194 & LP001658 & Male & No & 0 & Graduate & No & 3858 & 0.0 & 76 & 360 & 1 & Semiurban & Y \\\\\n",
       "\t195 & LP001664 & Male & No & 0 & Graduate & No & 4191 & 0.0 & 120 & 360 & 1 & Rural & Y \\\\\n",
       "\t196 & LP001665 & Male & Yes & 1 & Graduate & No & 3125 & 2583.0 & 170 & 360 & 1 & Semiurban & N \\\\\n",
       "\t197 & LP001666 & Male & No & 0 & Graduate & No & 8333 & 3750.0 & 187 & 360 & 1 & Rural & Y \\\\\n",
       "\t198 & LP001669 & Female & No & 0 & Not Graduate & No & 1907 & 2365.0 & 120 &  & 1 & Urban & Y \\\\\n",
       "\t199 & LP001671 & Female & Yes & 0 & Graduate & No & 3416 & 2816.0 & 113 & 360 &  & Semiurban & Y \\\\\n",
       "\t200 & LP001673 & Male & No & 0 & Graduate & Yes & 11000 & 0.0 & 83 & 360 & 1 & Urban & N \\\\\n",
       "\t201 & LP001674 & Male & Yes & 1 & Not Graduate & No & 2600 & 2500.0 & 90 & 360 & 1 & Semiurban & Y \\\\\n",
       "\t202 & LP001677 & Male & No & 2 & Graduate & No & 4923 & 0.0 & 166 & 360 & 0 & Semiurban & Y \\\\\n",
       "\t203 & LP001682 & Male & Yes & 3+ & Not Graduate & No & 3992 & 0.0 &  & 180 & 1 & Urban & N \\\\\n",
       "\t204 & LP001688 & Male & Yes & 1 & Not Graduate & No & 3500 & 1083.0 & 135 & 360 & 1 & Urban & Y \\\\\n",
       "\t205 & LP001691 & Male & Yes & 2 & Not Graduate & No & 3917 & 0.0 & 124 & 360 & 1 & Semiurban & Y \\\\\n",
       "\t206 & LP001692 & Female & No & 0 & Not Graduate & No & 4408 & 0.0 & 120 & 360 & 1 & Semiurban & Y \\\\\n",
       "\t207 & LP001693 & Female & No & 0 & Graduate & No & 3244 & 0.0 & 80 & 360 & 1 & Urban & Y \\\\\n",
       "\t208 & LP001698 & Male & No & 0 & Not Graduate & No & 3975 & 2531.0 & 55 & 360 & 1 & Rural & Y \\\\\n",
       "\t209 & LP001699 & Male & No & 0 & Graduate & No & 2479 & 0.0 & 59 & 360 & 1 & Urban & Y \\\\\n",
       "\t210 & LP001702 & Male & No & 0 & Graduate & No & 3418 & 0.0 & 127 & 360 & 1 & Semiurban & N \\\\\n",
       "\t211 & LP001708 & Female & No & 0 & Graduate & No & 10000 & 0.0 & 214 & 360 & 1 & Semiurban & N \\\\\n",
       "\t212 & LP001711 & Male & Yes & 3+ & Graduate & No & 3430 & 1250.0 & 128 & 360 & 0 & Semiurban & N \\\\\n",
       "\t213 & LP001713 & Male & Yes & 1 & Graduate & Yes & 7787 & 0.0 & 240 & 360 & 1 & Urban & Y \\\\\n",
       "\t214 & LP001715 & Male & Yes & 3+ & Not Graduate & Yes & 5703 & 0.0 & 130 & 360 & 1 & Rural & Y \\\\\n",
       "\t215 & LP001716 & Male & Yes & 0 & Graduate & No & 3173 & 3021.0 & 137 & 360 & 1 & Urban & Y \\\\\n",
       "\t216 & LP001720 & Male & Yes & 3+ & Not Graduate & No & 3850 & 983.0 & 100 & 360 & 1 & Semiurban & Y \\\\\n",
       "\t217 & LP001722 & Male & Yes & 0 & Graduate & No & 150 & 1800.0 & 135 & 360 & 1 & Rural & N \\\\\n",
       "\t218 & LP001726 & Male & Yes & 0 & Graduate & No & 3727 & 1775.0 & 131 & 360 & 1 & Semiurban & Y \\\\\n",
       "\t219 & LP001732 & Male & Yes & 2 & Graduate &  & 5000 & 0.0 & 72 & 360 & 0 & Semiurban & N \\\\\n",
       "\t220 & LP001734 & Female & Yes & 2 & Graduate & No & 4283 & 2383.0 & 127 & 360 &  & Semiurban & Y \\\\\n",
       "\t221 & LP001736 & Male & Yes & 0 & Graduate & No & 2221 & 0.0 & 60 & 360 & 0 & Urban & N \\\\\n",
       "\t222 & LP001743 & Male & Yes & 2 & Graduate & No & 4009 & 1717.0 & 116 & 360 & 1 & Semiurban & Y \\\\\n",
       "\t223 & LP001744 & Male & No & 0 & Graduate & No & 2971 & 2791.0 & 144 & 360 & 1 & Semiurban & Y \\\\\n",
       "\t224 & LP001749 & Male & Yes & 0 & Graduate & No & 7578 & 1010.0 & 175 &  & 1 & Semiurban & Y \\\\\n",
       "\t225 & LP001750 & Male & Yes & 0 & Graduate & No & 6250 & 0.0 & 128 & 360 & 1 & Semiurban & Y \\\\\n",
       "\t226 & LP001751 & Male & Yes & 0 & Graduate & No & 3250 & 0.0 & 170 & 360 & 1 & Rural & N \\\\\n",
       "\t227 & LP001754 & Male & Yes &  & Not Graduate & Yes & 4735 & 0.0 & 138 & 360 & 1 & Urban & N \\\\\n",
       "\t228 & LP001758 & Male & Yes & 2 & Graduate & No & 6250 & 1695.0 & 210 & 360 & 1 & Semiurban & Y \\\\\n",
       "\t229 & LP001760 & Male &  &  & Graduate & No & 4758 & 0.0 & 158 & 480 & 1 & Semiurban & Y \\\\\n",
       "\t230 & LP001761 & Male & No & 0 & Graduate & Yes & 6400 & 0.0 & 200 & 360 & 1 & Rural & Y \\\\\n",
       "\t231 & LP001765 & Male & Yes & 1 & Graduate & No & 2491 & 2054.0 & 104 & 360 & 1 & Semiurban & Y \\\\\n",
       "\t232 & LP001768 & Male & Yes & 0 & Graduate &  & 3716 & 0.0 & 42 & 180 & 1 & Rural & Y \\\\\n",
       "\t233 & LP001770 & Male & No & 0 & Not Graduate & No & 3189 & 2598.0 & 120 &  & 1 & Rural & Y \\\\\n",
       "\t234 & LP001776 & Female & No & 0 & Graduate & No & 8333 & 0.0 & 280 & 360 & 1 & Semiurban & Y \\\\\n",
       "\t235 & LP001778 & Male & Yes & 1 & Graduate & No & 3155 & 1779.0 & 140 & 360 & 1 & Semiurban & Y \\\\\n",
       "\t236 & LP001784 & Male & Yes & 1 & Graduate & No & 5500 & 1260.0 & 170 & 360 & 1 & Rural & Y \\\\\n",
       "\t237 & LP001786 & Male & Yes & 0 & Graduate &  & 5746 & 0.0 & 255 & 360 &  & Urban & N \\\\\n",
       "\t238 & LP001788 & Female & No & 0 & Graduate & Yes & 3463 & 0.0 & 122 & 360 &  & Urban & Y \\\\\n",
       "\t239 & LP001790 & Female & No & 1 & Graduate & No & 3812 & 0.0 & 112 & 360 & 1 & Rural & Y \\\\\n",
       "\t240 & LP001792 & Male & Yes & 1 & Graduate & No & 3315 & 0.0 & 96 & 360 & 1 & Semiurban & Y \\\\\n",
       "\t241 & LP001798 & Male & Yes & 2 & Graduate & No & 5819 & 5000.0 & 120 & 360 & 1 & Rural & Y \\\\\n",
       "\t242 & LP001800 & Male & Yes & 1 & Not Graduate & No & 2510 & 1983.0 & 140 & 180 & 1 & Urban & N \\\\\n",
       "\t243 & LP001806 & Male & No & 0 & Graduate & No & 2965 & 5701.0 & 155 & 60 & 1 & Urban & Y \\\\\n",
       "\t244 & LP001807 & Male & Yes & 2 & Graduate & Yes & 6250 & 1300.0 & 108 & 360 & 1 & Rural & Y \\\\\n",
       "\t245 & LP001811 & Male & Yes & 0 & Not Graduate & No & 3406 & 4417.0 & 123 & 360 & 1 & Semiurban & Y \\\\\n",
       "\t246 & LP001813 & Male & No & 0 & Graduate & Yes & 6050 & 4333.0 & 120 & 180 & 1 & Urban & N \\\\\n",
       "\t247 & LP001814 & Male & Yes & 2 & Graduate & No & 9703 & 0.0 & 112 & 360 & 1 & Urban & Y \\\\\n",
       "\t248 & LP001819 & Male & Yes & 1 & Not Graduate & No & 6608 & 0.0 & 137 & 180 & 1 & Urban & Y \\\\\n",
       "\t249 & LP001824 & Male & Yes & 1 & Graduate & No & 2882 & 1843.0 & 123 & 480 & 1 & Semiurban & Y \\\\\n",
       "\t250 & LP001825 & Male & Yes & 0 & Graduate & No & 1809 & 1868.0 & 90 & 360 & 1 & Urban & Y \\\\\n",
       "\t251 & LP001835 & Male & Yes & 0 & Not Graduate & No & 1668 & 3890.0 & 201 & 360 & 0 & Semiurban & N \\\\\n",
       "\t252 & LP001836 & Female & No & 2 & Graduate & No & 3427 & 0.0 & 138 & 360 & 1 & Urban & N \\\\\n",
       "\t253 & LP001841 & Male & No & 0 & Not Graduate & Yes & 2583 & 2167.0 & 104 & 360 & 1 & Rural & Y \\\\\n",
       "\t254 & LP001843 & Male & Yes & 1 & Not Graduate & No & 2661 & 7101.0 & 279 & 180 & 1 & Semiurban & Y \\\\\n",
       "\t255 & LP001844 & Male & No & 0 & Graduate & Yes & 16250 & 0.0 & 192 & 360 & 0 & Urban & N \\\\\n",
       "\t256 & LP001846 & Female & No & 3+ & Graduate & No & 3083 & 0.0 & 255 & 360 & 1 & Rural & Y \\\\\n",
       "\t257 & LP001849 & Male & No & 0 & Not Graduate & No & 6045 & 0.0 & 115 & 360 & 0 & Rural & N \\\\\n",
       "\t258 & LP001854 & Male & Yes & 3+ & Graduate & No & 5250 & 0.0 & 94 & 360 & 1 & Urban & N \\\\\n",
       "\t259 & LP001859 & Male & Yes & 0 & Graduate & No & 14683 & 2100.0 & 304 & 360 & 1 & Rural & N \\\\\n",
       "\t260 & LP001864 & Male & Yes & 3+ & Not Graduate & No & 4931 & 0.0 & 128 & 360 &  & Semiurban & N \\\\\n",
       "\t261 & LP001865 & Male & Yes & 1 & Graduate & No & 6083 & 4250.0 & 330 & 360 &  & Urban & Y \\\\\n",
       "\t262 & LP001868 & Male & No & 0 & Graduate & No & 2060 & 2209.0 & 134 & 360 & 1 & Semiurban & Y \\\\\n",
       "\t263 & LP001870 & Female & No & 1 & Graduate & No & 3481 & 0.0 & 155 & 36 & 1 & Semiurban & N \\\\\n",
       "\t264 & LP001871 & Female & No & 0 & Graduate & No & 7200 & 0.0 & 120 & 360 & 1 & Rural & Y \\\\\n",
       "\t265 & LP001872 & Male & No & 0 & Graduate & Yes & 5166 & 0.0 & 128 & 360 & 1 & Semiurban & Y \\\\\n",
       "\t266 & LP001875 & Male & No & 0 & Graduate & No & 4095 & 3447.0 & 151 & 360 & 1 & Rural & Y \\\\\n",
       "\t267 & LP001877 & Male & Yes & 2 & Graduate & No & 4708 & 1387.0 & 150 & 360 & 1 & Semiurban & Y \\\\\n",
       "\t268 & LP001882 & Male & Yes & 3+ & Graduate & No & 4333 & 1811.0 & 160 & 360 & 0 & Urban & Y \\\\\n",
       "\t269 & LP001883 & Female & No & 0 & Graduate &  & 3418 & 0.0 & 135 & 360 & 1 & Rural & N \\\\\n",
       "\t270 & LP001884 & Female & No & 1 & Graduate & No & 2876 & 1560.0 & 90 & 360 & 1 & Urban & Y \\\\\n",
       "\t271 & LP001888 & Female & No & 0 & Graduate & No & 3237 & 0.0 & 30 & 360 & 1 & Urban & Y \\\\\n",
       "\t272 & LP001891 & Male & Yes & 0 & Graduate & No & 11146 & 0.0 & 136 & 360 & 1 & Urban & Y \\\\\n",
       "\t273 & LP001892 & Male & No & 0 & Graduate & No & 2833 & 1857.0 & 126 & 360 & 1 & Rural & Y \\\\\n",
       "\t274 & LP001894 & Male & Yes & 0 & Graduate & No & 2620 & 2223.0 & 150 & 360 & 1 & Semiurban & Y \\\\\n",
       "\t275 & LP001896 & Male & Yes & 2 & Graduate & No & 3900 & 0.0 & 90 & 360 & 1 & Semiurban & Y \\\\\n",
       "\t276 & LP001900 & Male & Yes & 1 & Graduate & No & 2750 & 1842.0 & 115 & 360 & 1 & Semiurban & Y \\\\\n",
       "\t277 & LP001903 & Male & Yes & 0 & Graduate & No & 3993 & 3274.0 & 207 & 360 & 1 & Semiurban & Y \\\\\n",
       "\t278 & LP001904 & Male & Yes & 0 & Graduate & No & 3103 & 1300.0 & 80 & 360 & 1 & Urban & Y \\\\\n",
       "\t279 & LP001907 & Male & Yes & 0 & Graduate & No & 14583 & 0.0 & 436 & 360 & 1 & Semiurban & Y \\\\\n",
       "\t280 & LP001908 & Female & Yes & 0 & Not Graduate & No & 4100 & 0.0 & 124 & 360 &  & Rural & Y \\\\\n",
       "\t281 & LP001910 & Male & No & 1 & Not Graduate & Yes & 4053 & 2426.0 & 158 & 360 & 0 & Urban & N \\\\\n",
       "\t282 & LP001914 & Male & Yes & 0 & Graduate & No & 3927 & 800.0 & 112 & 360 & 1 & Semiurban & Y \\\\\n",
       "\t283 & LP001915 & Male & Yes & 2 & Graduate & No & 2301 & 985.8 & 78 & 180 & 1 & Urban & Y \\\\\n",
       "\t284 & LP001917 & Female & No & 0 & Graduate & No & 1811 & 1666.0 & 54 & 360 & 1 & Urban & Y \\\\\n",
       "\t285 & LP001922 & Male & Yes & 0 & Graduate & No & 20667 & 0.0 &  & 360 & 1 & Rural & N \\\\\n",
       "\t286 & LP001924 & Male & No & 0 & Graduate & No & 3158 & 3053.0 & 89 & 360 & 1 & Rural & Y \\\\\n",
       "\t287 & LP001925 & Female & No & 0 & Graduate & Yes & 2600 & 1717.0 & 99 & 300 & 1 & Semiurban & N \\\\\n",
       "\t288 & LP001926 & Male & Yes & 0 & Graduate & No & 3704 & 2000.0 & 120 & 360 & 1 & Rural & Y \\\\\n",
       "\t289 & LP001931 & Female & No & 0 & Graduate & No & 4124 & 0.0 & 115 & 360 & 1 & Semiurban & Y \\\\\n",
       "\t290 & LP001935 & Male & No & 0 & Graduate & No & 9508 & 0.0 & 187 & 360 & 1 & Rural & Y \\\\\n",
       "\t291 & LP001936 & Male & Yes & 0 & Graduate & No & 3075 & 2416.0 & 139 & 360 & 1 & Rural & Y \\\\\n",
       "\t292 & LP001938 & Male & Yes & 2 & Graduate & No & 4400 & 0.0 & 127 & 360 & 0 & Semiurban & N \\\\\n",
       "\t293 & LP001940 & Male & Yes & 2 & Graduate & No & 3153 & 1560.0 & 134 & 360 & 1 & Urban & Y \\\\\n",
       "\t294 & LP001945 & Female & No &  & Graduate & No & 5417 & 0.0 & 143 & 480 & 0 & Urban & N \\\\\n",
       "\t295 & LP001947 & Male & Yes & 0 & Graduate & No & 2383 & 3334.0 & 172 & 360 & 1 & Semiurban & Y \\\\\n",
       "\t296 & LP001949 & Male & Yes & 3+ & Graduate &  & 4416 & 1250.0 & 110 & 360 & 1 & Urban & Y \\\\\n",
       "\t297 & LP001953 & Male & Yes & 1 & Graduate & No & 6875 & 0.0 & 200 & 360 & 1 & Semiurban & Y \\\\\n",
       "\t298 & LP001954 & Female & Yes & 1 & Graduate & No & 4666 & 0.0 & 135 & 360 & 1 & Urban & Y \\\\\n",
       "\t299 & LP001955 & Female & No & 0 & Graduate & No & 5000 & 2541.0 & 151 & 480 & 1 & Rural & N \\\\\n",
       "\t300 & LP001963 & Male & Yes & 1 & Graduate & No & 2014 & 2925.0 & 113 & 360 & 1 & Urban & N \\\\\n",
       "\t301 & LP001964 & Male & Yes & 0 & Not Graduate & No & 1800 & 2934.0 & 93 & 360 & 0 & Urban & N \\\\\n",
       "\t302 & LP001972 & Male & Yes &  & Not Graduate & No & 2875 & 1750.0 & 105 & 360 & 1 & Semiurban & Y \\\\\n",
       "\t303 & LP001974 & Female & No & 0 & Graduate & No & 5000 & 0.0 & 132 & 360 & 1 & Rural & Y \\\\\n",
       "\t304 & LP001977 & Male & Yes & 1 & Graduate & No & 1625 & 1803.0 & 96 & 360 & 1 & Urban & Y \\\\\n",
       "\t305 & LP001978 & Male & No & 0 & Graduate & No & 4000 & 2500.0 & 140 & 360 & 1 & Rural & Y \\\\\n",
       "\t306 & LP001990 & Male & No & 0 & Not Graduate & No & 2000 & 0.0 &  & 360 & 1 & Urban & N \\\\\n",
       "\t307 & LP001993 & Female & No & 0 & Graduate & No & 3762 & 1666.0 & 135 & 360 & 1 & Rural & Y \\\\\n",
       "\t308 & LP001994 & Female & No & 0 & Graduate & No & 2400 & 1863.0 & 104 & 360 & 0 & Urban & N \\\\\n",
       "\t309 & LP001996 & Male & No & 0 & Graduate & No & 20233 & 0.0 & 480 & 360 & 1 & Rural & N \\\\\n",
       "\t310 & LP001998 & Male & Yes & 2 & Not Graduate & No & 7667 & 0.0 & 185 & 360 &  & Rural & Y \\\\\n",
       "\t311 & LP002002 & Female & No & 0 & Graduate & No & 2917 & 0.0 & 84 & 360 & 1 & Semiurban & Y \\\\\n",
       "\t312 & LP002004 & Male & No & 0 & Not Graduate & No & 2927 & 2405.0 & 111 & 360 & 1 & Semiurban & Y \\\\\n",
       "\t313 & LP002006 & Female & No & 0 & Graduate & No & 2507 & 0.0 & 56 & 360 & 1 & Rural & Y \\\\\n",
       "\t314 & LP002008 & Male & Yes & 2 & Graduate & Yes & 5746 & 0.0 & 144 & 84 &  & Rural & Y \\\\\n",
       "\t315 & LP002024 &  & Yes & 0 & Graduate & No & 2473 & 1843.0 & 159 & 360 & 1 & Rural & N \\\\\n",
       "\t316 & LP002031 & Male & Yes & 1 & Not Graduate & No & 3399 & 1640.0 & 111 & 180 & 1 & Urban & Y \\\\\n",
       "\t317 & LP002035 & Male & Yes & 2 & Graduate & No & 3717 & 0.0 & 120 & 360 & 1 & Semiurban & Y \\\\\n",
       "\t318 & LP002036 & Male & Yes & 0 & Graduate & No & 2058 & 2134.0 & 88 & 360 &  & Urban & Y \\\\\n",
       "\t319 & LP002043 & Female & No & 1 & Graduate & No & 3541 & 0.0 & 112 & 360 &  & Semiurban & Y \\\\\n",
       "\t320 & LP002050 & Male & Yes & 1 & Graduate & Yes & 10000 & 0.0 & 155 & 360 & 1 & Rural & N \\\\\n",
       "\t321 & LP002051 & Male & Yes & 0 & Graduate & No & 2400 & 2167.0 & 115 & 360 & 1 & Semiurban & Y \\\\\n",
       "\t322 & LP002053 & Male & Yes & 3+ & Graduate & No & 4342 & 189.0 & 124 & 360 & 1 & Semiurban & Y \\\\\n",
       "\t323 & LP002054 & Male & Yes & 2 & Not Graduate & No & 3601 & 1590.0 &  & 360 & 1 & Rural & Y \\\\\n",
       "\t324 & LP002055 & Female & No & 0 & Graduate & No & 3166 & 2985.0 & 132 & 360 &  & Rural & Y \\\\\n",
       "\t325 & LP002065 & Male & Yes & 3+ & Graduate & No & 15000 & 0.0 & 300 & 360 & 1 & Rural & Y \\\\\n",
       "\t326 & LP002067 & Male & Yes & 1 & Graduate & Yes & 8666 & 4983.0 & 376 & 360 & 0 & Rural & N \\\\\n",
       "\t327 & LP002068 & Male & No & 0 & Graduate & No & 4917 & 0.0 & 130 & 360 & 0 & Rural & Y \\\\\n",
       "\t328 & LP002082 & Male & Yes & 0 & Graduate & Yes & 5818 & 2160.0 & 184 & 360 & 1 & Semiurban & Y \\\\\n",
       "\t329 & LP002086 & Female & Yes & 0 & Graduate & No & 4333 & 2451.0 & 110 & 360 & 1 & Urban & N \\\\\n",
       "\t330 & LP002087 & Female & No & 0 & Graduate & No & 2500 & 0.0 & 67 & 360 & 1 & Urban & Y \\\\\n",
       "\t331 & LP002097 & Male & No & 1 & Graduate & No & 4384 & 1793.0 & 117 & 360 & 1 & Urban & Y \\\\\n",
       "\t332 & LP002098 & Male & No & 0 & Graduate & No & 2935 & 0.0 & 98 & 360 & 1 & Semiurban & Y \\\\\n",
       "\t333 & LP002100 & Male & No &  & Graduate & No & 2833 & 0.0 & 71 & 360 & 1 & Urban & Y \\\\\n",
       "\t334 & LP002101 & Male & Yes & 0 & Graduate &  & 63337 & 0.0 & 490 & 180 & 1 & Urban & Y \\\\\n",
       "\t335 & LP002103 &  & Yes & 1 & Graduate & Yes & 9833 & 1833.0 & 182 & 180 & 1 & Urban & Y \\\\\n",
       "\t336 & LP002106 & Male & Yes &  & Graduate & Yes & 5503 & 4490.0 & 70 &  & 1 & Semiurban & Y \\\\\n",
       "\t337 & LP002110 & Male & Yes & 1 & Graduate &  & 5250 & 688.0 & 160 & 360 & 1 & Rural & Y \\\\\n",
       "\t338 & LP002112 & Male & Yes & 2 & Graduate & Yes & 2500 & 4600.0 & 176 & 360 & 1 & Rural & Y \\\\\n",
       "\t339 & LP002113 & Female & No & 3+ & Not Graduate & No & 1830 & 0.0 &  & 360 & 0 & Urban & N \\\\\n",
       "\t340 & LP002114 & Female & No & 0 & Graduate & No & 4160 & 0.0 & 71 & 360 & 1 & Semiurban & Y \\\\\n",
       "\t341 & LP002115 & Male & Yes & 3+ & Not Graduate & No & 2647 & 1587.0 & 173 & 360 & 1 & Rural & N \\\\\n",
       "\t342 & LP002116 & Female & No & 0 & Graduate & No & 2378 & 0.0 & 46 & 360 & 1 & Rural & N \\\\\n",
       "\t343 & LP002119 & Male & Yes & 1 & Not Graduate & No & 4554 & 1229.0 & 158 & 360 & 1 & Urban & Y \\\\\n",
       "\t344 & LP002126 & Male & Yes & 3+ & Not Graduate & No & 3173 & 0.0 & 74 & 360 & 1 & Semiurban & Y \\\\\n",
       "\t345 & LP002128 & Male & Yes & 2 & Graduate &  & 2583 & 2330.0 & 125 & 360 & 1 & Rural & Y \\\\\n",
       "\t346 & LP002129 & Male & Yes & 0 & Graduate & No & 2499 & 2458.0 & 160 & 360 & 1 & Semiurban & Y \\\\\n",
       "\t347 & LP002130 & Male & Yes &  & Not Graduate & No & 3523 & 3230.0 & 152 & 360 & 0 & Rural & N \\\\\n",
       "\t348 & LP002131 & Male & Yes & 2 & Not Graduate & No & 3083 & 2168.0 & 126 & 360 & 1 & Urban & Y \\\\\n",
       "\t349 & LP002137 & Male & Yes & 0 & Graduate & No & 6333 & 4583.0 & 259 & 360 &  & Semiurban & Y \\\\\n",
       "\t350 & LP002138 & Male & Yes & 0 & Graduate & No & 2625 & 6250.0 & 187 & 360 & 1 & Rural & Y \\\\\n",
       "\t351 & LP002139 & Male & Yes & 0 & Graduate & No & 9083 & 0.0 & 228 & 360 & 1 & Semiurban & Y \\\\\n",
       "\t352 & LP002140 & Male & No & 0 & Graduate & No & 8750 & 4167.0 & 308 & 360 & 1 & Rural & N \\\\\n",
       "\t353 & LP002141 & Male & Yes & 3+ & Graduate & No & 2666 & 2083.0 & 95 & 360 & 1 & Rural & Y \\\\\n",
       "\t354 & LP002142 & Female & Yes & 0 & Graduate & Yes & 5500 & 0.0 & 105 & 360 & 0 & Rural & N \\\\\n",
       "\t355 & LP002143 & Female & Yes & 0 & Graduate & No & 2423 & 505.0 & 130 & 360 & 1 & Semiurban & Y \\\\\n",
       "\t356 & LP002144 & Female & No &  & Graduate & No & 3813 & 0.0 & 116 & 180 & 1 & Urban & Y \\\\\n",
       "\t357 & LP002149 & Male & Yes & 2 & Graduate & No & 8333 & 3167.0 & 165 & 360 & 1 & Rural & Y \\\\\n",
       "\t358 & LP002151 & Male & Yes & 1 & Graduate & No & 3875 & 0.0 & 67 & 360 & 1 & Urban & N \\\\\n",
       "\t359 & LP002158 & Male & Yes & 0 & Not Graduate & No & 3000 & 1666.0 & 100 & 480 & 0 & Urban & N \\\\\n",
       "\t360 & LP002160 & Male & Yes & 3+ & Graduate & No & 5167 & 3167.0 & 200 & 360 & 1 & Semiurban & Y \\\\\n",
       "\t361 & LP002161 & Female & No & 1 & Graduate & No & 4723 & 0.0 & 81 & 360 & 1 & Semiurban & N \\\\\n",
       "\t362 & LP002170 & Male & Yes & 2 & Graduate & No & 5000 & 3667.0 & 236 & 360 & 1 & Semiurban & Y \\\\\n",
       "\t363 & LP002175 & Male & Yes & 0 & Graduate & No & 4750 & 2333.0 & 130 & 360 & 1 & Urban & Y \\\\\n",
       "\t364 & LP002178 & Male & Yes & 0 & Graduate & No & 3013 & 3033.0 & 95 & 300 &  & Urban & Y \\\\\n",
       "\t365 & LP002180 & Male & No & 0 & Graduate & Yes & 6822 & 0.0 & 141 & 360 & 1 & Rural & Y \\\\\n",
       "\t366 & LP002181 & Male & No & 0 & Not Graduate & No & 6216 & 0.0 & 133 & 360 & 1 & Rural & N \\\\\n",
       "\t367 & LP002187 & Male & No & 0 & Graduate & No & 2500 & 0.0 & 96 & 480 & 1 & Semiurban & N \\\\\n",
       "\t368 & LP002188 & Male & No & 0 & Graduate & No & 5124 & 0.0 & 124 &  & 0 & Rural & N \\\\\n",
       "\t369 & LP002190 & Male & Yes & 1 & Graduate & No & 6325 & 0.0 & 175 & 360 & 1 & Semiurban & Y \\\\\n",
       "\t370 & LP002191 & Male & Yes & 0 & Graduate & No & 19730 & 5266.0 & 570 & 360 & 1 & Rural & N \\\\\n",
       "\t371 & LP002194 & Female & No & 0 & Graduate & Yes & 15759 & 0.0 & 55 & 360 & 1 & Semiurban & Y \\\\\n",
       "\t372 & LP002197 & Male & Yes & 2 & Graduate & No & 5185 & 0.0 & 155 & 360 & 1 & Semiurban & Y \\\\\n",
       "\t373 & LP002201 & Male & Yes & 2 & Graduate & Yes & 9323 & 7873.0 & 380 & 300 & 1 & Rural & Y \\\\\n",
       "\t374 & LP002205 & Male & No & 1 & Graduate & No & 3062 & 1987.0 & 111 & 180 & 0 & Urban & N \\\\\n",
       "\t375 & LP002209 & Female & No & 0 & Graduate &  & 2764 & 1459.0 & 110 & 360 & 1 & Urban & Y \\\\\n",
       "\t376 & LP002211 & Male & Yes & 0 & Graduate & No & 4817 & 923.0 & 120 & 180 & 1 & Urban & Y \\\\\n",
       "\t377 & LP002219 & Male & Yes & 3+ & Graduate & No & 8750 & 4996.0 & 130 & 360 & 1 & Rural & Y \\\\\n",
       "\t378 & LP002223 & Male & Yes & 0 & Graduate & No & 4310 & 0.0 & 130 & 360 &  & Semiurban & Y \\\\\n",
       "\t379 & LP002224 & Male & No & 0 & Graduate & No & 3069 & 0.0 & 71 & 480 & 1 & Urban & N \\\\\n",
       "\t380 & LP002225 & Male & Yes & 2 & Graduate & No & 5391 & 0.0 & 130 & 360 & 1 & Urban & Y \\\\\n",
       "\t381 & LP002226 & Male & Yes & 0 & Graduate &  & 3333 & 2500.0 & 128 & 360 & 1 & Semiurban & Y \\\\\n",
       "\t382 & LP002229 & Male & No & 0 & Graduate & No & 5941 & 4232.0 & 296 & 360 & 1 & Semiurban & Y \\\\\n",
       "\t383 & LP002231 & Female & No & 0 & Graduate & No & 6000 & 0.0 & 156 & 360 & 1 & Urban & Y \\\\\n",
       "\t384 & LP002234 & Male & No & 0 & Graduate & Yes & 7167 & 0.0 & 128 & 360 & 1 & Urban & Y \\\\\n",
       "\t385 & LP002236 & Male & Yes & 2 & Graduate & No & 4566 & 0.0 & 100 & 360 & 1 & Urban & N \\\\\n",
       "\t386 & LP002237 & Male & No & 1 & Graduate &  & 3667 & 0.0 & 113 & 180 & 1 & Urban & Y \\\\\n",
       "\t387 & LP002239 & Male & No & 0 & Not Graduate & No & 2346 & 1600.0 & 132 & 360 & 1 & Semiurban & Y \\\\\n",
       "\t388 & LP002243 & Male & Yes & 0 & Not Graduate & No & 3010 & 3136.0 &  & 360 & 0 & Urban & N \\\\\n",
       "\t389 & LP002244 & Male & Yes & 0 & Graduate & No & 2333 & 2417.0 & 136 & 360 & 1 & Urban & Y \\\\\n",
       "\t390 & LP002250 & Male & Yes & 0 & Graduate & No & 5488 & 0.0 & 125 & 360 & 1 & Rural & Y \\\\\n",
       "\t391 & LP002255 & Male & No & 3+ & Graduate & No & 9167 & 0.0 & 185 & 360 & 1 & Rural & Y \\\\\n",
       "\t392 & LP002262 & Male & Yes & 3+ & Graduate & No & 9504 & 0.0 & 275 & 360 & 1 & Rural & Y \\\\\n",
       "\t393 & LP002263 & Male & Yes & 0 & Graduate & No & 2583 & 2115.0 & 120 & 360 &  & Urban & Y \\\\\n",
       "\t394 & LP002265 & Male & Yes & 2 & Not Graduate & No & 1993 & 1625.0 & 113 & 180 & 1 & Semiurban & Y \\\\\n",
       "\t395 & LP002266 & Male & Yes & 2 & Graduate & No & 3100 & 1400.0 & 113 & 360 & 1 & Urban & Y \\\\\n",
       "\t396 & LP002272 & Male & Yes & 2 & Graduate & No & 3276 & 484.0 & 135 & 360 &  & Semiurban & Y \\\\\n",
       "\t397 & LP002277 & Female & No & 0 & Graduate & No & 3180 & 0.0 & 71 & 360 & 0 & Urban & N \\\\\n",
       "\t398 & LP002281 & Male & Yes & 0 & Graduate & No & 3033 & 1459.0 & 95 & 360 & 1 & Urban & Y \\\\\n",
       "\t399 & LP002284 & Male & No & 0 & Not Graduate & No & 3902 & 1666.0 & 109 & 360 & 1 & Rural & Y \\\\\n",
       "\t400 & LP002287 & Female & No & 0 & Graduate & No & 1500 & 1800.0 & 103 & 360 & 0 & Semiurban & N \\\\\n",
       "\t401 & LP002288 & Male & Yes & 2 & Not Graduate & No & 2889 & 0.0 & 45 & 180 & 0 & Urban & N \\\\\n",
       "\t402 & LP002296 & Male & No & 0 & Not Graduate & No & 2755 & 0.0 & 65 & 300 & 1 & Rural & N \\\\\n",
       "\t403 & LP002297 & Male & No & 0 & Graduate & No & 2500 & 20000.0 & 103 & 360 & 1 & Semiurban & Y \\\\\n",
       "\t404 & LP002300 & Female & No & 0 & Not Graduate & No & 1963 & 0.0 & 53 & 360 & 1 & Semiurban & Y \\\\\n",
       "\t405 & LP002301 & Female & No & 0 & Graduate & Yes & 7441 & 0.0 & 194 & 360 & 1 & Rural & N \\\\\n",
       "\t406 & LP002305 & Female & No & 0 & Graduate & No & 4547 & 0.0 & 115 & 360 & 1 & Semiurban & Y \\\\\n",
       "\t407 & LP002308 & Male & Yes & 0 & Not Graduate & No & 2167 & 2400.0 & 115 & 360 & 1 & Urban & Y \\\\\n",
       "\t408 & LP002314 & Female & No & 0 & Not Graduate & No & 2213 & 0.0 & 66 & 360 & 1 & Rural & Y \\\\\n",
       "\t409 & LP002315 & Male & Yes & 1 & Graduate & No & 8300 & 0.0 & 152 & 300 & 0 & Semiurban & N \\\\\n",
       "\t410 & LP002317 & Male & Yes & 3+ & Graduate & No & 81000 & 0.0 & 360 & 360 & 0 & Rural & N \\\\\n",
       "\t411 & LP002318 & Female & No & 1 & Not Graduate & Yes & 3867 & 0.0 & 62 & 360 & 1 & Semiurban & N \\\\\n",
       "\t412 & LP002319 & Male & Yes & 0 & Graduate &  & 6256 & 0.0 & 160 & 360 &  & Urban & Y \\\\\n",
       "\t413 & LP002328 & Male & Yes & 0 & Not Graduate & No & 6096 & 0.0 & 218 & 360 & 0 & Rural & N \\\\\n",
       "\t414 & LP002332 & Male & Yes & 0 & Not Graduate & No & 2253 & 2033.0 & 110 & 360 & 1 & Rural & Y \\\\\n",
       "\t415 & LP002335 & Female & Yes & 0 & Not Graduate & No & 2149 & 3237.0 & 178 & 360 & 0 & Semiurban & N \\\\\n",
       "\t416 & LP002337 & Female & No & 0 & Graduate & No & 2995 & 0.0 & 60 & 360 & 1 & Urban & Y \\\\\n",
       "\t417 & LP002341 & Female & No & 1 & Graduate & No & 2600 & 0.0 & 160 & 360 & 1 & Urban & N \\\\\n",
       "\t418 & LP002342 & Male & Yes & 2 & Graduate & Yes & 1600 & 20000.0 & 239 & 360 & 1 & Urban & N \\\\\n",
       "\t419 & LP002345 & Male & Yes & 0 & Graduate & No & 1025 & 2773.0 & 112 & 360 & 1 & Rural & Y \\\\\n",
       "\t420 & LP002347 & Male & Yes & 0 & Graduate & No & 3246 & 1417.0 & 138 & 360 & 1 & Semiurban & Y \\\\\n",
       "\t421 & LP002348 & Male & Yes & 0 & Graduate & No & 5829 & 0.0 & 138 & 360 & 1 & Rural & Y \\\\\n",
       "\t422 & LP002357 & Female & No & 0 & Not Graduate & No & 2720 & 0.0 & 80 &  & 0 & Urban & N \\\\\n",
       "\t423 & LP002361 & Male & Yes & 0 & Graduate & No & 1820 & 1719.0 & 100 & 360 & 1 & Urban & Y \\\\\n",
       "\t424 & LP002362 & Male & Yes & 1 & Graduate & No & 7250 & 1667.0 & 110 &  & 0 & Urban & N \\\\\n",
       "\t425 & LP002364 & Male & Yes & 0 & Graduate & No & 14880 & 0.0 & 96 & 360 & 1 & Semiurban & Y \\\\\n",
       "\t426 & LP002366 & Male & Yes & 0 & Graduate & No & 2666 & 4300.0 & 121 & 360 & 1 & Rural & Y \\\\\n",
       "\t427 & LP002367 & Female & No & 1 & Not Graduate & No & 4606 & 0.0 & 81 & 360 & 1 & Rural & N \\\\\n",
       "\t428 & LP002368 & Male & Yes & 2 & Graduate & No & 5935 & 0.0 & 133 & 360 & 1 & Semiurban & Y \\\\\n",
       "\t429 & LP002369 & Male & Yes & 0 & Graduate & No & 2920 & 16.12 & 87 & 360 & 1 & Rural & Y \\\\\n",
       "\t430 & LP002370 & Male & No & 0 & Not Graduate & No & 2717 & 0.0 & 60 & 180 & 1 & Urban & Y \\\\\n",
       "\t431 & LP002377 & Female & No & 1 & Graduate & Yes & 8624 & 0.0 & 150 & 360 & 1 & Semiurban & Y \\\\\n",
       "\t432 & LP002379 & Male & No & 0 & Graduate & No & 6500 & 0.0 & 105 & 360 & 0 & Rural & N \\\\\n",
       "\t433 & LP002386 & Male & No & 0 & Graduate &  & 12876 & 0.0 & 405 & 360 & 1 & Semiurban & Y \\\\\n",
       "\t434 & LP002387 & Male & Yes & 0 & Graduate & No & 2425 & 2340.0 & 143 & 360 & 1 & Semiurban & Y \\\\\n",
       "\t435 & LP002390 & Male & No & 0 & Graduate & No & 3750 & 0.0 & 100 & 360 & 1 & Urban & Y \\\\\n",
       "\t436 & LP002393 & Female &  &  & Graduate & No & 10047 & 0.0 &  & 240 & 1 & Semiurban & Y \\\\\n",
       "\t437 & LP002398 & Male & No & 0 & Graduate & No & 1926 & 1851.0 & 50 & 360 & 1 & Semiurban & Y \\\\\n",
       "\t438 & LP002401 & Male & Yes & 0 & Graduate & No & 2213 & 1125.0 &  & 360 & 1 & Urban & Y \\\\\n",
       "\t439 & LP002403 & Male & No & 0 & Graduate & Yes & 10416 & 0.0 & 187 & 360 & 0 & Urban & N \\\\\n",
       "\t440 & LP002407 & Female & Yes & 0 & Not Graduate & Yes & 7142 & 0.0 & 138 & 360 & 1 & Rural & Y \\\\\n",
       "\t441 & LP002408 & Male & No & 0 & Graduate & No & 3660 & 5064.0 & 187 & 360 & 1 & Semiurban & Y \\\\\n",
       "\t442 & LP002409 & Male & Yes & 0 & Graduate & No & 7901 & 1833.0 & 180 & 360 & 1 & Rural & Y \\\\\n",
       "\t443 & LP002418 & Male & No & 3+ & Not Graduate & No & 4707 & 1993.0 & 148 & 360 & 1 & Semiurban & Y \\\\\n",
       "\t444 & LP002422 & Male & No & 1 & Graduate & No & 37719 & 0.0 & 152 & 360 & 1 & Semiurban & Y \\\\\n",
       "\t445 & LP002424 & Male & Yes & 0 & Graduate & No & 7333 & 8333.0 & 175 & 300 &  & Rural & Y \\\\\n",
       "\t446 & LP002429 & Male & Yes & 1 & Graduate & Yes & 3466 & 1210.0 & 130 & 360 & 1 & Rural & Y \\\\\n",
       "\t447 & LP002434 & Male & Yes & 2 & Not Graduate & No & 4652 & 0.0 & 110 & 360 & 1 & Rural & Y \\\\\n",
       "\t448 & LP002435 & Male & Yes & 0 & Graduate &  & 3539 & 1376.0 & 55 & 360 & 1 & Rural & N \\\\\n",
       "\t449 & LP002443 & Male & Yes & 2 & Graduate & No & 3340 & 1710.0 & 150 & 360 & 0 & Rural & N \\\\\n",
       "\t450 & LP002444 & Male & No & 1 & Not Graduate & Yes & 2769 & 1542.0 & 190 & 360 &  & Semiurban & N \\\\\n",
       "\t451 & LP002446 & Male & Yes & 2 & Not Graduate & No & 2309 & 1255.0 & 125 & 360 & 0 & Rural & N \\\\\n",
       "\t452 & LP002447 & Male & Yes & 2 & Not Graduate & No & 1958 & 1456.0 & 60 & 300 &  & Urban & Y \\\\\n",
       "\t453 & LP002448 & Male & Yes & 0 & Graduate & No & 3948 & 1733.0 & 149 & 360 & 0 & Rural & N \\\\\n",
       "\t454 & LP002449 & Male & Yes & 0 & Graduate & No & 2483 & 2466.0 & 90 & 180 & 0 & Rural & Y \\\\\n",
       "\t455 & LP002453 & Male & No & 0 & Graduate & Yes & 7085 & 0.0 & 84 & 360 & 1 & Semiurban & Y \\\\\n",
       "\t456 & LP002455 & Male & Yes & 2 & Graduate & No & 3859 & 0.0 & 96 & 360 & 1 & Semiurban & Y \\\\\n",
       "\t457 & LP002459 & Male & Yes & 0 & Graduate & No & 4301 & 0.0 & 118 & 360 & 1 & Urban & Y \\\\\n",
       "\t458 & LP002467 & Male & Yes & 0 & Graduate & No & 3708 & 2569.0 & 173 & 360 & 1 & Urban & N \\\\\n",
       "\t459 & LP002472 & Male & No & 2 & Graduate & No & 4354 & 0.0 & 136 & 360 & 1 & Rural & Y \\\\\n",
       "\t460 & LP002473 & Male & Yes & 0 & Graduate & No & 8334 & 0.0 & 160 & 360 & 1 & Semiurban & N \\\\\n",
       "\t461 & LP002478 &  & Yes & 0 & Graduate & Yes & 2083 & 4083.0 & 160 & 360 &  & Semiurban & Y \\\\\n",
       "\t462 & LP002484 & Male & Yes & 3+ & Graduate & No & 7740 & 0.0 & 128 & 180 & 1 & Urban & Y \\\\\n",
       "\t463 & LP002487 & Male & Yes & 0 & Graduate & No & 3015 & 2188.0 & 153 & 360 & 1 & Rural & Y \\\\\n",
       "\t464 & LP002489 & Female & No & 1 & Not Graduate &  & 5191 & 0.0 & 132 & 360 & 1 & Semiurban & Y \\\\\n",
       "\t465 & LP002493 & Male & No & 0 & Graduate & No & 4166 & 0.0 & 98 & 360 & 0 & Semiurban & N \\\\\n",
       "\t466 & LP002494 & Male & No & 0 & Graduate & No & 6000 & 0.0 & 140 & 360 & 1 & Rural & Y \\\\\n",
       "\t467 & LP002500 & Male & Yes & 3+ & Not Graduate & No & 2947 & 1664.0 & 70 & 180 & 0 & Urban & N \\\\\n",
       "\t468 & LP002501 &  & Yes & 0 & Graduate & No & 16692 & 0.0 & 110 & 360 & 1 & Semiurban & Y \\\\\n",
       "\t469 & LP002502 & Female & Yes & 2 & Not Graduate &  & 210 & 2917.0 & 98 & 360 & 1 & Semiurban & Y \\\\\n",
       "\t470 & LP002505 & Male & Yes & 0 & Graduate & No & 4333 & 2451.0 & 110 & 360 & 1 & Urban & N \\\\\n",
       "\t471 & LP002515 & Male & Yes & 1 & Graduate & Yes & 3450 & 2079.0 & 162 & 360 & 1 & Semiurban & Y \\\\\n",
       "\t472 & LP002517 & Male & Yes & 1 & Not Graduate & No & 2653 & 1500.0 & 113 & 180 & 0 & Rural & N \\\\\n",
       "\t473 & LP002519 & Male & Yes & 3+ & Graduate & No & 4691 & 0.0 & 100 & 360 & 1 & Semiurban & Y \\\\\n",
       "\t474 & LP002522 & Female & No & 0 & Graduate & Yes & 2500 & 0.0 & 93 & 360 &  & Urban & Y \\\\\n",
       "\t475 & LP002524 & Male & No & 2 & Graduate & No & 5532 & 4648.0 & 162 & 360 & 1 & Rural & Y \\\\\n",
       "\t476 & LP002527 & Male & Yes & 2 & Graduate & Yes & 16525 & 1014.0 & 150 & 360 & 1 & Rural & Y \\\\\n",
       "\t477 & LP002529 & Male & Yes & 2 & Graduate & No & 6700 & 1750.0 & 230 & 300 & 1 & Semiurban & Y \\\\\n",
       "\t478 & LP002530 &  & Yes & 2 & Graduate & No & 2873 & 1872.0 & 132 & 360 & 0 & Semiurban & N \\\\\n",
       "\t479 & LP002531 & Male & Yes & 1 & Graduate & Yes & 16667 & 2250.0 & 86 & 360 & 1 & Semiurban & Y \\\\\n",
       "\t480 & LP002533 & Male & Yes & 2 & Graduate & No & 2947 & 1603.0 &  & 360 & 1 & Urban & N \\\\\n",
       "\t481 & LP002534 & Female & No & 0 & Not Graduate & No & 4350 & 0.0 & 154 & 360 & 1 & Rural & Y \\\\\n",
       "\t482 & LP002536 & Male & Yes & 3+ & Not Graduate & No & 3095 & 0.0 & 113 & 360 & 1 & Rural & Y \\\\\n",
       "\t483 & LP002537 & Male & Yes & 0 & Graduate & No & 2083 & 3150.0 & 128 & 360 & 1 & Semiurban & Y \\\\\n",
       "\t484 & LP002541 & Male & Yes & 0 & Graduate & No & 10833 & 0.0 & 234 & 360 & 1 & Semiurban & Y \\\\\n",
       "\t485 & LP002543 & Male & Yes & 2 & Graduate & No & 8333 & 0.0 & 246 & 360 & 1 & Semiurban & Y \\\\\n",
       "\t486 & LP002544 & Male & Yes & 1 & Not Graduate & No & 1958 & 2436.0 & 131 & 360 & 1 & Rural & Y \\\\\n",
       "\t487 & LP002545 & Male & No & 2 & Graduate & No & 3547 & 0.0 & 80 & 360 & 0 & Rural & N \\\\\n",
       "\t488 & LP002547 & Male & Yes & 1 & Graduate & No & 18333 & 0.0 & 500 & 360 & 1 & Urban & N \\\\\n",
       "\t489 & LP002555 & Male & Yes & 2 & Graduate & Yes & 4583 & 2083.0 & 160 & 360 & 1 & Semiurban & Y \\\\\n",
       "\t490 & LP002556 & Male & No & 0 & Graduate & No & 2435 & 0.0 & 75 & 360 & 1 & Urban & N \\\\\n",
       "\t491 & LP002560 & Male & No & 0 & Not Graduate & No & 2699 & 2785.0 & 96 & 360 &  & Semiurban & Y \\\\\n",
       "\t492 & LP002562 & Male & Yes & 1 & Not Graduate & No & 5333 & 1131.0 & 186 & 360 &  & Urban & Y \\\\\n",
       "\t493 & LP002571 & Male & No & 0 & Not Graduate & No & 3691 & 0.0 & 110 & 360 & 1 & Rural & Y \\\\\n",
       "\t494 & LP002582 & Female & No & 0 & Not Graduate & Yes & 17263 & 0.0 & 225 & 360 & 1 & Semiurban & Y \\\\\n",
       "\t495 & LP002585 & Male & Yes & 0 & Graduate & No & 3597 & 2157.0 & 119 & 360 & 0 & Rural & N \\\\\n",
       "\t496 & LP002586 & Female & Yes & 1 & Graduate & No & 3326 & 913.0 & 105 & 84 & 1 & Semiurban & Y \\\\\n",
       "\t497 & LP002587 & Male & Yes & 0 & Not Graduate & No & 2600 & 1700.0 & 107 & 360 & 1 & Rural & Y \\\\\n",
       "\t498 & LP002588 & Male & Yes & 0 & Graduate & No & 4625 & 2857.0 & 111 & 12 &  & Urban & Y \\\\\n",
       "\t499 & LP002600 & Male & Yes & 1 & Graduate & Yes & 2895 & 0.0 & 95 & 360 & 1 & Semiurban & Y \\\\\n",
       "\t500 & LP002602 & Male & No & 0 & Graduate & No & 6283 & 4416.0 & 209 & 360 & 0 & Rural & N \\\\\n",
       "\t501 & LP002603 & Female & No & 0 & Graduate & No & 645 & 3683.0 & 113 & 480 & 1 & Rural & Y \\\\\n",
       "\t502 & LP002606 & Female & No & 0 & Graduate & No & 3159 & 0.0 & 100 & 360 & 1 & Semiurban & Y \\\\\n",
       "\t503 & LP002615 & Male & Yes & 2 & Graduate & No & 4865 & 5624.0 & 208 & 360 & 1 & Semiurban & Y \\\\\n",
       "\t504 & LP002618 & Male & Yes & 1 & Not Graduate & No & 4050 & 5302.0 & 138 & 360 &  & Rural & N \\\\\n",
       "\t505 & LP002619 & Male & Yes & 0 & Not Graduate & No & 3814 & 1483.0 & 124 & 300 & 1 & Semiurban & Y \\\\\n",
       "\t506 & LP002622 & Male & Yes & 2 & Graduate & No & 3510 & 4416.0 & 243 & 360 & 1 & Rural & Y \\\\\n",
       "\t507 & LP002624 & Male & Yes & 0 & Graduate & No & 20833 & 6667.0 & 480 & 360 &  & Urban & Y \\\\\n",
       "\t508 & LP002625 &  & No & 0 & Graduate & No & 3583 & 0.0 & 96 & 360 & 1 & Urban & N \\\\\n",
       "\t509 & LP002626 & Male & Yes & 0 & Graduate & Yes & 2479 & 3013.0 & 188 & 360 & 1 & Urban & Y \\\\\n",
       "\t510 & LP002634 & Female & No & 1 & Graduate & No & 13262 & 0.0 & 40 & 360 & 1 & Urban & Y \\\\\n",
       "\t511 & LP002637 & Male & No & 0 & Not Graduate & No & 3598 & 1287.0 & 100 & 360 & 1 & Rural & N \\\\\n",
       "\t512 & LP002640 & Male & Yes & 1 & Graduate & No & 6065 & 2004.0 & 250 & 360 & 1 & Semiurban & Y \\\\\n",
       "\t513 & LP002643 & Male & Yes & 2 & Graduate & No & 3283 & 2035.0 & 148 & 360 & 1 & Urban & Y \\\\\n",
       "\t514 & LP002648 & Male & Yes & 0 & Graduate & No & 2130 & 6666.0 & 70 & 180 & 1 & Semiurban & N \\\\\n",
       "\t515 & LP002652 & Male & No & 0 & Graduate & No & 5815 & 3666.0 & 311 & 360 & 1 & Rural & N \\\\\n",
       "\t516 & LP002659 & Male & Yes & 3+ & Graduate & No & 3466 & 3428.0 & 150 & 360 & 1 & Rural & Y \\\\\n",
       "\t517 & LP002670 & Female & Yes & 2 & Graduate & No & 2031 & 1632.0 & 113 & 480 & 1 & Semiurban & Y \\\\\n",
       "\t518 & LP002682 & Male & Yes &  & Not Graduate & No & 3074 & 1800.0 & 123 & 360 & 0 & Semiurban & N \\\\\n",
       "\t519 & LP002683 & Male & No & 0 & Graduate & No & 4683 & 1915.0 & 185 & 360 & 1 & Semiurban & N \\\\\n",
       "\t520 & LP002684 & Female & No & 0 & Not Graduate & No & 3400 & 0.0 & 95 & 360 & 1 & Rural & N \\\\\n",
       "\t521 & LP002689 & Male & Yes & 2 & Not Graduate & No & 2192 & 1742.0 & 45 & 360 & 1 & Semiurban & Y \\\\\n",
       "\t522 & LP002690 & Male & No & 0 & Graduate & No & 2500 & 0.0 & 55 & 360 & 1 & Semiurban & Y \\\\\n",
       "\t523 & LP002692 & Male & Yes & 3+ & Graduate & Yes & 5677 & 1424.0 & 100 & 360 & 1 & Rural & Y \\\\\n",
       "\t524 & LP002693 & Male & Yes & 2 & Graduate & Yes & 7948 & 7166.0 & 480 & 360 & 1 & Rural & Y \\\\\n",
       "\t525 & LP002697 & Male & No & 0 & Graduate & No & 4680 & 2087.0 &  & 360 & 1 & Semiurban & N \\\\\n",
       "\t526 & LP002699 & Male & Yes & 2 & Graduate & Yes & 17500 & 0.0 & 400 & 360 & 1 & Rural & Y \\\\\n",
       "\t527 & LP002705 & Male & Yes & 0 & Graduate & No & 3775 & 0.0 & 110 & 360 & 1 & Semiurban & Y \\\\\n",
       "\t528 & LP002706 & Male & Yes & 1 & Not Graduate & No & 5285 & 1430.0 & 161 & 360 & 0 & Semiurban & Y \\\\\n",
       "\t529 & LP002714 & Male & No & 1 & Not Graduate & No & 2679 & 1302.0 & 94 & 360 & 1 & Semiurban & Y \\\\\n",
       "\t530 & LP002716 & Male & No & 0 & Not Graduate & No & 6783 & 0.0 & 130 & 360 & 1 & Semiurban & Y \\\\\n",
       "\t531 & LP002717 & Male & Yes & 0 & Graduate & No & 1025 & 5500.0 & 216 & 360 &  & Rural & Y \\\\\n",
       "\t532 & LP002720 & Male & Yes & 3+ & Graduate & No & 4281 & 0.0 & 100 & 360 & 1 & Urban & Y \\\\\n",
       "\t533 & LP002723 & Male & No & 2 & Graduate & No & 3588 & 0.0 & 110 & 360 & 0 & Rural & N \\\\\n",
       "\t534 & LP002729 & Male & No & 1 & Graduate & No & 11250 & 0.0 & 196 & 360 &  & Semiurban & N \\\\\n",
       "\t535 & LP002731 & Female & No & 0 & Not Graduate & Yes & 18165 & 0.0 & 125 & 360 & 1 & Urban & Y \\\\\n",
       "\t536 & LP002732 & Male & No & 0 & Not Graduate &  & 2550 & 2042.0 & 126 & 360 & 1 & Rural & Y \\\\\n",
       "\t537 & LP002734 & Male & Yes & 0 & Graduate & No & 6133 & 3906.0 & 324 & 360 & 1 & Urban & Y \\\\\n",
       "\t538 & LP002738 & Male & No & 2 & Graduate & No & 3617 & 0.0 & 107 & 360 & 1 & Semiurban & Y \\\\\n",
       "\t539 & LP002739 & Male & Yes & 0 & Not Graduate & No & 2917 & 536.0 & 66 & 360 & 1 & Rural & N \\\\\n",
       "\t540 & LP002740 & Male & Yes & 3+ & Graduate & No & 6417 & 0.0 & 157 & 180 & 1 & Rural & Y \\\\\n",
       "\t541 & LP002741 & Female & Yes & 1 & Graduate & No & 4608 & 2845.0 & 140 & 180 & 1 & Semiurban & Y \\\\\n",
       "\t542 & LP002743 & Female & No & 0 & Graduate & No & 2138 & 0.0 & 99 & 360 & 0 & Semiurban & N \\\\\n",
       "\t543 & LP002753 & Female & No & 1 & Graduate &  & 3652 & 0.0 & 95 & 360 & 1 & Semiurban & Y \\\\\n",
       "\t544 & LP002755 & Male & Yes & 1 & Not Graduate & No & 2239 & 2524.0 & 128 & 360 & 1 & Urban & Y \\\\\n",
       "\t545 & LP002757 & Female & Yes & 0 & Not Graduate & No & 3017 & 663.0 & 102 & 360 &  & Semiurban & Y \\\\\n",
       "\t546 & LP002767 & Male & Yes & 0 & Graduate & No & 2768 & 1950.0 & 155 & 360 & 1 & Rural & Y \\\\\n",
       "\t547 & LP002768 & Male & No & 0 & Not Graduate & No & 3358 & 0.0 & 80 & 36 & 1 & Semiurban & N \\\\\n",
       "\t548 & LP002772 & Male & No & 0 & Graduate & No & 2526 & 1783.0 & 145 & 360 & 1 & Rural & Y \\\\\n",
       "\t549 & LP002776 & Female & No & 0 & Graduate & No & 5000 & 0.0 & 103 & 360 & 0 & Semiurban & N \\\\\n",
       "\t550 & LP002777 & Male & Yes & 0 & Graduate & No & 2785 & 2016.0 & 110 & 360 & 1 & Rural & Y \\\\\n",
       "\t551 & LP002778 & Male & Yes & 2 & Graduate & Yes & 6633 & 0.0 &  & 360 & 0 & Rural & N \\\\\n",
       "\t552 & LP002784 & Male & Yes & 1 & Not Graduate & No & 2492 & 2375.0 &  & 360 & 1 & Rural & Y \\\\\n",
       "\t553 & LP002785 & Male & Yes & 1 & Graduate & No & 3333 & 3250.0 & 158 & 360 & 1 & Urban & Y \\\\\n",
       "\t554 & LP002788 & Male & Yes & 0 & Not Graduate & No & 2454 & 2333.0 & 181 & 360 & 0 & Urban & N \\\\\n",
       "\t555 & LP002789 & Male & Yes & 0 & Graduate & No & 3593 & 4266.0 & 132 & 180 & 0 & Rural & N \\\\\n",
       "\t556 & LP002792 & Male & Yes & 1 & Graduate & No & 5468 & 1032.0 & 26 & 360 & 1 & Semiurban & Y \\\\\n",
       "\t557 & LP002794 & Female & No & 0 & Graduate & No & 2667 & 1625.0 & 84 & 360 &  & Urban & Y \\\\\n",
       "\t558 & LP002795 & Male & Yes & 3+ & Graduate & Yes & 10139 & 0.0 & 260 & 360 & 1 & Semiurban & Y \\\\\n",
       "\t559 & LP002798 & Male & Yes & 0 & Graduate & No & 3887 & 2669.0 & 162 & 360 & 1 & Semiurban & Y \\\\\n",
       "\t560 & LP002804 & Female & Yes & 0 & Graduate & No & 4180 & 2306.0 & 182 & 360 & 1 & Semiurban & Y \\\\\n",
       "\t561 & LP002807 & Male & Yes & 2 & Not Graduate & No & 3675 & 242.0 & 108 & 360 & 1 & Semiurban & Y \\\\\n",
       "\t562 & LP002813 & Female & Yes & 1 & Graduate & Yes & 19484 & 0.0 & 600 & 360 & 1 & Semiurban & Y \\\\\n",
       "\t563 & LP002820 & Male & Yes & 0 & Graduate & No & 5923 & 2054.0 & 211 & 360 & 1 & Rural & Y \\\\\n",
       "\t564 & LP002821 & Male & No & 0 & Not Graduate & Yes & 5800 & 0.0 & 132 & 360 & 1 & Semiurban & Y \\\\\n",
       "\t565 & LP002832 & Male & Yes & 2 & Graduate & No & 8799 & 0.0 & 258 & 360 & 0 & Urban & N \\\\\n",
       "\t566 & LP002833 & Male & Yes & 0 & Not Graduate & No & 4467 & 0.0 & 120 & 360 &  & Rural & Y \\\\\n",
       "\t567 & LP002836 & Male & No & 0 & Graduate & No & 3333 & 0.0 & 70 & 360 & 1 & Urban & Y \\\\\n",
       "\t568 & LP002837 & Male & Yes & 3+ & Graduate & No & 3400 & 2500.0 & 123 & 360 & 0 & Rural & N \\\\\n",
       "\t569 & LP002840 & Female & No & 0 & Graduate & No & 2378 & 0.0 & 9 & 360 & 1 & Urban & N \\\\\n",
       "\t570 & LP002841 & Male & Yes & 0 & Graduate & No & 3166 & 2064.0 & 104 & 360 & 0 & Urban & N \\\\\n",
       "\t571 & LP002842 & Male & Yes & 1 & Graduate & No & 3417 & 1750.0 & 186 & 360 & 1 & Urban & Y \\\\\n",
       "\t572 & LP002847 & Male & Yes &  & Graduate & No & 5116 & 1451.0 & 165 & 360 & 0 & Urban & N \\\\\n",
       "\t573 & LP002855 & Male & Yes & 2 & Graduate & No & 16666 & 0.0 & 275 & 360 & 1 & Urban & Y \\\\\n",
       "\t574 & LP002862 & Male & Yes & 2 & Not Graduate & No & 6125 & 1625.0 & 187 & 480 & 1 & Semiurban & N \\\\\n",
       "\t575 & LP002863 & Male & Yes & 3+ & Graduate & No & 6406 & 0.0 & 150 & 360 & 1 & Semiurban & N \\\\\n",
       "\t576 & LP002868 & Male & Yes & 2 & Graduate & No & 3159 & 461.0 & 108 & 84 & 1 & Urban & Y \\\\\n",
       "\t577 & LP002872 &  & Yes & 0 & Graduate & No & 3087 & 2210.0 & 136 & 360 & 0 & Semiurban & N \\\\\n",
       "\t578 & LP002874 & Male & No & 0 & Graduate & No & 3229 & 2739.0 & 110 & 360 & 1 & Urban & Y \\\\\n",
       "\t579 & LP002877 & Male & Yes & 1 & Graduate & No & 1782 & 2232.0 & 107 & 360 & 1 & Rural & Y \\\\\n",
       "\t580 & LP002888 & Male & No & 0 & Graduate &  & 3182 & 2917.0 & 161 & 360 & 1 & Urban & Y \\\\\n",
       "\t581 & LP002892 & Male & Yes & 2 & Graduate & No & 6540 & 0.0 & 205 & 360 & 1 & Semiurban & Y \\\\\n",
       "\t582 & LP002893 & Male & No & 0 & Graduate & No & 1836 & 33837.0 & 90 & 360 & 1 & Urban & N \\\\\n",
       "\t583 & LP002894 & Female & Yes & 0 & Graduate & No & 3166 & 0.0 & 36 & 360 & 1 & Semiurban & Y \\\\\n",
       "\t584 & LP002898 & Male & Yes & 1 & Graduate & No & 1880 & 0.0 & 61 & 360 &  & Rural & N \\\\\n",
       "\t585 & LP002911 & Male & Yes & 1 & Graduate & No & 2787 & 1917.0 & 146 & 360 & 0 & Rural & N \\\\\n",
       "\t586 & LP002912 & Male & Yes & 1 & Graduate & No & 4283 & 3000.0 & 172 & 84 & 1 & Rural & N \\\\\n",
       "\t587 & LP002916 & Male & Yes & 0 & Graduate & No & 2297 & 1522.0 & 104 & 360 & 1 & Urban & Y \\\\\n",
       "\t588 & LP002917 & Female & No & 0 & Not Graduate & No & 2165 & 0.0 & 70 & 360 & 1 & Semiurban & Y \\\\\n",
       "\t589 & LP002925 &  & No & 0 & Graduate & No & 4750 & 0.0 & 94 & 360 & 1 & Semiurban & Y \\\\\n",
       "\t590 & LP002926 & Male & Yes & 2 & Graduate & Yes & 2726 & 0.0 & 106 & 360 & 0 & Semiurban & N \\\\\n",
       "\t591 & LP002928 & Male & Yes & 0 & Graduate & No & 3000 & 3416.0 & 56 & 180 & 1 & Semiurban & Y \\\\\n",
       "\t592 & LP002931 & Male & Yes & 2 & Graduate & Yes & 6000 & 0.0 & 205 & 240 & 1 & Semiurban & N \\\\\n",
       "\t593 & LP002933 &  & No & 3+ & Graduate & Yes & 9357 & 0.0 & 292 & 360 & 1 & Semiurban & Y \\\\\n",
       "\t594 & LP002936 & Male & Yes & 0 & Graduate & No & 3859 & 3300.0 & 142 & 180 & 1 & Rural & Y \\\\\n",
       "\t595 & LP002938 & Male & Yes & 0 & Graduate & Yes & 16120 & 0.0 & 260 & 360 & 1 & Urban & Y \\\\\n",
       "\t596 & LP002940 & Male & No & 0 & Not Graduate & No & 3833 & 0.0 & 110 & 360 & 1 & Rural & Y \\\\\n",
       "\t597 & LP002941 & Male & Yes & 2 & Not Graduate & Yes & 6383 & 1000.0 & 187 & 360 & 1 & Rural & N \\\\\n",
       "\t598 & LP002943 & Male & No &  & Graduate & No & 2987 & 0.0 & 88 & 360 & 0 & Semiurban & N \\\\\n",
       "\t599 & LP002945 & Male & Yes & 0 & Graduate & Yes & 9963 & 0.0 & 180 & 360 & 1 & Rural & Y \\\\\n",
       "\t600 & LP002948 & Male & Yes & 2 & Graduate & No & 5780 & 0.0 & 192 & 360 & 1 & Urban & Y \\\\\n",
       "\t601 & LP002949 & Female & No & 3+ & Graduate &  & 416 & 41667.0 & 350 & 180 &  & Urban & N \\\\\n",
       "\t602 & LP002950 & Male & Yes & 0 & Not Graduate &  & 2894 & 2792.0 & 155 & 360 & 1 & Rural & Y \\\\\n",
       "\t603 & LP002953 & Male & Yes & 3+ & Graduate & No & 5703 & 0.0 & 128 & 360 & 1 & Urban & Y \\\\\n",
       "\t604 & LP002958 & Male & No & 0 & Graduate & No & 3676 & 4301.0 & 172 & 360 & 1 & Rural & Y \\\\\n",
       "\t605 & LP002959 & Female & Yes & 1 & Graduate & No & 12000 & 0.0 & 496 & 360 & 1 & Semiurban & Y \\\\\n",
       "\t606 & LP002960 & Male & Yes & 0 & Not Graduate & No & 2400 & 3800.0 &  & 180 & 1 & Urban & N \\\\\n",
       "\t607 & LP002961 & Male & Yes & 1 & Graduate & No & 3400 & 2500.0 & 173 & 360 & 1 & Semiurban & Y \\\\\n",
       "\t608 & LP002964 & Male & Yes & 2 & Not Graduate & No & 3987 & 1411.0 & 157 & 360 & 1 & Rural & Y \\\\\n",
       "\t609 & LP002974 & Male & Yes & 0 & Graduate & No & 3232 & 1950.0 & 108 & 360 & 1 & Rural & Y \\\\\n",
       "\t610 & LP002978 & Female & No & 0 & Graduate & No & 2900 & 0.0 & 71 & 360 & 1 & Rural & Y \\\\\n",
       "\t611 & LP002979 & Male & Yes & 3+ & Graduate & No & 4106 & 0.0 & 40 & 180 & 1 & Rural & Y \\\\\n",
       "\t612 & LP002983 & Male & Yes & 1 & Graduate & No & 8072 & 240.0 & 253 & 360 & 1 & Urban & Y \\\\\n",
       "\t613 & LP002984 & Male & Yes & 2 & Graduate & No & 7583 & 0.0 & 187 & 360 & 1 & Urban & Y \\\\\n",
       "\t614 & LP002990 & Female & No & 0 & Graduate & Yes & 4583 & 0.0 & 133 & 360 & 0 & Semiurban & N \\\\\n",
       "\\end{tabular}\n"
      ],
      "text/plain": [
       "614×13 DataFrame. Omitted printing of 8 columns\n",
       "│ Row │ Loan_ID  │ Gender  │ Married │ Dependents │ Education    │\n",
       "│     │ \u001b[90mString⍰\u001b[39m  │ \u001b[90mString⍰\u001b[39m │ \u001b[90mString⍰\u001b[39m │ \u001b[90mString⍰\u001b[39m    │ \u001b[90mString⍰\u001b[39m      │\n",
       "├─────┼──────────┼─────────┼─────────┼────────────┼──────────────┤\n",
       "│ 1   │ LP001002 │ Male    │ No      │ 0          │ Graduate     │\n",
       "│ 2   │ LP001003 │ Male    │ Yes     │ 1          │ Graduate     │\n",
       "│ 3   │ LP001005 │ Male    │ Yes     │ 0          │ Graduate     │\n",
       "│ 4   │ LP001006 │ Male    │ Yes     │ 0          │ Not Graduate │\n",
       "│ 5   │ LP001008 │ Male    │ No      │ 0          │ Graduate     │\n",
       "│ 6   │ LP001011 │ Male    │ Yes     │ 2          │ Graduate     │\n",
       "│ 7   │ LP001013 │ Male    │ Yes     │ 0          │ Not Graduate │\n",
       "│ 8   │ LP001014 │ Male    │ Yes     │ 3+         │ Graduate     │\n",
       "│ 9   │ LP001018 │ Male    │ Yes     │ 2          │ Graduate     │\n",
       "│ 10  │ LP001020 │ Male    │ Yes     │ 1          │ Graduate     │\n",
       "⋮\n",
       "│ 604 │ LP002958 │ Male    │ No      │ 0          │ Graduate     │\n",
       "│ 605 │ LP002959 │ Female  │ Yes     │ 1          │ Graduate     │\n",
       "│ 606 │ LP002960 │ Male    │ Yes     │ 0          │ Not Graduate │\n",
       "│ 607 │ LP002961 │ Male    │ Yes     │ 1          │ Graduate     │\n",
       "│ 608 │ LP002964 │ Male    │ Yes     │ 2          │ Not Graduate │\n",
       "│ 609 │ LP002974 │ Male    │ Yes     │ 0          │ Graduate     │\n",
       "│ 610 │ LP002978 │ Female  │ No      │ 0          │ Graduate     │\n",
       "│ 611 │ LP002979 │ Male    │ Yes     │ 3+         │ Graduate     │\n",
       "│ 612 │ LP002983 │ Male    │ Yes     │ 1          │ Graduate     │\n",
       "│ 613 │ LP002984 │ Male    │ Yes     │ 2          │ Graduate     │\n",
       "│ 614 │ LP002990 │ Female  │ No      │ 0          │ Graduate     │"
      ]
     },
     "execution_count": 6,
     "metadata": {},
     "output_type": "execute_result"
    }
   ],
   "source": [
    "train = CSV.read(\"train.csv\")"
   ]
  },
  {
   "cell_type": "code",
   "execution_count": 7,
   "metadata": {},
   "outputs": [
    {
     "data": {
      "text/plain": [
       "(614, 13)"
      ]
     },
     "execution_count": 7,
     "metadata": {},
     "output_type": "execute_result"
    }
   ],
   "source": [
    "size(train)"
   ]
  },
  {
   "cell_type": "code",
   "execution_count": 8,
   "metadata": {},
   "outputs": [
    {
     "data": {
      "text/plain": [
       "13-element Array{Symbol,1}:\n",
       " :Loan_ID          \n",
       " :Gender           \n",
       " :Married          \n",
       " :Dependents       \n",
       " :Education        \n",
       " :Self_Employed    \n",
       " :ApplicantIncome  \n",
       " :CoapplicantIncome\n",
       " :LoanAmount       \n",
       " :Loan_Amount_Term \n",
       " :Credit_History   \n",
       " :Property_Area    \n",
       " :Loan_Status      "
      ]
     },
     "execution_count": 8,
     "metadata": {},
     "output_type": "execute_result"
    }
   ],
   "source": [
    "names(train)"
   ]
  },
  {
   "cell_type": "code",
   "execution_count": 12,
   "metadata": {},
   "outputs": [
    {
     "data": {
      "text/html": [
       "<table class=\"data-frame\"><thead><tr><th></th><th>Loan_ID</th><th>Gender</th><th>Married</th><th>Dependents</th><th>Education</th><th>Self_Employed</th><th>ApplicantIncome</th><th>CoapplicantIncome</th><th>LoanAmount</th><th>Loan_Amount_Term</th><th>Credit_History</th><th>Property_Area</th><th>Loan_Status</th></tr><tr><th></th><th>String⍰</th><th>String⍰</th><th>String⍰</th><th>String⍰</th><th>String⍰</th><th>String⍰</th><th>Int64⍰</th><th>Float64⍰</th><th>Int64⍰</th><th>Int64⍰</th><th>Int64⍰</th><th>String⍰</th><th>String⍰</th></tr></thead><tbody><tr><th>1</th><td>LP001002</td><td>Male</td><td>No</td><td>0</td><td>Graduate</td><td>No</td><td>5849</td><td>0.0</td><td>missing</td><td>360</td><td>1</td><td>Urban</td><td>Y</td></tr><tr><th>2</th><td>LP001003</td><td>Male</td><td>Yes</td><td>1</td><td>Graduate</td><td>No</td><td>4583</td><td>1508.0</td><td>128</td><td>360</td><td>1</td><td>Rural</td><td>N</td></tr><tr><th>3</th><td>LP001005</td><td>Male</td><td>Yes</td><td>0</td><td>Graduate</td><td>Yes</td><td>3000</td><td>0.0</td><td>66</td><td>360</td><td>1</td><td>Urban</td><td>Y</td></tr><tr><th>4</th><td>LP001006</td><td>Male</td><td>Yes</td><td>0</td><td>Not Graduate</td><td>No</td><td>2583</td><td>2358.0</td><td>120</td><td>360</td><td>1</td><td>Urban</td><td>Y</td></tr><tr><th>5</th><td>LP001008</td><td>Male</td><td>No</td><td>0</td><td>Graduate</td><td>No</td><td>6000</td><td>0.0</td><td>141</td><td>360</td><td>1</td><td>Urban</td><td>Y</td></tr><tr><th>6</th><td>LP001011</td><td>Male</td><td>Yes</td><td>2</td><td>Graduate</td><td>Yes</td><td>5417</td><td>4196.0</td><td>267</td><td>360</td><td>1</td><td>Urban</td><td>Y</td></tr><tr><th>7</th><td>LP001013</td><td>Male</td><td>Yes</td><td>0</td><td>Not Graduate</td><td>No</td><td>2333</td><td>1516.0</td><td>95</td><td>360</td><td>1</td><td>Urban</td><td>Y</td></tr><tr><th>8</th><td>LP001014</td><td>Male</td><td>Yes</td><td>3+</td><td>Graduate</td><td>No</td><td>3036</td><td>2504.0</td><td>158</td><td>360</td><td>0</td><td>Semiurban</td><td>N</td></tr><tr><th>9</th><td>LP001018</td><td>Male</td><td>Yes</td><td>2</td><td>Graduate</td><td>No</td><td>4006</td><td>1526.0</td><td>168</td><td>360</td><td>1</td><td>Urban</td><td>Y</td></tr><tr><th>10</th><td>LP001020</td><td>Male</td><td>Yes</td><td>1</td><td>Graduate</td><td>No</td><td>12841</td><td>10968.0</td><td>349</td><td>360</td><td>1</td><td>Semiurban</td><td>N</td></tr></tbody></table>"
      ],
      "text/latex": [
       "\\begin{tabular}{r|ccccccccccccc}\n",
       "\t& Loan\\_ID & Gender & Married & Dependents & Education & Self\\_Employed & ApplicantIncome & CoapplicantIncome & LoanAmount & Loan\\_Amount\\_Term & Credit\\_History & Property\\_Area & Loan\\_Status\\\\\n",
       "\t\\hline\n",
       "\t1 & LP001002 & Male & No & 0 & Graduate & No & 5849 & 0.0 &  & 360 & 1 & Urban & Y \\\\\n",
       "\t2 & LP001003 & Male & Yes & 1 & Graduate & No & 4583 & 1508.0 & 128 & 360 & 1 & Rural & N \\\\\n",
       "\t3 & LP001005 & Male & Yes & 0 & Graduate & Yes & 3000 & 0.0 & 66 & 360 & 1 & Urban & Y \\\\\n",
       "\t4 & LP001006 & Male & Yes & 0 & Not Graduate & No & 2583 & 2358.0 & 120 & 360 & 1 & Urban & Y \\\\\n",
       "\t5 & LP001008 & Male & No & 0 & Graduate & No & 6000 & 0.0 & 141 & 360 & 1 & Urban & Y \\\\\n",
       "\t6 & LP001011 & Male & Yes & 2 & Graduate & Yes & 5417 & 4196.0 & 267 & 360 & 1 & Urban & Y \\\\\n",
       "\t7 & LP001013 & Male & Yes & 0 & Not Graduate & No & 2333 & 1516.0 & 95 & 360 & 1 & Urban & Y \\\\\n",
       "\t8 & LP001014 & Male & Yes & 3+ & Graduate & No & 3036 & 2504.0 & 158 & 360 & 0 & Semiurban & N \\\\\n",
       "\t9 & LP001018 & Male & Yes & 2 & Graduate & No & 4006 & 1526.0 & 168 & 360 & 1 & Urban & Y \\\\\n",
       "\t10 & LP001020 & Male & Yes & 1 & Graduate & No & 12841 & 10968.0 & 349 & 360 & 1 & Semiurban & N \\\\\n",
       "\\end{tabular}\n"
      ],
      "text/plain": [
       "10×13 DataFrame. Omitted printing of 8 columns\n",
       "│ Row │ Loan_ID  │ Gender  │ Married │ Dependents │ Education    │\n",
       "│     │ \u001b[90mString⍰\u001b[39m  │ \u001b[90mString⍰\u001b[39m │ \u001b[90mString⍰\u001b[39m │ \u001b[90mString⍰\u001b[39m    │ \u001b[90mString⍰\u001b[39m      │\n",
       "├─────┼──────────┼─────────┼─────────┼────────────┼──────────────┤\n",
       "│ 1   │ LP001002 │ Male    │ No      │ 0          │ Graduate     │\n",
       "│ 2   │ LP001003 │ Male    │ Yes     │ 1          │ Graduate     │\n",
       "│ 3   │ LP001005 │ Male    │ Yes     │ 0          │ Graduate     │\n",
       "│ 4   │ LP001006 │ Male    │ Yes     │ 0          │ Not Graduate │\n",
       "│ 5   │ LP001008 │ Male    │ No      │ 0          │ Graduate     │\n",
       "│ 6   │ LP001011 │ Male    │ Yes     │ 2          │ Graduate     │\n",
       "│ 7   │ LP001013 │ Male    │ Yes     │ 0          │ Not Graduate │\n",
       "│ 8   │ LP001014 │ Male    │ Yes     │ 3+         │ Graduate     │\n",
       "│ 9   │ LP001018 │ Male    │ Yes     │ 2          │ Graduate     │\n",
       "│ 10  │ LP001020 │ Male    │ Yes     │ 1          │ Graduate     │"
      ]
     },
     "execution_count": 12,
     "metadata": {},
     "output_type": "execute_result"
    }
   ],
   "source": [
    "head(train, 10)"
   ]
  },
  {
   "cell_type": "code",
   "execution_count": 13,
   "metadata": {},
   "outputs": [
    {
     "name": "stdout",
     "output_type": "stream",
     "text": [
      "Summary Stats:\n",
      "Length:         614\n",
      "Type:           Union{Missing, Int64}\n",
      "Number Unique:  204\n"
     ]
    }
   ],
   "source": [
    "describe(train[:LoanAmount])"
   ]
  },
  {
   "cell_type": "code",
   "execution_count": 14,
   "metadata": {},
   "outputs": [
    {
     "ename": "UndefVarError",
     "evalue": "UndefVarError: countmap not defined",
     "output_type": "error",
     "traceback": [
      "UndefVarError: countmap not defined",
      "",
      "Stacktrace:",
      " [1] top-level scope at In[14]:1"
     ]
    }
   ],
   "source": [
    "countmap(train[:LoanAmount])"
   ]
  },
  {
   "cell_type": "code",
   "execution_count": 12,
   "metadata": {},
   "outputs": [
    {
     "ename": "UndefVarError",
     "evalue": "UndefVarError: countmap not defined",
     "output_type": "error",
     "traceback": [
      "UndefVarError: countmap not defined",
      "",
      "Stacktrace:",
      " [1] top-level scope at In[12]:1"
     ]
    }
   ],
   "source": [
    " countmap(train[:Property_Area])"
   ]
  },
  {
   "cell_type": "code",
   "execution_count": 15,
   "metadata": {},
   "outputs": [
    {
     "name": "stderr",
     "output_type": "stream",
     "text": [
      "┌ Info: Recompiling stale cache file C:\\Users\\NethikaSuraweera\\.julia\\compiled\\v1.0\\StatPlots\\iAmZm.ji for StatPlots [60ddc479-9b66-56df-82fc-76a74619b69c]\n",
      "└ @ Base loading.jl:1190\n"
     ]
    }
   ],
   "source": [
    "using Plots, StatPlots "
   ]
  },
  {
   "cell_type": "code",
   "execution_count": 18,
   "metadata": {},
   "outputs": [
    {
     "name": "stdout",
     "output_type": "stream",
     "text": [
      "\u001b[32m\u001b[1m  Updating\u001b[22m\u001b[39m registry at `C:\\Users\\NethikaSuraweera\\.julia\\registries\\General`\n",
      "\u001b[32m\u001b[1m  Updating\u001b[22m\u001b[39m git-repo `https://github.com/JuliaRegistries/General.git`\n",
      "\u001b[?25l\u001b[2K\u001b[?25h\u001b[32m\u001b[1m Resolving\u001b[22m\u001b[39m package versions...\n",
      "\u001b[32m\u001b[1m  Updating\u001b[22m\u001b[39m `C:\\Users\\NethikaSuraweera\\.julia\\environments\\v1.0\\Project.toml`\n",
      " \u001b[90m [b964fa9f]\u001b[39m\u001b[92m + LaTeXStrings v1.0.3\u001b[39m\n",
      "\u001b[32m\u001b[1m  Updating\u001b[22m\u001b[39m `C:\\Users\\NethikaSuraweera\\.julia\\environments\\v1.0\\Manifest.toml`\n",
      "\u001b[90m [no changes]\u001b[39m\n"
     ]
    }
   ],
   "source": [
    "import Pkg; Pkg.add(\"LaTeXStrings\")"
   ]
  },
  {
   "cell_type": "code",
   "execution_count": 19,
   "metadata": {},
   "outputs": [
    {
     "data": {
      "text/plain": [
       "Plots.PyPlotBackend()"
      ]
     },
     "execution_count": 19,
     "metadata": {},
     "output_type": "execute_result"
    }
   ],
   "source": [
    "pyplot()                   #Set the backend as matplotlib.pyplot "
   ]
  },
  {
   "cell_type": "code",
   "execution_count": 21,
   "metadata": {
    "scrolled": true
   },
   "outputs": [
    {
     "data": {
      "image/png": "[encoded data removed]"
     },
     "execution_count": 21,
     "metadata": {},
     "output_type": "execute_result"
    }
   ],
   "source": [
    "Plots.histogram(train[:ApplicantIncome],bins=50,xlabel=\"ApplicantIncome\",labels=\"Frequency\") "
   ]
  },
  {
   "cell_type": "code",
   "execution_count": 23,
   "metadata": {},
   "outputs": [
    {
     "data": {
      "image/png": "[encoded data removed]"
     },
     "execution_count": 23,
     "metadata": {},
     "output_type": "execute_result"
    },
    {
     "name": "stderr",
     "output_type": "stream",
     "text": [
      "'c' argument looks like a single numeric RGB or RGBA sequence, which should be avoided as value-mapping will have precedence in case its length matches with 'x' & 'y'.  Please use a 2-D array with a single row if you really want to specify the same RGB or RGBA value for all points.\r\n"
     ]
    }
   ],
   "source": [
    " Plots.boxplot(train[:ApplicantIncome], xlabel=\"ApplicantIncome\")"
   ]
  },
  {
   "cell_type": "code",
   "execution_count": 24,
   "metadata": {},
   "outputs": [
    {
     "data": {
      "image/png": "[encoded data removed]"
     },
     "execution_count": 24,
     "metadata": {},
     "output_type": "execute_result"
    },
    {
     "name": "stderr",
     "output_type": "stream",
     "text": [
      "'c' argument looks like a single numeric RGB or RGBA sequence, which should be avoided as value-mapping will have precedence in case its length matches with 'x' & 'y'.  Please use a 2-D array with a single row if you really want to specify the same RGB or RGBA value for all points.\r\n"
     ]
    }
   ],
   "source": [
    "Plots.boxplot(train[:Education],train[:ApplicantIncome],labels=\"ApplicantIncome\")"
   ]
  },
  {
   "cell_type": "code",
   "execution_count": 27,
   "metadata": {},
   "outputs": [
    {
     "data": {
      "text/plain": [
       "Plots.PlotlyBackend()"
      ]
     },
     "execution_count": 27,
     "metadata": {},
     "output_type": "execute_result"
    }
   ],
   "source": [
    " plotly()"
   ]
  },
  {
   "cell_type": "code",
   "execution_count": 28,
   "metadata": {},
   "outputs": [
    {
     "data": {
      "text/html": [
       "    <script type=\"text/javascript\">\n",
       "        requirejs([\"https://cdn.plot.ly/plotly-latest.min.js\"], function(p) {\n",
       "            window.Plotly = p\n",
       "        });\n",
       "    </script>\n"
      ]
     },
     "metadata": {},
     "output_type": "display_data"
    },
    {
     "data": {
      "application/vnd.plotly.v1+json": {
       "data": [
        {
         "fill": "tozeroy",
         "fillcolor": "rgba(0, 154, 250, 1.000)",
         "legendgroup": "Frequency",
         "line": {
          "color": "rgba(0, 0, 0, 1.000)",
          "dash": "solid",
          "width": 1
         },
         "mode": "lines",
         "name": "Frequency",
         "showlegend": true,
         "type": "scatter",
         "x": [
          0,
          0,
          2000,
          2000,
          0,
          0
         ],
         "xaxis": "x1",
         "y": [
          40,
          0,
          0,
          40,
          40,
          40
         ],
         "yaxis": "y1"
        },
        {
         "fill": "tozeroy",
         "fillcolor": "rgba(0, 154, 250, 1.000)",
         "legendgroup": "Frequency",
         "line": {
          "color": "rgba(0, 0, 0, 1.000)",
          "dash": "solid",
          "width": 1
         },
         "mode": "lines",
         "name": "Frequency",
         "showlegend": false,
         "type": "scatter",
         "x": [
          2000,
          2000,
          4000,
          4000,
          2000,
          2000
         ],
         "xaxis": "x1",
         "y": [
          291,
          0,
          0,
          291,
          291,
          291
         ],
         "yaxis": "y1"
        },
        {
         "fill": "tozeroy",
         "fillcolor": "rgba(0, 154, 250, 1.000)",
         "legendgroup": "Frequency",
         "line": {
          "color": "rgba(0, 0, 0, 1.000)",
          "dash": "solid",
          "width": 1
         },
         "mode": "lines",
         "name": "Frequency",
         "showlegend": false,
         "type": "scatter",
         "x": [
          4000,
          4000,
          6000,
          6000,
          4000,
          4000
         ],
         "xaxis": "x1",
         "y": [
          140,
          0,
          0,
          140,
          140,
          140
         ],
         "yaxis": "y1"
        },
        {
         "fill": "tozeroy",
         "fillcolor": "rgba(0, 154, 250, 1.000)",
         "legendgroup": "Frequency",
         "line": {
          "color": "rgba(0, 0, 0, 1.000)",
          "dash": "solid",
          "width": 1
         },
         "mode": "lines",
         "name": "Frequency",
         "showlegend": false,
         "type": "scatter",
         "x": [
          6000,
          6000,
          8000,
          8000,
          6000,
          6000
         ],
         "xaxis": "x1",
         "y": [
          59,
          0,
          0,
          59,
          59,
          59
         ],
         "yaxis": "y1"
        },
        {
         "fill": "tozeroy",
         "fillcolor": "rgba(0, 154, 250, 1.000)",
         "legendgroup": "Frequency",
         "line": {
          "color": "rgba(0, 0, 0, 1.000)",
          "dash": "solid",
          "width": 1
         },
         "mode": "lines",
         "name": "Frequency",
         "showlegend": false,
         "type": "scatter",
         "x": [
          8000,
          8000,
          10000,
          10000,
          8000,
          8000
         ],
         "xaxis": "x1",
         "y": [
          29,
          0,
          0,
          29,
          29,
          29
         ],
         "yaxis": "y1"
        },
        {
         "fill": "tozeroy",
         "fillcolor": "rgba(0, 154, 250, 1.000)",
         "legendgroup": "Frequency",
         "line": {
          "color": "rgba(0, 0, 0, 1.000)",
          "dash": "solid",
          "width": 1
         },
         "mode": "lines",
         "name": "Frequency",
         "showlegend": false,
         "type": "scatter",
         "x": [
          10000,
          10000,
          12000,
          12000,
          10000,
          10000
         ],
         "xaxis": "x1",
         "y": [
          16,
          0,
          0,
          16,
          16,
          16
         ],
         "yaxis": "y1"
        },
        {
         "fill": "tozeroy",
         "fillcolor": "rgba(0, 154, 250, 1.000)",
         "legendgroup": "Frequency",
         "line": {
          "color": "rgba(0, 0, 0, 1.000)",
          "dash": "solid",
          "width": 1
         },
         "mode": "lines",
         "name": "Frequency",
         "showlegend": false,
         "type": "scatter",
         "x": [
          12000,
          12000,
          14000,
          14000,
          12000,
          12000
         ],
         "xaxis": "x1",
         "y": [
          7,
          0,
          0,
          7,
          7,
          7
         ],
         "yaxis": "y1"
        },
        {
         "fill": "tozeroy",
         "fillcolor": "rgba(0, 154, 250, 1.000)",
         "legendgroup": "Frequency",
         "line": {
          "color": "rgba(0, 0, 0, 1.000)",
          "dash": "solid",
          "width": 1
         },
         "mode": "lines",
         "name": "Frequency",
         "showlegend": false,
         "type": "scatter",
         "x": [
          14000,
          14000,
          16000,
          16000,
          14000,
          14000
         ],
         "xaxis": "x1",
         "y": [
          8,
          0,
          0,
          8,
          8,
          8
         ],
         "yaxis": "y1"
        },
        {
         "fill": "tozeroy",
         "fillcolor": "rgba(0, 154, 250, 1.000)",
         "legendgroup": "Frequency",
         "line": {
          "color": "rgba(0, 0, 0, 1.000)",
          "dash": "solid",
          "width": 1
         },
         "mode": "lines",
         "name": "Frequency",
         "showlegend": false,
         "type": "scatter",
         "x": [
          16000,
          16000,
          18000,
          18000,
          16000,
          16000
         ],
         "xaxis": "x1",
         "y": [
          8,
          0,
          0,
          8,
          8,
          8
         ],
         "yaxis": "y1"
        },
        {
         "fill": "tozeroy",
         "fillcolor": "rgba(0, 154, 250, 1.000)",
         "legendgroup": "Frequency",
         "line": {
          "color": "rgba(0, 0, 0, 1.000)",
          "dash": "solid",
          "width": 1
         },
         "mode": "lines",
         "name": "Frequency",
         "showlegend": false,
         "type": "scatter",
         "x": [
          18000,
          18000,
          20000,
          20000,
          18000,
          18000
         ],
         "xaxis": "x1",
         "y": [
          4,
          0,
          0,
          4,
          4,
          4
         ],
         "yaxis": "y1"
        },
        {
         "fill": "tozeroy",
         "fillcolor": "rgba(0, 154, 250, 1.000)",
         "legendgroup": "Frequency",
         "line": {
          "color": "rgba(0, 0, 0, 1.000)",
          "dash": "solid",
          "width": 1
         },
         "mode": "lines",
         "name": "Frequency",
         "showlegend": false,
         "type": "scatter",
         "x": [
          20000,
          20000,
          22000,
          22000,
          20000,
          20000
         ],
         "xaxis": "x1",
         "y": [
          4,
          0,
          0,
          4,
          4,
          4
         ],
         "yaxis": "y1"
        },
        {
         "fill": "tozeroy",
         "fillcolor": "rgba(0, 154, 250, 1.000)",
         "legendgroup": "Frequency",
         "line": {
          "color": "rgba(0, 0, 0, 1.000)",
          "dash": "solid",
          "width": 1
         },
         "mode": "lines",
         "name": "Frequency",
         "showlegend": false,
         "type": "scatter",
         "x": [
          22000,
          22000,
          24000,
          24000,
          22000,
          22000
         ],
         "xaxis": "x1",
         "y": [
          1,
          0,
          0,
          1,
          1,
          1
         ],
         "yaxis": "y1"
        },
        {
         "fill": "tozeroy",
         "fillcolor": "rgba(0, 154, 250, 1.000)",
         "legendgroup": "Frequency",
         "line": {
          "color": "rgba(0, 0, 0, 1.000)",
          "dash": "solid",
          "width": 1
         },
         "mode": "lines",
         "name": "Frequency",
         "showlegend": false,
         "type": "scatter",
         "x": [
          24000,
          24000,
          26000,
          26000,
          24000,
          24000
         ],
         "xaxis": "x1",
         "y": [
          0,
          0,
          0,
          0,
          0,
          0
         ],
         "yaxis": "y1"
        },
        {
         "fill": "tozeroy",
         "fillcolor": "rgba(0, 154, 250, 1.000)",
         "legendgroup": "Frequency",
         "line": {
          "color": "rgba(0, 0, 0, 1.000)",
          "dash": "solid",
          "width": 1
         },
         "mode": "lines",
         "name": "Frequency",
         "showlegend": false,
         "type": "scatter",
         "x": [
          26000,
          26000,
          28000,
          28000,
          26000,
          26000
         ],
         "xaxis": "x1",
         "y": [
          0,
          0,
          0,
          0,
          0,
          0
         ],
         "yaxis": "y1"
        },
        {
         "fill": "tozeroy",
         "fillcolor": "rgba(0, 154, 250, 1.000)",
         "legendgroup": "Frequency",
         "line": {
          "color": "rgba(0, 0, 0, 1.000)",
          "dash": "solid",
          "width": 1
         },
         "mode": "lines",
         "name": "Frequency",
         "showlegend": false,
         "type": "scatter",
         "x": [
          28000,
          28000,
          30000,
          30000,
          28000,
          28000
         ],
         "xaxis": "x1",
         "y": [
          0,
          0,
          0,
          0,
          0,
          0
         ],
         "yaxis": "y1"
        },
        {
         "fill": "tozeroy",
         "fillcolor": "rgba(0, 154, 250, 1.000)",
         "legendgroup": "Frequency",
         "line": {
          "color": "rgba(0, 0, 0, 1.000)",
          "dash": "solid",
          "width": 1
         },
         "mode": "lines",
         "name": "Frequency",
         "showlegend": false,
         "type": "scatter",
         "x": [
          30000,
          30000,
          32000,
          32000,
          30000,
          30000
         ],
         "xaxis": "x1",
         "y": [
          0,
          0,
          0,
          0,
          0,
          0
         ],
         "yaxis": "y1"
        },
        {
         "fill": "tozeroy",
         "fillcolor": "rgba(0, 154, 250, 1.000)",
         "legendgroup": "Frequency",
         "line": {
          "color": "rgba(0, 0, 0, 1.000)",
          "dash": "solid",
          "width": 1
         },
         "mode": "lines",
         "name": "Frequency",
         "showlegend": false,
         "type": "scatter",
         "x": [
          32000,
          32000,
          34000,
          34000,
          32000,
          32000
         ],
         "xaxis": "x1",
         "y": [
          1,
          0,
          0,
          1,
          1,
          1
         ],
         "yaxis": "y1"
        },
        {
         "fill": "tozeroy",
         "fillcolor": "rgba(0, 154, 250, 1.000)",
         "legendgroup": "Frequency",
         "line": {
          "color": "rgba(0, 0, 0, 1.000)",
          "dash": "solid",
          "width": 1
         },
         "mode": "lines",
         "name": "Frequency",
         "showlegend": false,
         "type": "scatter",
         "x": [
          34000,
          34000,
          36000,
          36000,
          34000,
          34000
         ],
         "xaxis": "x1",
         "y": [
          0,
          0,
          0,
          0,
          0,
          0
         ],
         "yaxis": "y1"
        },
        {
         "fill": "tozeroy",
         "fillcolor": "rgba(0, 154, 250, 1.000)",
         "legendgroup": "Frequency",
         "line": {
          "color": "rgba(0, 0, 0, 1.000)",
          "dash": "solid",
          "width": 1
         },
         "mode": "lines",
         "name": "Frequency",
         "showlegend": false,
         "type": "scatter",
         "x": [
          36000,
          36000,
          38000,
          38000,
          36000,
          36000
         ],
         "xaxis": "x1",
         "y": [
          1,
          0,
          0,
          1,
          1,
          1
         ],
         "yaxis": "y1"
        },
        {
         "fill": "tozeroy",
         "fillcolor": "rgba(0, 154, 250, 1.000)",
         "legendgroup": "Frequency",
         "line": {
          "color": "rgba(0, 0, 0, 1.000)",
          "dash": "solid",
          "width": 1
         },
         "mode": "lines",
         "name": "Frequency",
         "showlegend": false,
         "type": "scatter",
         "x": [
          38000,
          38000,
          40000,
          40000,
          38000,
          38000
         ],
         "xaxis": "x1",
         "y": [
          2,
          0,
          0,
          2,
          2,
          2
         ],
         "yaxis": "y1"
        },
        {
         "fill": "tozeroy",
         "fillcolor": "rgba(0, 154, 250, 1.000)",
         "legendgroup": "Frequency",
         "line": {
          "color": "rgba(0, 0, 0, 1.000)",
          "dash": "solid",
          "width": 1
         },
         "mode": "lines",
         "name": "Frequency",
         "showlegend": false,
         "type": "scatter",
         "x": [
          40000,
          40000,
          42000,
          42000,
          40000,
          40000
         ],
         "xaxis": "x1",
         "y": [
          0,
          0,
          0,
          0,
          0,
          0
         ],
         "yaxis": "y1"
        },
        {
         "fill": "tozeroy",
         "fillcolor": "rgba(0, 154, 250, 1.000)",
         "legendgroup": "Frequency",
         "line": {
          "color": "rgba(0, 0, 0, 1.000)",
          "dash": "solid",
          "width": 1
         },
         "mode": "lines",
         "name": "Frequency",
         "showlegend": false,
         "type": "scatter",
         "x": [
          42000,
          42000,
          44000,
          44000,
          42000,
          42000
         ],
         "xaxis": "x1",
         "y": [
          0,
          0,
          0,
          0,
          0,
          0
         ],
         "yaxis": "y1"
        },
        {
         "fill": "tozeroy",
         "fillcolor": "rgba(0, 154, 250, 1.000)",
         "legendgroup": "Frequency",
         "line": {
          "color": "rgba(0, 0, 0, 1.000)",
          "dash": "solid",
          "width": 1
         },
         "mode": "lines",
         "name": "Frequency",
         "showlegend": false,
         "type": "scatter",
         "x": [
          44000,
          44000,
          46000,
          46000,
          44000,
          44000
         ],
         "xaxis": "x1",
         "y": [
          0,
          0,
          0,
          0,
          0,
          0
         ],
         "yaxis": "y1"
        },
        {
         "fill": "tozeroy",
         "fillcolor": "rgba(0, 154, 250, 1.000)",
         "legendgroup": "Frequency",
         "line": {
          "color": "rgba(0, 0, 0, 1.000)",
          "dash": "solid",
          "width": 1
         },
         "mode": "lines",
         "name": "Frequency",
         "showlegend": false,
         "type": "scatter",
         "x": [
          46000,
          46000,
          48000,
          48000,
          46000,
          46000
         ],
         "xaxis": "x1",
         "y": [
          0,
          0,
          0,
          0,
          0,
          0
         ],
         "yaxis": "y1"
        },
        {
         "fill": "tozeroy",
         "fillcolor": "rgba(0, 154, 250, 1.000)",
         "legendgroup": "Frequency",
         "line": {
          "color": "rgba(0, 0, 0, 1.000)",
          "dash": "solid",
          "width": 1
         },
         "mode": "lines",
         "name": "Frequency",
         "showlegend": false,
         "type": "scatter",
         "x": [
          48000,
          48000,
          50000,
          50000,
          48000,
          48000
         ],
         "xaxis": "x1",
         "y": [
          0,
          0,
          0,
          0,
          0,
          0
         ],
         "yaxis": "y1"
        },
        {
         "fill": "tozeroy",
         "fillcolor": "rgba(0, 154, 250, 1.000)",
         "legendgroup": "Frequency",
         "line": {
          "color": "rgba(0, 0, 0, 1.000)",
          "dash": "solid",
          "width": 1
         },
         "mode": "lines",
         "name": "Frequency",
         "showlegend": false,
         "type": "scatter",
         "x": [
          50000,
          50000,
          52000,
          52000,
          50000,
          50000
         ],
         "xaxis": "x1",
         "y": [
          1,
          0,
          0,
          1,
          1,
          1
         ],
         "yaxis": "y1"
        },
        {
         "fill": "tozeroy",
         "fillcolor": "rgba(0, 154, 250, 1.000)",
         "legendgroup": "Frequency",
         "line": {
          "color": "rgba(0, 0, 0, 1.000)",
          "dash": "solid",
          "width": 1
         },
         "mode": "lines",
         "name": "Frequency",
         "showlegend": false,
         "type": "scatter",
         "x": [
          52000,
          52000,
          54000,
          54000,
          52000,
          52000
         ],
         "xaxis": "x1",
         "y": [
          0,
          0,
          0,
          0,
          0,
          0
         ],
         "yaxis": "y1"
        },
        {
         "fill": "tozeroy",
         "fillcolor": "rgba(0, 154, 250, 1.000)",
         "legendgroup": "Frequency",
         "line": {
          "color": "rgba(0, 0, 0, 1.000)",
          "dash": "solid",
          "width": 1
         },
         "mode": "lines",
         "name": "Frequency",
         "showlegend": false,
         "type": "scatter",
         "x": [
          54000,
          54000,
          56000,
          56000,
          54000,
          54000
         ],
         "xaxis": "x1",
         "y": [
          0,
          0,
          0,
          0,
          0,
          0
         ],
         "yaxis": "y1"
        },
        {
         "fill": "tozeroy",
         "fillcolor": "rgba(0, 154, 250, 1.000)",
         "legendgroup": "Frequency",
         "line": {
          "color": "rgba(0, 0, 0, 1.000)",
          "dash": "solid",
          "width": 1
         },
         "mode": "lines",
         "name": "Frequency",
         "showlegend": false,
         "type": "scatter",
         "x": [
          56000,
          56000,
          58000,
          58000,
          56000,
          56000
         ],
         "xaxis": "x1",
         "y": [
          0,
          0,
          0,
          0,
          0,
          0
         ],
         "yaxis": "y1"
        },
        {
         "fill": "tozeroy",
         "fillcolor": "rgba(0, 154, 250, 1.000)",
         "legendgroup": "Frequency",
         "line": {
          "color": "rgba(0, 0, 0, 1.000)",
          "dash": "solid",
          "width": 1
         },
         "mode": "lines",
         "name": "Frequency",
         "showlegend": false,
         "type": "scatter",
         "x": [
          58000,
          58000,
          60000,
          60000,
          58000,
          58000
         ],
         "xaxis": "x1",
         "y": [
          0,
          0,
          0,
          0,
          0,
          0
         ],
         "yaxis": "y1"
        },
        {
         "fill": "tozeroy",
         "fillcolor": "rgba(0, 154, 250, 1.000)",
         "legendgroup": "Frequency",
         "line": {
          "color": "rgba(0, 0, 0, 1.000)",
          "dash": "solid",
          "width": 1
         },
         "mode": "lines",
         "name": "Frequency",
         "showlegend": false,
         "type": "scatter",
         "x": [
          60000,
          60000,
          62000,
          62000,
          60000,
          60000
         ],
         "xaxis": "x1",
         "y": [
          0,
          0,
          0,
          0,
          0,
          0
         ],
         "yaxis": "y1"
        },
        {
         "fill": "tozeroy",
         "fillcolor": "rgba(0, 154, 250, 1.000)",
         "legendgroup": "Frequency",
         "line": {
          "color": "rgba(0, 0, 0, 1.000)",
          "dash": "solid",
          "width": 1
         },
         "mode": "lines",
         "name": "Frequency",
         "showlegend": false,
         "type": "scatter",
         "x": [
          62000,
          62000,
          64000,
          64000,
          62000,
          62000
         ],
         "xaxis": "x1",
         "y": [
          1,
          0,
          0,
          1,
          1,
          1
         ],
         "yaxis": "y1"
        },
        {
         "fill": "tozeroy",
         "fillcolor": "rgba(0, 154, 250, 1.000)",
         "legendgroup": "Frequency",
         "line": {
          "color": "rgba(0, 0, 0, 1.000)",
          "dash": "solid",
          "width": 1
         },
         "mode": "lines",
         "name": "Frequency",
         "showlegend": false,
         "type": "scatter",
         "x": [
          64000,
          64000,
          66000,
          66000,
          64000,
          64000
         ],
         "xaxis": "x1",
         "y": [
          0,
          0,
          0,
          0,
          0,
          0
         ],
         "yaxis": "y1"
        },
        {
         "fill": "tozeroy",
         "fillcolor": "rgba(0, 154, 250, 1.000)",
         "legendgroup": "Frequency",
         "line": {
          "color": "rgba(0, 0, 0, 1.000)",
          "dash": "solid",
          "width": 1
         },
         "mode": "lines",
         "name": "Frequency",
         "showlegend": false,
         "type": "scatter",
         "x": [
          66000,
          66000,
          68000,
          68000,
          66000,
          66000
         ],
         "xaxis": "x1",
         "y": [
          0,
          0,
          0,
          0,
          0,
          0
         ],
         "yaxis": "y1"
        },
        {
         "fill": "tozeroy",
         "fillcolor": "rgba(0, 154, 250, 1.000)",
         "legendgroup": "Frequency",
         "line": {
          "color": "rgba(0, 0, 0, 1.000)",
          "dash": "solid",
          "width": 1
         },
         "mode": "lines",
         "name": "Frequency",
         "showlegend": false,
         "type": "scatter",
         "x": [
          68000,
          68000,
          70000,
          70000,
          68000,
          68000
         ],
         "xaxis": "x1",
         "y": [
          0,
          0,
          0,
          0,
          0,
          0
         ],
         "yaxis": "y1"
        },
        {
         "fill": "tozeroy",
         "fillcolor": "rgba(0, 154, 250, 1.000)",
         "legendgroup": "Frequency",
         "line": {
          "color": "rgba(0, 0, 0, 1.000)",
          "dash": "solid",
          "width": 1
         },
         "mode": "lines",
         "name": "Frequency",
         "showlegend": false,
         "type": "scatter",
         "x": [
          70000,
          70000,
          72000,
          72000,
          70000,
          70000
         ],
         "xaxis": "x1",
         "y": [
          0,
          0,
          0,
          0,
          0,
          0
         ],
         "yaxis": "y1"
        },
        {
         "fill": "tozeroy",
         "fillcolor": "rgba(0, 154, 250, 1.000)",
         "legendgroup": "Frequency",
         "line": {
          "color": "rgba(0, 0, 0, 1.000)",
          "dash": "solid",
          "width": 1
         },
         "mode": "lines",
         "name": "Frequency",
         "showlegend": false,
         "type": "scatter",
         "x": [
          72000,
          72000,
          74000,
          74000,
          72000,
          72000
         ],
         "xaxis": "x1",
         "y": [
          0,
          0,
          0,
          0,
          0,
          0
         ],
         "yaxis": "y1"
        },
        {
         "fill": "tozeroy",
         "fillcolor": "rgba(0, 154, 250, 1.000)",
         "legendgroup": "Frequency",
         "line": {
          "color": "rgba(0, 0, 0, 1.000)",
          "dash": "solid",
          "width": 1
         },
         "mode": "lines",
         "name": "Frequency",
         "showlegend": false,
         "type": "scatter",
         "x": [
          74000,
          74000,
          76000,
          76000,
          74000,
          74000
         ],
         "xaxis": "x1",
         "y": [
          0,
          0,
          0,
          0,
          0,
          0
         ],
         "yaxis": "y1"
        },
        {
         "fill": "tozeroy",
         "fillcolor": "rgba(0, 154, 250, 1.000)",
         "legendgroup": "Frequency",
         "line": {
          "color": "rgba(0, 0, 0, 1.000)",
          "dash": "solid",
          "width": 1
         },
         "mode": "lines",
         "name": "Frequency",
         "showlegend": false,
         "type": "scatter",
         "x": [
          76000,
          76000,
          78000,
          78000,
          76000,
          76000
         ],
         "xaxis": "x1",
         "y": [
          0,
          0,
          0,
          0,
          0,
          0
         ],
         "yaxis": "y1"
        },
        {
         "fill": "tozeroy",
         "fillcolor": "rgba(0, 154, 250, 1.000)",
         "legendgroup": "Frequency",
         "line": {
          "color": "rgba(0, 0, 0, 1.000)",
          "dash": "solid",
          "width": 1
         },
         "mode": "lines",
         "name": "Frequency",
         "showlegend": false,
         "type": "scatter",
         "x": [
          78000,
          78000,
          80000,
          80000,
          78000,
          78000
         ],
         "xaxis": "x1",
         "y": [
          0,
          0,
          0,
          0,
          0,
          0
         ],
         "yaxis": "y1"
        },
        {
         "fill": "tozeroy",
         "fillcolor": "rgba(0, 154, 250, 1.000)",
         "legendgroup": "Frequency",
         "line": {
          "color": "rgba(0, 0, 0, 1.000)",
          "dash": "solid",
          "width": 1
         },
         "mode": "lines",
         "name": "Frequency",
         "showlegend": false,
         "type": "scatter",
         "x": [
          80000,
          80000,
          82000,
          82000,
          80000,
          80000
         ],
         "xaxis": "x1",
         "y": [
          1,
          0,
          0,
          1,
          1,
          1
         ],
         "yaxis": "y1"
        }
       ],
       "layout": {
        "annotations": [],
        "height": 400,
        "legend": {
         "bgcolor": "rgba(255, 255, 255, 1.000)",
         "bordercolor": "rgba(0, 0, 0, 1.000)",
         "font": {
          "color": "rgba(0, 0, 0, 1.000)",
          "family": "sans-serif",
          "size": 11
         },
         "tracegroupgap": 0,
         "x": 1,
         "y": 1
        },
        "margin": {
         "b": 20,
         "l": 0,
         "r": 0,
         "t": 20
        },
        "paper_bgcolor": "rgba(255, 255, 255, 1.000)",
        "plot_bgcolor": "rgba(255, 255, 255, 1.000)",
        "showlegend": true,
        "width": 600,
        "xaxis": {
         "anchor": "y1",
         "domain": [
          0.05100612423447069,
          0.9934383202099737
         ],
         "gridcolor": "rgba(0, 0, 0, 0.100)",
         "gridwidth": 0.5,
         "linecolor": "rgba(0, 0, 0, 1.000)",
         "mirror": false,
         "range": [
          -5067.6,
          87067.6
         ],
         "showgrid": true,
         "showline": true,
         "showticklabels": true,
         "tickangle": 0,
         "tickcolor": "rgb(0, 0, 0)",
         "tickfont": {
          "color": "rgba(0, 0, 0, 1.000)",
          "family": "sans-serif",
          "size": 11
         },
         "tickmode": "array",
         "ticks": "inside",
         "ticktext": [
          "0",
          "2×10⁴",
          "4×10⁴",
          "6×10⁴",
          "8×10⁴"
         ],
         "tickvals": [
          0,
          20000,
          40000,
          60000,
          80000
         ],
         "title": "ApplicantIncome",
         "titlefont": {
          "color": "rgba(0, 0, 0, 1.000)",
          "family": "sans-serif",
          "size": 15
         },
         "type": "-",
         "visible": true,
         "zeroline": false,
         "zerolinecolor": "rgba(0, 0, 0, 1.000)"
        },
        "yaxis": {
         "anchor": "x1",
         "domain": [
          0.07581474190726165,
          0.9901574803149606
         ],
         "gridcolor": "rgba(0, 0, 0, 0.100)",
         "gridwidth": 0.5,
         "linecolor": "rgba(0, 0, 0, 1.000)",
         "mirror": false,
         "range": [
          -8.73,
          299.73
         ],
         "showgrid": true,
         "showline": true,
         "showticklabels": true,
         "tickangle": 0,
         "tickcolor": "rgb(0, 0, 0)",
         "tickfont": {
          "color": "rgba(0, 0, 0, 1.000)",
          "family": "sans-serif",
          "size": 11
         },
         "tickmode": "array",
         "ticks": "inside",
         "ticktext": [
          "0",
          "50",
          "100",
          "150",
          "200",
          "250"
         ],
         "tickvals": [
          0,
          50,
          100,
          150,
          200,
          250
         ],
         "title": "",
         "titlefont": {
          "color": "rgba(0, 0, 0, 1.000)",
          "family": "sans-serif",
          "size": 15
         },
         "type": "-",
         "visible": true,
         "zeroline": false,
         "zerolinecolor": "rgba(0, 0, 0, 1.000)"
        }
       }
      },
      "text/html": [
       "    <div id=\"08ffe83d-66fb-4c45-8954-b08dc6b28149\" style=\"width:600px;height:400px;\"></div>\n",
       "    <script>\n",
       "    PLOT = document.getElementById('08ffe83d-66fb-4c45-8954-b08dc6b28149');\n",
       "    Plotly.plot(PLOT, [{\"y\":[40.0,0.0,0.0,40.0,40.0,40.0],\"x\":[0.0,0.0,2000.0,2000.0,0.0,0.0],\"xaxis\":\"x1\",\"name\":\"Frequency\",\"type\":\"scatter\",\"yaxis\":\"y1\",\"mode\":\"lines\",\"fillcolor\":\"rgba(0, 154, 250, 1.000)\",\"legendgroup\":\"Frequency\",\"fill\":\"tozeroy\",\"showlegend\":true,\"line\":{\"dash\":\"solid\",\"color\":\"rgba(0, 0, 0, 1.000)\",\"width\":1}},{\"y\":[291.0,0.0,0.0,291.0,291.0,291.0],\"x\":[2000.0,2000.0,4000.0,4000.0,2000.0,2000.0],\"xaxis\":\"x1\",\"name\":\"Frequency\",\"type\":\"scatter\",\"yaxis\":\"y1\",\"mode\":\"lines\",\"fillcolor\":\"rgba(0, 154, 250, 1.000)\",\"legendgroup\":\"Frequency\",\"fill\":\"tozeroy\",\"showlegend\":false,\"line\":{\"dash\":\"solid\",\"color\":\"rgba(0, 0, 0, 1.000)\",\"width\":1}},{\"y\":[140.0,0.0,0.0,140.0,140.0,140.0],\"x\":[4000.0,4000.0,6000.0,6000.0,4000.0,4000.0],\"xaxis\":\"x1\",\"name\":\"Frequency\",\"type\":\"scatter\",\"yaxis\":\"y1\",\"mode\":\"lines\",\"fillcolor\":\"rgba(0, 154, 250, 1.000)\",\"legendgroup\":\"Frequency\",\"fill\":\"tozeroy\",\"showlegend\":false,\"line\":{\"dash\":\"solid\",\"color\":\"rgba(0, 0, 0, 1.000)\",\"width\":1}},{\"y\":[59.0,0.0,0.0,59.0,59.0,59.0],\"x\":[6000.0,6000.0,8000.0,8000.0,6000.0,6000.0],\"xaxis\":\"x1\",\"name\":\"Frequency\",\"type\":\"scatter\",\"yaxis\":\"y1\",\"mode\":\"lines\",\"fillcolor\":\"rgba(0, 154, 250, 1.000)\",\"legendgroup\":\"Frequency\",\"fill\":\"tozeroy\",\"showlegend\":false,\"line\":{\"dash\":\"solid\",\"color\":\"rgba(0, 0, 0, 1.000)\",\"width\":1}},{\"y\":[29.0,0.0,0.0,29.0,29.0,29.0],\"x\":[8000.0,8000.0,10000.0,10000.0,8000.0,8000.0],\"xaxis\":\"x1\",\"name\":\"Frequency\",\"type\":\"scatter\",\"yaxis\":\"y1\",\"mode\":\"lines\",\"fillcolor\":\"rgba(0, 154, 250, 1.000)\",\"legendgroup\":\"Frequency\",\"fill\":\"tozeroy\",\"showlegend\":false,\"line\":{\"dash\":\"solid\",\"color\":\"rgba(0, 0, 0, 1.000)\",\"width\":1}},{\"y\":[16.0,0.0,0.0,16.0,16.0,16.0],\"x\":[10000.0,10000.0,12000.0,12000.0,10000.0,10000.0],\"xaxis\":\"x1\",\"name\":\"Frequency\",\"type\":\"scatter\",\"yaxis\":\"y1\",\"mode\":\"lines\",\"fillcolor\":\"rgba(0, 154, 250, 1.000)\",\"legendgroup\":\"Frequency\",\"fill\":\"tozeroy\",\"showlegend\":false,\"line\":{\"dash\":\"solid\",\"color\":\"rgba(0, 0, 0, 1.000)\",\"width\":1}},{\"y\":[7.0,0.0,0.0,7.0,7.0,7.0],\"x\":[12000.0,12000.0,14000.0,14000.0,12000.0,12000.0],\"xaxis\":\"x1\",\"name\":\"Frequency\",\"type\":\"scatter\",\"yaxis\":\"y1\",\"mode\":\"lines\",\"fillcolor\":\"rgba(0, 154, 250, 1.000)\",\"legendgroup\":\"Frequency\",\"fill\":\"tozeroy\",\"showlegend\":false,\"line\":{\"dash\":\"solid\",\"color\":\"rgba(0, 0, 0, 1.000)\",\"width\":1}},{\"y\":[8.0,0.0,0.0,8.0,8.0,8.0],\"x\":[14000.0,14000.0,16000.0,16000.0,14000.0,14000.0],\"xaxis\":\"x1\",\"name\":\"Frequency\",\"type\":\"scatter\",\"yaxis\":\"y1\",\"mode\":\"lines\",\"fillcolor\":\"rgba(0, 154, 250, 1.000)\",\"legendgroup\":\"Frequency\",\"fill\":\"tozeroy\",\"showlegend\":false,\"line\":{\"dash\":\"solid\",\"color\":\"rgba(0, 0, 0, 1.000)\",\"width\":1}},{\"y\":[8.0,0.0,0.0,8.0,8.0,8.0],\"x\":[16000.0,16000.0,18000.0,18000.0,16000.0,16000.0],\"xaxis\":\"x1\",\"name\":\"Frequency\",\"type\":\"scatter\",\"yaxis\":\"y1\",\"mode\":\"lines\",\"fillcolor\":\"rgba(0, 154, 250, 1.000)\",\"legendgroup\":\"Frequency\",\"fill\":\"tozeroy\",\"showlegend\":false,\"line\":{\"dash\":\"solid\",\"color\":\"rgba(0, 0, 0, 1.000)\",\"width\":1}},{\"y\":[4.0,0.0,0.0,4.0,4.0,4.0],\"x\":[18000.0,18000.0,20000.0,20000.0,18000.0,18000.0],\"xaxis\":\"x1\",\"name\":\"Frequency\",\"type\":\"scatter\",\"yaxis\":\"y1\",\"mode\":\"lines\",\"fillcolor\":\"rgba(0, 154, 250, 1.000)\",\"legendgroup\":\"Frequency\",\"fill\":\"tozeroy\",\"showlegend\":false,\"line\":{\"dash\":\"solid\",\"color\":\"rgba(0, 0, 0, 1.000)\",\"width\":1}},{\"y\":[4.0,0.0,0.0,4.0,4.0,4.0],\"x\":[20000.0,20000.0,22000.0,22000.0,20000.0,20000.0],\"xaxis\":\"x1\",\"name\":\"Frequency\",\"type\":\"scatter\",\"yaxis\":\"y1\",\"mode\":\"lines\",\"fillcolor\":\"rgba(0, 154, 250, 1.000)\",\"legendgroup\":\"Frequency\",\"fill\":\"tozeroy\",\"showlegend\":false,\"line\":{\"dash\":\"solid\",\"color\":\"rgba(0, 0, 0, 1.000)\",\"width\":1}},{\"y\":[1.0,0.0,0.0,1.0,1.0,1.0],\"x\":[22000.0,22000.0,24000.0,24000.0,22000.0,22000.0],\"xaxis\":\"x1\",\"name\":\"Frequency\",\"type\":\"scatter\",\"yaxis\":\"y1\",\"mode\":\"lines\",\"fillcolor\":\"rgba(0, 154, 250, 1.000)\",\"legendgroup\":\"Frequency\",\"fill\":\"tozeroy\",\"showlegend\":false,\"line\":{\"dash\":\"solid\",\"color\":\"rgba(0, 0, 0, 1.000)\",\"width\":1}},{\"y\":[0.0,0.0,0.0,0.0,0.0,0.0],\"x\":[24000.0,24000.0,26000.0,26000.0,24000.0,24000.0],\"xaxis\":\"x1\",\"name\":\"Frequency\",\"type\":\"scatter\",\"yaxis\":\"y1\",\"mode\":\"lines\",\"fillcolor\":\"rgba(0, 154, 250, 1.000)\",\"legendgroup\":\"Frequency\",\"fill\":\"tozeroy\",\"showlegend\":false,\"line\":{\"dash\":\"solid\",\"color\":\"rgba(0, 0, 0, 1.000)\",\"width\":1}},{\"y\":[0.0,0.0,0.0,0.0,0.0,0.0],\"x\":[26000.0,26000.0,28000.0,28000.0,26000.0,26000.0],\"xaxis\":\"x1\",\"name\":\"Frequency\",\"type\":\"scatter\",\"yaxis\":\"y1\",\"mode\":\"lines\",\"fillcolor\":\"rgba(0, 154, 250, 1.000)\",\"legendgroup\":\"Frequency\",\"fill\":\"tozeroy\",\"showlegend\":false,\"line\":{\"dash\":\"solid\",\"color\":\"rgba(0, 0, 0, 1.000)\",\"width\":1}},{\"y\":[0.0,0.0,0.0,0.0,0.0,0.0],\"x\":[28000.0,28000.0,30000.0,30000.0,28000.0,28000.0],\"xaxis\":\"x1\",\"name\":\"Frequency\",\"type\":\"scatter\",\"yaxis\":\"y1\",\"mode\":\"lines\",\"fillcolor\":\"rgba(0, 154, 250, 1.000)\",\"legendgroup\":\"Frequency\",\"fill\":\"tozeroy\",\"showlegend\":false,\"line\":{\"dash\":\"solid\",\"color\":\"rgba(0, 0, 0, 1.000)\",\"width\":1}},{\"y\":[0.0,0.0,0.0,0.0,0.0,0.0],\"x\":[30000.0,30000.0,32000.0,32000.0,30000.0,30000.0],\"xaxis\":\"x1\",\"name\":\"Frequency\",\"type\":\"scatter\",\"yaxis\":\"y1\",\"mode\":\"lines\",\"fillcolor\":\"rgba(0, 154, 250, 1.000)\",\"legendgroup\":\"Frequency\",\"fill\":\"tozeroy\",\"showlegend\":false,\"line\":{\"dash\":\"solid\",\"color\":\"rgba(0, 0, 0, 1.000)\",\"width\":1}},{\"y\":[1.0,0.0,0.0,1.0,1.0,1.0],\"x\":[32000.0,32000.0,34000.0,34000.0,32000.0,32000.0],\"xaxis\":\"x1\",\"name\":\"Frequency\",\"type\":\"scatter\",\"yaxis\":\"y1\",\"mode\":\"lines\",\"fillcolor\":\"rgba(0, 154, 250, 1.000)\",\"legendgroup\":\"Frequency\",\"fill\":\"tozeroy\",\"showlegend\":false,\"line\":{\"dash\":\"solid\",\"color\":\"rgba(0, 0, 0, 1.000)\",\"width\":1}},{\"y\":[0.0,0.0,0.0,0.0,0.0,0.0],\"x\":[34000.0,34000.0,36000.0,36000.0,34000.0,34000.0],\"xaxis\":\"x1\",\"name\":\"Frequency\",\"type\":\"scatter\",\"yaxis\":\"y1\",\"mode\":\"lines\",\"fillcolor\":\"rgba(0, 154, 250, 1.000)\",\"legendgroup\":\"Frequency\",\"fill\":\"tozeroy\",\"showlegend\":false,\"line\":{\"dash\":\"solid\",\"color\":\"rgba(0, 0, 0, 1.000)\",\"width\":1}},{\"y\":[1.0,0.0,0.0,1.0,1.0,1.0],\"x\":[36000.0,36000.0,38000.0,38000.0,36000.0,36000.0],\"xaxis\":\"x1\",\"name\":\"Frequency\",\"type\":\"scatter\",\"yaxis\":\"y1\",\"mode\":\"lines\",\"fillcolor\":\"rgba(0, 154, 250, 1.000)\",\"legendgroup\":\"Frequency\",\"fill\":\"tozeroy\",\"showlegend\":false,\"line\":{\"dash\":\"solid\",\"color\":\"rgba(0, 0, 0, 1.000)\",\"width\":1}},{\"y\":[2.0,0.0,0.0,2.0,2.0,2.0],\"x\":[38000.0,38000.0,40000.0,40000.0,38000.0,38000.0],\"xaxis\":\"x1\",\"name\":\"Frequency\",\"type\":\"scatter\",\"yaxis\":\"y1\",\"mode\":\"lines\",\"fillcolor\":\"rgba(0, 154, 250, 1.000)\",\"legendgroup\":\"Frequency\",\"fill\":\"tozeroy\",\"showlegend\":false,\"line\":{\"dash\":\"solid\",\"color\":\"rgba(0, 0, 0, 1.000)\",\"width\":1}},{\"y\":[0.0,0.0,0.0,0.0,0.0,0.0],\"x\":[40000.0,40000.0,42000.0,42000.0,40000.0,40000.0],\"xaxis\":\"x1\",\"name\":\"Frequency\",\"type\":\"scatter\",\"yaxis\":\"y1\",\"mode\":\"lines\",\"fillcolor\":\"rgba(0, 154, 250, 1.000)\",\"legendgroup\":\"Frequency\",\"fill\":\"tozeroy\",\"showlegend\":false,\"line\":{\"dash\":\"solid\",\"color\":\"rgba(0, 0, 0, 1.000)\",\"width\":1}},{\"y\":[0.0,0.0,0.0,0.0,0.0,0.0],\"x\":[42000.0,42000.0,44000.0,44000.0,42000.0,42000.0],\"xaxis\":\"x1\",\"name\":\"Frequency\",\"type\":\"scatter\",\"yaxis\":\"y1\",\"mode\":\"lines\",\"fillcolor\":\"rgba(0, 154, 250, 1.000)\",\"legendgroup\":\"Frequency\",\"fill\":\"tozeroy\",\"showlegend\":false,\"line\":{\"dash\":\"solid\",\"color\":\"rgba(0, 0, 0, 1.000)\",\"width\":1}},{\"y\":[0.0,0.0,0.0,0.0,0.0,0.0],\"x\":[44000.0,44000.0,46000.0,46000.0,44000.0,44000.0],\"xaxis\":\"x1\",\"name\":\"Frequency\",\"type\":\"scatter\",\"yaxis\":\"y1\",\"mode\":\"lines\",\"fillcolor\":\"rgba(0, 154, 250, 1.000)\",\"legendgroup\":\"Frequency\",\"fill\":\"tozeroy\",\"showlegend\":false,\"line\":{\"dash\":\"solid\",\"color\":\"rgba(0, 0, 0, 1.000)\",\"width\":1}},{\"y\":[0.0,0.0,0.0,0.0,0.0,0.0],\"x\":[46000.0,46000.0,48000.0,48000.0,46000.0,46000.0],\"xaxis\":\"x1\",\"name\":\"Frequency\",\"type\":\"scatter\",\"yaxis\":\"y1\",\"mode\":\"lines\",\"fillcolor\":\"rgba(0, 154, 250, 1.000)\",\"legendgroup\":\"Frequency\",\"fill\":\"tozeroy\",\"showlegend\":false,\"line\":{\"dash\":\"solid\",\"color\":\"rgba(0, 0, 0, 1.000)\",\"width\":1}},{\"y\":[0.0,0.0,0.0,0.0,0.0,0.0],\"x\":[48000.0,48000.0,50000.0,50000.0,48000.0,48000.0],\"xaxis\":\"x1\",\"name\":\"Frequency\",\"type\":\"scatter\",\"yaxis\":\"y1\",\"mode\":\"lines\",\"fillcolor\":\"rgba(0, 154, 250, 1.000)\",\"legendgroup\":\"Frequency\",\"fill\":\"tozeroy\",\"showlegend\":false,\"line\":{\"dash\":\"solid\",\"color\":\"rgba(0, 0, 0, 1.000)\",\"width\":1}},{\"y\":[1.0,0.0,0.0,1.0,1.0,1.0],\"x\":[50000.0,50000.0,52000.0,52000.0,50000.0,50000.0],\"xaxis\":\"x1\",\"name\":\"Frequency\",\"type\":\"scatter\",\"yaxis\":\"y1\",\"mode\":\"lines\",\"fillcolor\":\"rgba(0, 154, 250, 1.000)\",\"legendgroup\":\"Frequency\",\"fill\":\"tozeroy\",\"showlegend\":false,\"line\":{\"dash\":\"solid\",\"color\":\"rgba(0, 0, 0, 1.000)\",\"width\":1}},{\"y\":[0.0,0.0,0.0,0.0,0.0,0.0],\"x\":[52000.0,52000.0,54000.0,54000.0,52000.0,52000.0],\"xaxis\":\"x1\",\"name\":\"Frequency\",\"type\":\"scatter\",\"yaxis\":\"y1\",\"mode\":\"lines\",\"fillcolor\":\"rgba(0, 154, 250, 1.000)\",\"legendgroup\":\"Frequency\",\"fill\":\"tozeroy\",\"showlegend\":false,\"line\":{\"dash\":\"solid\",\"color\":\"rgba(0, 0, 0, 1.000)\",\"width\":1}},{\"y\":[0.0,0.0,0.0,0.0,0.0,0.0],\"x\":[54000.0,54000.0,56000.0,56000.0,54000.0,54000.0],\"xaxis\":\"x1\",\"name\":\"Frequency\",\"type\":\"scatter\",\"yaxis\":\"y1\",\"mode\":\"lines\",\"fillcolor\":\"rgba(0, 154, 250, 1.000)\",\"legendgroup\":\"Frequency\",\"fill\":\"tozeroy\",\"showlegend\":false,\"line\":{\"dash\":\"solid\",\"color\":\"rgba(0, 0, 0, 1.000)\",\"width\":1}},{\"y\":[0.0,0.0,0.0,0.0,0.0,0.0],\"x\":[56000.0,56000.0,58000.0,58000.0,56000.0,56000.0],\"xaxis\":\"x1\",\"name\":\"Frequency\",\"type\":\"scatter\",\"yaxis\":\"y1\",\"mode\":\"lines\",\"fillcolor\":\"rgba(0, 154, 250, 1.000)\",\"legendgroup\":\"Frequency\",\"fill\":\"tozeroy\",\"showlegend\":false,\"line\":{\"dash\":\"solid\",\"color\":\"rgba(0, 0, 0, 1.000)\",\"width\":1}},{\"y\":[0.0,0.0,0.0,0.0,0.0,0.0],\"x\":[58000.0,58000.0,60000.0,60000.0,58000.0,58000.0],\"xaxis\":\"x1\",\"name\":\"Frequency\",\"type\":\"scatter\",\"yaxis\":\"y1\",\"mode\":\"lines\",\"fillcolor\":\"rgba(0, 154, 250, 1.000)\",\"legendgroup\":\"Frequency\",\"fill\":\"tozeroy\",\"showlegend\":false,\"line\":{\"dash\":\"solid\",\"color\":\"rgba(0, 0, 0, 1.000)\",\"width\":1}},{\"y\":[0.0,0.0,0.0,0.0,0.0,0.0],\"x\":[60000.0,60000.0,62000.0,62000.0,60000.0,60000.0],\"xaxis\":\"x1\",\"name\":\"Frequency\",\"type\":\"scatter\",\"yaxis\":\"y1\",\"mode\":\"lines\",\"fillcolor\":\"rgba(0, 154, 250, 1.000)\",\"legendgroup\":\"Frequency\",\"fill\":\"tozeroy\",\"showlegend\":false,\"line\":{\"dash\":\"solid\",\"color\":\"rgba(0, 0, 0, 1.000)\",\"width\":1}},{\"y\":[1.0,0.0,0.0,1.0,1.0,1.0],\"x\":[62000.0,62000.0,64000.0,64000.0,62000.0,62000.0],\"xaxis\":\"x1\",\"name\":\"Frequency\",\"type\":\"scatter\",\"yaxis\":\"y1\",\"mode\":\"lines\",\"fillcolor\":\"rgba(0, 154, 250, 1.000)\",\"legendgroup\":\"Frequency\",\"fill\":\"tozeroy\",\"showlegend\":false,\"line\":{\"dash\":\"solid\",\"color\":\"rgba(0, 0, 0, 1.000)\",\"width\":1}},{\"y\":[0.0,0.0,0.0,0.0,0.0,0.0],\"x\":[64000.0,64000.0,66000.0,66000.0,64000.0,64000.0],\"xaxis\":\"x1\",\"name\":\"Frequency\",\"type\":\"scatter\",\"yaxis\":\"y1\",\"mode\":\"lines\",\"fillcolor\":\"rgba(0, 154, 250, 1.000)\",\"legendgroup\":\"Frequency\",\"fill\":\"tozeroy\",\"showlegend\":false,\"line\":{\"dash\":\"solid\",\"color\":\"rgba(0, 0, 0, 1.000)\",\"width\":1}},{\"y\":[0.0,0.0,0.0,0.0,0.0,0.0],\"x\":[66000.0,66000.0,68000.0,68000.0,66000.0,66000.0],\"xaxis\":\"x1\",\"name\":\"Frequency\",\"type\":\"scatter\",\"yaxis\":\"y1\",\"mode\":\"lines\",\"fillcolor\":\"rgba(0, 154, 250, 1.000)\",\"legendgroup\":\"Frequency\",\"fill\":\"tozeroy\",\"showlegend\":false,\"line\":{\"dash\":\"solid\",\"color\":\"rgba(0, 0, 0, 1.000)\",\"width\":1}},{\"y\":[0.0,0.0,0.0,0.0,0.0,0.0],\"x\":[68000.0,68000.0,70000.0,70000.0,68000.0,68000.0],\"xaxis\":\"x1\",\"name\":\"Frequency\",\"type\":\"scatter\",\"yaxis\":\"y1\",\"mode\":\"lines\",\"fillcolor\":\"rgba(0, 154, 250, 1.000)\",\"legendgroup\":\"Frequency\",\"fill\":\"tozeroy\",\"showlegend\":false,\"line\":{\"dash\":\"solid\",\"color\":\"rgba(0, 0, 0, 1.000)\",\"width\":1}},{\"y\":[0.0,0.0,0.0,0.0,0.0,0.0],\"x\":[70000.0,70000.0,72000.0,72000.0,70000.0,70000.0],\"xaxis\":\"x1\",\"name\":\"Frequency\",\"type\":\"scatter\",\"yaxis\":\"y1\",\"mode\":\"lines\",\"fillcolor\":\"rgba(0, 154, 250, 1.000)\",\"legendgroup\":\"Frequency\",\"fill\":\"tozeroy\",\"showlegend\":false,\"line\":{\"dash\":\"solid\",\"color\":\"rgba(0, 0, 0, 1.000)\",\"width\":1}},{\"y\":[0.0,0.0,0.0,0.0,0.0,0.0],\"x\":[72000.0,72000.0,74000.0,74000.0,72000.0,72000.0],\"xaxis\":\"x1\",\"name\":\"Frequency\",\"type\":\"scatter\",\"yaxis\":\"y1\",\"mode\":\"lines\",\"fillcolor\":\"rgba(0, 154, 250, 1.000)\",\"legendgroup\":\"Frequency\",\"fill\":\"tozeroy\",\"showlegend\":false,\"line\":{\"dash\":\"solid\",\"color\":\"rgba(0, 0, 0, 1.000)\",\"width\":1}},{\"y\":[0.0,0.0,0.0,0.0,0.0,0.0],\"x\":[74000.0,74000.0,76000.0,76000.0,74000.0,74000.0],\"xaxis\":\"x1\",\"name\":\"Frequency\",\"type\":\"scatter\",\"yaxis\":\"y1\",\"mode\":\"lines\",\"fillcolor\":\"rgba(0, 154, 250, 1.000)\",\"legendgroup\":\"Frequency\",\"fill\":\"tozeroy\",\"showlegend\":false,\"line\":{\"dash\":\"solid\",\"color\":\"rgba(0, 0, 0, 1.000)\",\"width\":1}},{\"y\":[0.0,0.0,0.0,0.0,0.0,0.0],\"x\":[76000.0,76000.0,78000.0,78000.0,76000.0,76000.0],\"xaxis\":\"x1\",\"name\":\"Frequency\",\"type\":\"scatter\",\"yaxis\":\"y1\",\"mode\":\"lines\",\"fillcolor\":\"rgba(0, 154, 250, 1.000)\",\"legendgroup\":\"Frequency\",\"fill\":\"tozeroy\",\"showlegend\":false,\"line\":{\"dash\":\"solid\",\"color\":\"rgba(0, 0, 0, 1.000)\",\"width\":1}},{\"y\":[0.0,0.0,0.0,0.0,0.0,0.0],\"x\":[78000.0,78000.0,80000.0,80000.0,78000.0,78000.0],\"xaxis\":\"x1\",\"name\":\"Frequency\",\"type\":\"scatter\",\"yaxis\":\"y1\",\"mode\":\"lines\",\"fillcolor\":\"rgba(0, 154, 250, 1.000)\",\"legendgroup\":\"Frequency\",\"fill\":\"tozeroy\",\"showlegend\":false,\"line\":{\"dash\":\"solid\",\"color\":\"rgba(0, 0, 0, 1.000)\",\"width\":1}},{\"y\":[1.0,0.0,0.0,1.0,1.0,1.0],\"x\":[80000.0,80000.0,82000.0,82000.0,80000.0,80000.0],\"xaxis\":\"x1\",\"name\":\"Frequency\",\"type\":\"scatter\",\"yaxis\":\"y1\",\"mode\":\"lines\",\"fillcolor\":\"rgba(0, 154, 250, 1.000)\",\"legendgroup\":\"Frequency\",\"fill\":\"tozeroy\",\"showlegend\":false,\"line\":{\"dash\":\"solid\",\"color\":\"rgba(0, 0, 0, 1.000)\",\"width\":1}}], {\"plot_bgcolor\":\"rgba(255, 255, 255, 1.000)\",\"height\":400,\"xaxis\":{\"title\":\"ApplicantIncome\",\"showgrid\":true,\"zerolinecolor\":\"rgba(0, 0, 0, 1.000)\",\"tickangle\":0,\"linecolor\":\"rgba(0, 0, 0, 1.000)\",\"range\":[-5067.6,87067.6],\"ticktext\":[\"0\",\"2×10⁴\",\"4×10⁴\",\"6×10⁴\",\"8×10⁴\"],\"zeroline\":false,\"type\":\"-\",\"mirror\":false,\"domain\":[0.05100612423447069,0.9934383202099737],\"gridcolor\":\"rgba(0, 0, 0, 0.100)\",\"showline\":true,\"showticklabels\":true,\"ticks\":\"inside\",\"anchor\":\"y1\",\"tickfont\":{\"size\":11,\"color\":\"rgba(0, 0, 0, 1.000)\",\"family\":\"sans-serif\"},\"tickmode\":\"array\",\"visible\":true,\"titlefont\":{\"size\":15,\"color\":\"rgba(0, 0, 0, 1.000)\",\"family\":\"sans-serif\"},\"tickcolor\":\"rgb(0, 0, 0)\",\"tickvals\":[0.0,20000.0,40000.0,60000.0,80000.0],\"gridwidth\":0.5},\"width\":600,\"paper_bgcolor\":\"rgba(255, 255, 255, 1.000)\",\"annotations\":[],\"yaxis\":{\"title\":\"\",\"showgrid\":true,\"zerolinecolor\":\"rgba(0, 0, 0, 1.000)\",\"tickangle\":0,\"linecolor\":\"rgba(0, 0, 0, 1.000)\",\"range\":[-8.73,299.73],\"ticktext\":[\"0\",\"50\",\"100\",\"150\",\"200\",\"250\"],\"zeroline\":false,\"type\":\"-\",\"mirror\":false,\"domain\":[0.07581474190726165,0.9901574803149606],\"gridcolor\":\"rgba(0, 0, 0, 0.100)\",\"showline\":true,\"showticklabels\":true,\"ticks\":\"inside\",\"anchor\":\"x1\",\"tickfont\":{\"size\":11,\"color\":\"rgba(0, 0, 0, 1.000)\",\"family\":\"sans-serif\"},\"tickmode\":\"array\",\"visible\":true,\"titlefont\":{\"size\":15,\"color\":\"rgba(0, 0, 0, 1.000)\",\"family\":\"sans-serif\"},\"tickcolor\":\"rgb(0, 0, 0)\",\"tickvals\":[0.0,50.0,100.0,150.0,200.0,250.0],\"gridwidth\":0.5},\"showlegend\":true,\"margin\":{\"l\":0,\"r\":0,\"t\":20,\"b\":20},\"legend\":{\"y\":1.0,\"tracegroupgap\":0,\"x\":1.0,\"bordercolor\":\"rgba(0, 0, 0, 1.000)\",\"bgcolor\":\"rgba(255, 255, 255, 1.000)\",\"font\":{\"size\":11,\"color\":\"rgba(0, 0, 0, 1.000)\",\"family\":\"sans-serif\"}}});\n",
       "    </script>\n"
      ]
     },
     "execution_count": 28,
     "metadata": {},
     "output_type": "execute_result"
    }
   ],
   "source": [
    "Plots.histogram(train[:ApplicantIncome],bins=50,xlabel=\"ApplicantIncome\",labels=\"Frequency\") "
   ]
  },
  {
   "cell_type": "code",
   "execution_count": 29,
   "metadata": {},
   "outputs": [
    {
     "name": "stderr",
     "output_type": "stream",
     "text": [
      "┌ Warning: `showcols(df::AbstractDataFrame, all::Bool=false, values::Bool=true)` is deprecated, use `describe(df, stats=[:eltype, :nmissing, :first, :last])` instead.\n",
      "│   caller = showcols(::DataFrame) at deprecated.jl:54\n",
      "└ @ DataFrames .\\deprecated.jl:54\n"
     ]
    },
    {
     "data": {
      "text/html": [
       "<table class=\"data-frame\"><thead><tr><th></th><th>variable</th><th>eltype</th><th>nmissing</th><th>first</th><th>last</th></tr><tr><th></th><th>Symbol</th><th>DataType</th><th>Int32</th><th>Any</th><th>Any</th></tr></thead><tbody><tr><th>1</th><td>Loan_ID</td><td>String</td><td>0</td><td>LP001002</td><td>LP002990</td></tr><tr><th>2</th><td>Gender</td><td>String</td><td>13</td><td>Male</td><td>Female</td></tr><tr><th>3</th><td>Married</td><td>String</td><td>3</td><td>No</td><td>No</td></tr><tr><th>4</th><td>Dependents</td><td>String</td><td>15</td><td>0</td><td>0</td></tr><tr><th>5</th><td>Education</td><td>String</td><td>0</td><td>Graduate</td><td>Graduate</td></tr><tr><th>6</th><td>Self_Employed</td><td>String</td><td>32</td><td>No</td><td>Yes</td></tr><tr><th>7</th><td>ApplicantIncome</td><td>Int64</td><td>0</td><td>5849</td><td>4583</td></tr><tr><th>8</th><td>CoapplicantIncome</td><td>Float64</td><td>0</td><td>0.0</td><td>0.0</td></tr><tr><th>9</th><td>LoanAmount</td><td>Int64</td><td>22</td><td>missing</td><td>133</td></tr><tr><th>10</th><td>Loan_Amount_Term</td><td>Int64</td><td>14</td><td>360</td><td>360</td></tr><tr><th>11</th><td>Credit_History</td><td>Int64</td><td>50</td><td>1</td><td>0</td></tr><tr><th>12</th><td>Property_Area</td><td>String</td><td>0</td><td>Urban</td><td>Semiurban</td></tr><tr><th>13</th><td>Loan_Status</td><td>String</td><td>0</td><td>Y</td><td>N</td></tr></tbody></table>"
      ],
      "text/latex": [
       "\\begin{tabular}{r|ccccc}\n",
       "\t& variable & eltype & nmissing & first & last\\\\\n",
       "\t\\hline\n",
       "\t1 & Loan\\_ID & String & 0 & LP001002 & LP002990 \\\\\n",
       "\t2 & Gender & String & 13 & Male & Female \\\\\n",
       "\t3 & Married & String & 3 & No & No \\\\\n",
       "\t4 & Dependents & String & 15 & 0 & 0 \\\\\n",
       "\t5 & Education & String & 0 & Graduate & Graduate \\\\\n",
       "\t6 & Self\\_Employed & String & 32 & No & Yes \\\\\n",
       "\t7 & ApplicantIncome & Int64 & 0 & 5849 & 4583 \\\\\n",
       "\t8 & CoapplicantIncome & Float64 & 0 & 0.0 & 0.0 \\\\\n",
       "\t9 & LoanAmount & Int64 & 22 &  & 133 \\\\\n",
       "\t10 & Loan\\_Amount\\_Term & Int64 & 14 & 360 & 360 \\\\\n",
       "\t11 & Credit\\_History & Int64 & 50 & 1 & 0 \\\\\n",
       "\t12 & Property\\_Area & String & 0 & Urban & Semiurban \\\\\n",
       "\t13 & Loan\\_Status & String & 0 & Y & N \\\\\n",
       "\\end{tabular}\n"
      ],
      "text/plain": [
       "13×5 DataFrame\n",
       "│ Row │ variable          │ eltype   │ nmissing │ first    │ last      │\n",
       "│     │ \u001b[90mSymbol\u001b[39m            │ \u001b[90mDataType\u001b[39m │ \u001b[90mInt32\u001b[39m    │ \u001b[90mAny\u001b[39m      │ \u001b[90mAny\u001b[39m       │\n",
       "├─────┼───────────────────┼──────────┼──────────┼──────────┼───────────┤\n",
       "│ 1   │ Loan_ID           │ String   │ 0        │ LP001002 │ LP002990  │\n",
       "│ 2   │ Gender            │ String   │ 13       │ Male     │ Female    │\n",
       "│ 3   │ Married           │ String   │ 3        │ No       │ No        │\n",
       "│ 4   │ Dependents        │ String   │ 15       │ 0        │ 0         │\n",
       "│ 5   │ Education         │ String   │ 0        │ Graduate │ Graduate  │\n",
       "│ 6   │ Self_Employed     │ String   │ 32       │ No       │ Yes       │\n",
       "│ 7   │ ApplicantIncome   │ Int64    │ 0        │ 5849     │ 4583      │\n",
       "│ 8   │ CoapplicantIncome │ Float64  │ 0        │ 0.0      │ 0.0       │\n",
       "│ 9   │ LoanAmount        │ Int64    │ 22       │ \u001b[90mmissing\u001b[39m  │ 133       │\n",
       "│ 10  │ Loan_Amount_Term  │ Int64    │ 14       │ 360      │ 360       │\n",
       "│ 11  │ Credit_History    │ Int64    │ 50       │ 1        │ 0         │\n",
       "│ 12  │ Property_Area     │ String   │ 0        │ Urban    │ Semiurban │\n",
       "│ 13  │ Loan_Status       │ String   │ 0        │ Y        │ N         │"
      ]
     },
     "execution_count": 29,
     "metadata": {},
     "output_type": "execute_result"
    }
   ],
   "source": [
    " showcols(train)"
   ]
  },
  {
   "cell_type": "code",
   "execution_count": 30,
   "metadata": {},
   "outputs": [
    {
     "data": {
      "text/html": [
       "<table class=\"data-frame\"><thead><tr><th></th><th>variable</th><th>eltype</th><th>nmissing</th><th>first</th><th>last</th></tr><tr><th></th><th>Symbol</th><th>DataType</th><th>Int32</th><th>Any</th><th>Any</th></tr></thead><tbody><tr><th>1</th><td>Loan_ID</td><td>String</td><td>0</td><td>LP001002</td><td>LP002990</td></tr><tr><th>2</th><td>Gender</td><td>String</td><td>13</td><td>Male</td><td>Female</td></tr><tr><th>3</th><td>Married</td><td>String</td><td>3</td><td>No</td><td>No</td></tr><tr><th>4</th><td>Dependents</td><td>String</td><td>15</td><td>0</td><td>0</td></tr><tr><th>5</th><td>Education</td><td>String</td><td>0</td><td>Graduate</td><td>Graduate</td></tr><tr><th>6</th><td>Self_Employed</td><td>String</td><td>32</td><td>No</td><td>Yes</td></tr><tr><th>7</th><td>ApplicantIncome</td><td>Int64</td><td>0</td><td>5849</td><td>4583</td></tr><tr><th>8</th><td>CoapplicantIncome</td><td>Float64</td><td>0</td><td>0.0</td><td>0.0</td></tr><tr><th>9</th><td>LoanAmount</td><td>Int64</td><td>22</td><td>missing</td><td>133</td></tr><tr><th>10</th><td>Loan_Amount_Term</td><td>Int64</td><td>14</td><td>360</td><td>360</td></tr><tr><th>11</th><td>Credit_History</td><td>Int64</td><td>50</td><td>1</td><td>0</td></tr><tr><th>12</th><td>Property_Area</td><td>String</td><td>0</td><td>Urban</td><td>Semiurban</td></tr><tr><th>13</th><td>Loan_Status</td><td>String</td><td>0</td><td>Y</td><td>N</td></tr></tbody></table>"
      ],
      "text/latex": [
       "\\begin{tabular}{r|ccccc}\n",
       "\t& variable & eltype & nmissing & first & last\\\\\n",
       "\t\\hline\n",
       "\t1 & Loan\\_ID & String & 0 & LP001002 & LP002990 \\\\\n",
       "\t2 & Gender & String & 13 & Male & Female \\\\\n",
       "\t3 & Married & String & 3 & No & No \\\\\n",
       "\t4 & Dependents & String & 15 & 0 & 0 \\\\\n",
       "\t5 & Education & String & 0 & Graduate & Graduate \\\\\n",
       "\t6 & Self\\_Employed & String & 32 & No & Yes \\\\\n",
       "\t7 & ApplicantIncome & Int64 & 0 & 5849 & 4583 \\\\\n",
       "\t8 & CoapplicantIncome & Float64 & 0 & 0.0 & 0.0 \\\\\n",
       "\t9 & LoanAmount & Int64 & 22 &  & 133 \\\\\n",
       "\t10 & Loan\\_Amount\\_Term & Int64 & 14 & 360 & 360 \\\\\n",
       "\t11 & Credit\\_History & Int64 & 50 & 1 & 0 \\\\\n",
       "\t12 & Property\\_Area & String & 0 & Urban & Semiurban \\\\\n",
       "\t13 & Loan\\_Status & String & 0 & Y & N \\\\\n",
       "\\end{tabular}\n"
      ],
      "text/plain": [
       "13×5 DataFrame\n",
       "│ Row │ variable          │ eltype   │ nmissing │ first    │ last      │\n",
       "│     │ \u001b[90mSymbol\u001b[39m            │ \u001b[90mDataType\u001b[39m │ \u001b[90mInt32\u001b[39m    │ \u001b[90mAny\u001b[39m      │ \u001b[90mAny\u001b[39m       │\n",
       "├─────┼───────────────────┼──────────┼──────────┼──────────┼───────────┤\n",
       "│ 1   │ Loan_ID           │ String   │ 0        │ LP001002 │ LP002990  │\n",
       "│ 2   │ Gender            │ String   │ 13       │ Male     │ Female    │\n",
       "│ 3   │ Married           │ String   │ 3        │ No       │ No        │\n",
       "│ 4   │ Dependents        │ String   │ 15       │ 0        │ 0         │\n",
       "│ 5   │ Education         │ String   │ 0        │ Graduate │ Graduate  │\n",
       "│ 6   │ Self_Employed     │ String   │ 32       │ No       │ Yes       │\n",
       "│ 7   │ ApplicantIncome   │ Int64    │ 0        │ 5849     │ 4583      │\n",
       "│ 8   │ CoapplicantIncome │ Float64  │ 0        │ 0.0      │ 0.0       │\n",
       "│ 9   │ LoanAmount        │ Int64    │ 22       │ \u001b[90mmissing\u001b[39m  │ 133       │\n",
       "│ 10  │ Loan_Amount_Term  │ Int64    │ 14       │ 360      │ 360       │\n",
       "│ 11  │ Credit_History    │ Int64    │ 50       │ 1        │ 0         │\n",
       "│ 12  │ Property_Area     │ String   │ 0        │ Urban    │ Semiurban │\n",
       "│ 13  │ Loan_Status       │ String   │ 0        │ Y        │ N         │"
      ]
     },
     "execution_count": 30,
     "metadata": {},
     "output_type": "execute_result"
    }
   ],
   "source": [
    "describe(train, stats=[:eltype, :nmissing, :first, :last])"
   ]
  },
  {
   "cell_type": "code",
   "execution_count": 47,
   "metadata": {},
   "outputs": [
    {
     "data": {
      "text/plain": [
       "3.1"
      ]
     },
     "execution_count": 47,
     "metadata": {},
     "output_type": "execute_result"
    }
   ],
   "source": [
    "x = 3.1\n"
   ]
  },
  {
   "cell_type": "code",
   "execution_count": 38,
   "metadata": {},
   "outputs": [
    {
     "data": {
      "text/plain": [
       "68"
      ]
     },
     "execution_count": 38,
     "metadata": {},
     "output_type": "execute_result"
    }
   ],
   "source": [
    "3*x^2-2*x+3"
   ]
  },
  {
   "cell_type": "code",
   "execution_count": 39,
   "metadata": {},
   "outputs": [
    {
     "data": {
      "text/plain": [
       "68"
      ]
     },
     "execution_count": 39,
     "metadata": {},
     "output_type": "execute_result"
    }
   ],
   "source": [
    "3x^2-2x+3"
   ]
  },
  {
   "cell_type": "code",
   "execution_count": 48,
   "metadata": {},
   "outputs": [
    {
     "data": {
      "text/plain": [
       "true"
      ]
     },
     "execution_count": 48,
     "metadata": {},
     "output_type": "execute_result"
    }
   ],
   "source": [
    "(3.0 < x) && (x < 5.0)"
   ]
  },
  {
   "cell_type": "code",
   "execution_count": 49,
   "metadata": {},
   "outputs": [
    {
     "data": {
      "text/plain": [
       "true"
      ]
     },
     "execution_count": 49,
     "metadata": {},
     "output_type": "execute_result"
    }
   ],
   "source": [
    "a= true"
   ]
  },
  {
   "cell_type": "code",
   "execution_count": 51,
   "metadata": {},
   "outputs": [
    {
     "data": {
      "text/plain": [
       "false"
      ]
     },
     "execution_count": 51,
     "metadata": {},
     "output_type": "execute_result"
    }
   ],
   "source": [
    "b=!!!a "
   ]
  },
  {
   "cell_type": "code",
   "execution_count": 56,
   "metadata": {},
   "outputs": [
    {
     "data": {
      "text/plain": [
       "1"
      ]
     },
     "execution_count": 56,
     "metadata": {},
     "output_type": "execute_result"
    }
   ],
   "source": [
    "3 & 5 "
   ]
  },
  {
   "cell_type": "code",
   "execution_count": 57,
   "metadata": {},
   "outputs": [
    {
     "data": {
      "text/plain": [
       "0"
      ]
     },
     "execution_count": 57,
     "metadata": {},
     "output_type": "execute_result"
    }
   ],
   "source": [
    "8 & 5"
   ]
  },
  {
   "cell_type": "code",
   "execution_count": 58,
   "metadata": {},
   "outputs": [
    {
     "data": {
      "text/plain": [
       "0"
      ]
     },
     "execution_count": 58,
     "metadata": {},
     "output_type": "execute_result"
    }
   ],
   "source": [
    "5 & 8"
   ]
  },
  {
   "cell_type": "code",
   "execution_count": 65,
   "metadata": {},
   "outputs": [
    {
     "data": {
      "text/plain": [
       "0"
      ]
     },
     "execution_count": 65,
     "metadata": {},
     "output_type": "execute_result"
    }
   ],
   "source": [
    "1 & 2"
   ]
  },
  {
   "cell_type": "code",
   "execution_count": 66,
   "metadata": {},
   "outputs": [
    {
     "data": {
      "text/plain": [
       "7-element Array{Int32,1}:\n",
       " 3\n",
       " 7\n",
       " 4\n",
       " 5\n",
       " 7\n",
       " 8\n",
       " 9"
      ]
     },
     "execution_count": 66,
     "metadata": {},
     "output_type": "execute_result"
    }
   ],
   "source": [
    "testarray=[3,7,4,5,7,8,9]\n"
   ]
  },
  {
   "cell_type": "code",
   "execution_count": 67,
   "metadata": {},
   "outputs": [
    {
     "ename": "BoundsError",
     "evalue": "BoundsError: attempt to access 7-element Array{Int32,1} at index [1, 3]",
     "output_type": "error",
     "traceback": [
      "BoundsError: attempt to access 7-element Array{Int32,1} at index [1, 3]",
      "",
      "Stacktrace:",
      " [1] getindex(::Array{Int32,1}, ::Int32, ::Int32) at .\\array.jl:732",
      " [2] top-level scope at In[67]:1"
     ]
    }
   ],
   "source": [
    "testarray[1,3]"
   ]
  },
  {
   "cell_type": "code",
   "execution_count": 69,
   "metadata": {},
   "outputs": [
    {
     "data": {
      "text/plain": [
       "Array{Int64,11}"
      ]
     },
     "execution_count": 69,
     "metadata": {},
     "output_type": "execute_result"
    }
   ],
   "source": [
    "x = Array{Int64, 11}"
   ]
  },
  {
   "cell_type": "code",
   "execution_count": 70,
   "metadata": {},
   "outputs": [
    {
     "data": {
      "text/plain": [
       "DataType"
      ]
     },
     "execution_count": 70,
     "metadata": {},
     "output_type": "execute_result"
    }
   ],
   "source": [
    "typeof(x)"
   ]
  },
  {
   "cell_type": "code",
   "execution_count": 15,
   "metadata": {},
   "outputs": [
    {
     "data": {
      "text/html": [
       "<table class=\"data-frame\"><thead><tr><th></th><th>A</th><th>B</th></tr><tr><th></th><th>Int32</th><th>String</th></tr></thead><tbody><tr><th>1</th><td>1</td><td>M</td></tr><tr><th>2</th><td>2</td><td>F</td></tr><tr><th>3</th><td>3</td><td>F</td></tr><tr><th>4</th><td>4</td><td>M</td></tr></tbody></table>"
      ],
      "text/latex": [
       "\\begin{tabular}{r|cc}\n",
       "\t& A & B\\\\\n",
       "\t\\hline\n",
       "\t1 & 1 & M \\\\\n",
       "\t2 & 2 & F \\\\\n",
       "\t3 & 3 & F \\\\\n",
       "\t4 & 4 & M \\\\\n",
       "\\end{tabular}\n"
      ],
      "text/plain": [
       "4×2 DataFrame\n",
       "│ Row │ A     │ B      │\n",
       "│     │ \u001b[90mInt32\u001b[39m │ \u001b[90mString\u001b[39m │\n",
       "├─────┼───────┼────────┤\n",
       "│ 1   │ 1     │ M      │\n",
       "│ 2   │ 2     │ F      │\n",
       "│ 3   │ 3     │ F      │\n",
       "│ 4   │ 4     │ M      │"
      ]
     },
     "execution_count": 15,
     "metadata": {},
     "output_type": "execute_result"
    }
   ],
   "source": [
    "df = DataFrame(A = 1:4, B = [\"M\", \"F\", \"F\", \"M\"])"
   ]
  },
  {
   "cell_type": "code",
   "execution_count": 16,
   "metadata": {},
   "outputs": [
    {
     "ename": "UndefVarError",
     "evalue": "UndefVarError: dropna not defined",
     "output_type": "error",
     "traceback": [
      "UndefVarError: dropna not defined",
      "",
      "Stacktrace:",
      " [1] top-level scope at In[16]:1"
     ]
    }
   ],
   "source": [
    "Plots.histogram(dropna(train[:ApplicantIncome]),bins=50,xlabel=\"ApplicantIncome\",labels=\"Frequency\") "
   ]
  },
  {
   "cell_type": "code",
   "execution_count": 17,
   "metadata": {},
   "outputs": [
    {
     "name": "stdout",
     "output_type": "stream",
     "text": [
      "\u001b[32m\u001b[1m  Updating\u001b[22m\u001b[39m registry at `C:\\Users\\NethikaSuraweera\\.julia\\registries\\General`\n",
      "\u001b[32m\u001b[1m  Updating\u001b[22m\u001b[39m git-repo `https://github.com/JuliaRegistries/General.git`\n",
      "\u001b[2K\u001b[36m\u001b[1mFetching:\u001b[22m\u001b[39m [========================================>]  100.0 %.0 %                                     ]  6.5 %]  12.2 %========>                                ]  18.9 %]  30.6 %.0 %]  41.0 %===================>                     ]  45.8 %\u001b[36m\u001b[1mFetching:\u001b[22m\u001b[39m [=====================>                   ]  50.6 %.7 %             ]  67.2 %72.9 %====================================>    ]  88.7 %94.3 %\u001b[?25h\u001b[32m\u001b[1m Resolving\u001b[22m\u001b[39m package versions...\n",
      "\u001b[32m\u001b[1m Installed\u001b[22m\u001b[39m OffsetArrays ─── v0.9.0\n",
      "\u001b[32m\u001b[1m Installed\u001b[22m\u001b[39m BinaryProvider ─ v0.5.3\n",
      "\u001b[32m\u001b[1m Installed\u001b[22m\u001b[39m JSON ─────────── v0.20.0\n",
      "\u001b[32m\u001b[1m Installed\u001b[22m\u001b[39m StaticArrays ─── v0.10.0\n",
      "\u001b[32m\u001b[1m  Updating\u001b[22m\u001b[39m `C:\\Users\\NethikaSuraweera\\.julia\\environments\\v1.0\\Project.toml`\n",
      " \u001b[90m [438e738f]\u001b[39m\u001b[92m + PyCall v1.18.5\u001b[39m\n",
      "\u001b[32m\u001b[1m  Updating\u001b[22m\u001b[39m `C:\\Users\\NethikaSuraweera\\.julia\\environments\\v1.0\\Manifest.toml`\n",
      " \u001b[90m [b99e7846]\u001b[39m\u001b[93m ↑ BinaryProvider v0.5.2 ⇒ v0.5.3\u001b[39m\n",
      " \u001b[90m [682c06a0]\u001b[39m\u001b[93m ↑ JSON v0.19.0 ⇒ v0.20.0\u001b[39m\n",
      " \u001b[90m [6fe1bfb0]\u001b[39m\u001b[93m ↑ OffsetArrays v0.8.1 ⇒ v0.9.0\u001b[39m\n",
      " \u001b[90m [90137ffa]\u001b[39m\u001b[93m ↑ StaticArrays v0.9.2 ⇒ v0.10.0\u001b[39m\n"
     ]
    }
   ],
   "source": [
    "Pkg.add(\"PyCall\")"
   ]
  },
  {
   "cell_type": "code",
   "execution_count": null,
   "metadata": {
    "collapsed": true
   },
   "outputs": [],
   "source": []
  }
 ],
 "metadata": {
  "kernelspec": {
   "display_name": "Julia 1.0.2",
   "language": "julia",
   "name": "julia-1.0"
  },
  "language_info": {
   "file_extension": ".jl",
   "mimetype": "application/julia",
   "name": "julia",
   "version": "1.0.2"
  }
 },
 "nbformat": 4,
 "nbformat_minor": 2
}
